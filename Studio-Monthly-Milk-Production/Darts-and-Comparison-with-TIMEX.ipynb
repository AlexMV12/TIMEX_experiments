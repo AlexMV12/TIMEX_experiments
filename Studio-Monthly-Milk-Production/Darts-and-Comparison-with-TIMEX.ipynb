{
 "cells": [
  {
   "cell_type": "code",
   "execution_count": 1,
   "id": "fa12abbf-fb80-4f8c-a36c-5cd303d096fc",
   "metadata": {},
   "outputs": [],
   "source": [
    "import sys\n",
    "import time\n",
    "import pandas as pd\n",
    "import numpy as np\n",
    "import matplotlib.pyplot as plt\n",
    "from datetime import datetime\n",
    "from functools import reduce\n",
    "\n",
    "from darts import TimeSeries\n",
    "from darts.models import (\n",
    "    NaiveSeasonal,\n",
    "    NaiveDrift,\n",
    "    Prophet,\n",
    "    ExponentialSmoothing,\n",
    "    ARIMA,\n",
    "    AutoARIMA,\n",
    "    RegressionEnsembleModel,\n",
    "    RegressionModel,\n",
    "    Theta,\n",
    "    FFT,\n",
    "    RNNModel\n",
    ")\n",
    "\n",
    "from darts.metrics import mape, mase, mae, rmse\n",
    "from darts.utils.statistics import check_seasonality, plot_acf, plot_residuals_analysis\n",
    "from darts.datasets import AirPassengersDataset\n",
    "\n",
    "import warnings\n",
    "warnings.filterwarnings(\"ignore\")\n",
    "import logging\n",
    "logging.disable(logging.CRITICAL)\n",
    "import pickle"
   ]
  },
  {
   "cell_type": "markdown",
   "id": "b5571730-916c-473f-87db-3609d7e7d5e5",
   "metadata": {},
   "source": [
    "# Delta 1"
   ]
  },
  {
   "cell_type": "code",
   "execution_count": 2,
   "id": "5d6ac2dd-c92c-49e7-8e42-f12e016676c9",
   "metadata": {},
   "outputs": [],
   "source": [
    "name = 'Production'"
   ]
  },
  {
   "cell_type": "code",
   "execution_count": 3,
   "id": "f5d30dd0-e11b-481a-bce2-7e54086cd8fa",
   "metadata": {},
   "outputs": [],
   "source": [
    "delta = 1"
   ]
  },
  {
   "cell_type": "code",
   "execution_count": 4,
   "id": "be0fe8d8-c17a-402b-9f86-9bb5fae25ee1",
   "metadata": {},
   "outputs": [],
   "source": [
    "df = pd.read_csv(\"monthly-milk-production.csv\", parse_dates=[\"Month\"], index_col=\"Month\")"
   ]
  },
  {
   "cell_type": "code",
   "execution_count": 5,
   "id": "67327326-dc0d-496a-8d0c-d52154de2d77",
   "metadata": {},
   "outputs": [
    {
     "data": {
      "text/html": [
       "<div>\n",
       "<style scoped>\n",
       "    .dataframe tbody tr th:only-of-type {\n",
       "        vertical-align: middle;\n",
       "    }\n",
       "\n",
       "    .dataframe tbody tr th {\n",
       "        vertical-align: top;\n",
       "    }\n",
       "\n",
       "    .dataframe thead th {\n",
       "        text-align: right;\n",
       "    }\n",
       "</style>\n",
       "<table border=\"1\" class=\"dataframe\">\n",
       "  <thead>\n",
       "    <tr style=\"text-align: right;\">\n",
       "      <th></th>\n",
       "      <th>Production</th>\n",
       "    </tr>\n",
       "    <tr>\n",
       "      <th>Month</th>\n",
       "      <th></th>\n",
       "    </tr>\n",
       "  </thead>\n",
       "  <tbody>\n",
       "    <tr>\n",
       "      <th>1962-01-01</th>\n",
       "      <td>589</td>\n",
       "    </tr>\n",
       "    <tr>\n",
       "      <th>1962-02-01</th>\n",
       "      <td>561</td>\n",
       "    </tr>\n",
       "    <tr>\n",
       "      <th>1962-03-01</th>\n",
       "      <td>640</td>\n",
       "    </tr>\n",
       "    <tr>\n",
       "      <th>1962-04-01</th>\n",
       "      <td>656</td>\n",
       "    </tr>\n",
       "    <tr>\n",
       "      <th>1962-05-01</th>\n",
       "      <td>727</td>\n",
       "    </tr>\n",
       "    <tr>\n",
       "      <th>...</th>\n",
       "      <td>...</td>\n",
       "    </tr>\n",
       "    <tr>\n",
       "      <th>1975-08-01</th>\n",
       "      <td>858</td>\n",
       "    </tr>\n",
       "    <tr>\n",
       "      <th>1975-09-01</th>\n",
       "      <td>817</td>\n",
       "    </tr>\n",
       "    <tr>\n",
       "      <th>1975-10-01</th>\n",
       "      <td>827</td>\n",
       "    </tr>\n",
       "    <tr>\n",
       "      <th>1975-11-01</th>\n",
       "      <td>797</td>\n",
       "    </tr>\n",
       "    <tr>\n",
       "      <th>1975-12-01</th>\n",
       "      <td>843</td>\n",
       "    </tr>\n",
       "  </tbody>\n",
       "</table>\n",
       "<p>168 rows × 1 columns</p>\n",
       "</div>"
      ],
      "text/plain": [
       "            Production\n",
       "Month                 \n",
       "1962-01-01         589\n",
       "1962-02-01         561\n",
       "1962-03-01         640\n",
       "1962-04-01         656\n",
       "1962-05-01         727\n",
       "...                ...\n",
       "1975-08-01         858\n",
       "1975-09-01         817\n",
       "1975-10-01         827\n",
       "1975-11-01         797\n",
       "1975-12-01         843\n",
       "\n",
       "[168 rows x 1 columns]"
      ]
     },
     "execution_count": 5,
     "metadata": {},
     "output_type": "execute_result"
    }
   ],
   "source": [
    "df"
   ]
  },
  {
   "cell_type": "code",
   "execution_count": 6,
   "id": "cce1fd4c-f182-488f-8a24-d67c809467cc",
   "metadata": {},
   "outputs": [],
   "source": [
    "series = TimeSeries.from_series(df[name])"
   ]
  },
  {
   "cell_type": "markdown",
   "id": "c669cc83-1778-4cd1-be39-726f4c462b51",
   "metadata": {},
   "source": [
    "## Darts"
   ]
  },
  {
   "cell_type": "code",
   "execution_count": 7,
   "id": "423f7be2-e80d-43a9-8c0a-608c03ac5ecf",
   "metadata": {},
   "outputs": [],
   "source": [
    "models = [ExponentialSmoothing(), AutoARIMA(), Prophet()]"
   ]
  },
  {
   "cell_type": "code",
   "execution_count": 8,
   "id": "85516ed1-b438-43a6-b7ce-e46bfd311de7",
   "metadata": {},
   "outputs": [
    {
     "data": {
      "application/vnd.jupyter.widget-view+json": {
       "model_id": "8fc6f5990cf0427a979b04ad355446f1",
       "version_major": 2,
       "version_minor": 0
      },
      "text/plain": [
       "  0%|          | 0/24 [00:00<?, ?it/s]"
      ]
     },
     "metadata": {},
     "output_type": "display_data"
    },
    {
     "name": "stdout",
     "output_type": "stream",
     "text": [
      "Exponential smoothing: 3.678915023803711\n"
     ]
    },
    {
     "data": {
      "application/vnd.jupyter.widget-view+json": {
       "model_id": "693552dedac44e1a8e6500dbdec2280a",
       "version_major": 2,
       "version_minor": 0
      },
      "text/plain": [
       "  0%|          | 0/24 [00:00<?, ?it/s]"
      ]
     },
     "metadata": {},
     "output_type": "display_data"
    },
    {
     "name": "stdout",
     "output_type": "stream",
     "text": [
      "Auto-ARIMA: 132.6729030609131\n"
     ]
    },
    {
     "data": {
      "application/vnd.jupyter.widget-view+json": {
       "model_id": "026800b44cf9499ba091a04a15c0b25d",
       "version_major": 2,
       "version_minor": 0
      },
      "text/plain": [
       "  0%|          | 0/24 [00:00<?, ?it/s]"
      ]
     },
     "metadata": {},
     "output_type": "display_data"
    },
    {
     "name": "stdout",
     "output_type": "stream",
     "text": [
      "Prophet: 38.98232698440552\n"
     ]
    }
   ],
   "source": [
    "import functools\n",
    "\n",
    "backtests = []\n",
    "\n",
    "for model in models:\n",
    "    print(f\"{model}: running...\")\n",
    "    initial_time = time.time()\n",
    "    hist_pred = model.historical_forecasts(series,\n",
    "                            start=pd.Timestamp('1974-01-01'),\n",
    "                            forecast_horizon=delta, stride=delta, verbose=True, last_points_only=False)\n",
    "    hist_pred = functools.reduce(lambda a, b: a.append(b), hist_pred)\n",
    "    backtests.append(hist_pred)\n",
    "    \n",
    "    final_time = time.time() - initial_time\n",
    "    print(f\"{model}: final time spent: {round(final_time, 3)}\")"
   ]
  },
  {
   "cell_type": "code",
   "execution_count": 9,
   "id": "908f0c1b",
   "metadata": {
    "collapsed": false,
    "jupyter": {
     "outputs_hidden": false
    },
    "pycharm": {
     "name": "#%%\n"
    }
   },
   "outputs": [
    {
     "data": {
      "application/vnd.jupyter.widget-view+json": {
       "model_id": "40b286d477c64f778caa229207b61686",
       "version_major": 2,
       "version_minor": 0
      },
      "text/plain": [
       "  0%|          | 0/24 [00:00<?, ?it/s]"
      ]
     },
     "metadata": {},
     "output_type": "display_data"
    }
   ],
   "source": [
    "from darts.dataprocessing.transformers import Scaler\n",
    "\n",
    "print(f\"LSTM: running...\")\n",
    "initial_time = time.time()\n",
    "transformer = Scaler()\n",
    "transformed_series = transformer.fit_transform(series)\n",
    "lstm = RNNModel(model='LSTM', input_chunk_length=round(len(series)/4), output_chunk_length=1)\n",
    "models.append(lstm)\n",
    "\n",
    "hist_pred =  lstm.historical_forecasts(transformed_series,\n",
    "                            start=pd.Timestamp('1974-01-01'),\n",
    "                            forecast_horizon=delta, stride=delta, verbose=True, last_points_only=False)\n",
    "hist_pred = functools.reduce(lambda a, b: a.append(b), hist_pred)\n",
    "backtests.append(transformer.inverse_transform(hist_pred))\n",
    "final_time = time.time() - initial_time\n",
    "print(f\"LSTM: final time spent: {round(final_time, 3)}\")"
   ]
  },
  {
   "cell_type": "code",
   "execution_count": 10,
   "id": "cc626953-68d2-43b3-aeb0-b8a3f35b0cf6",
   "metadata": {},
   "outputs": [],
   "source": [
    "darts_maes = {}\n",
    "darts_rmses = {}\n",
    "\n",
    "for i, m in enumerate(models):\n",
    "    prediction = backtests[i]\n",
    "    err_mae = mae(backtests[i], series)\n",
    "    err_rmse = rmse(backtests[i], series)\n",
    "    darts_maes[m] = err_mae\n",
    "    darts_rmses[m] = err_rmse\n",
    "    "
   ]
  },
  {
   "cell_type": "markdown",
   "id": "3e759cd8-c25a-4dee-8630-ff76489cc5c9",
   "metadata": {},
   "source": [
    "## Timex"
   ]
  },
  {
   "cell_type": "code",
   "execution_count": 11,
   "id": "872cac3b-ac12-45e3-af7e-8284e7028d82",
   "metadata": {},
   "outputs": [],
   "source": [
    "with open(f\"univariate/delta_{delta}/historical_predictions.pkl\", 'rb') as file:\n",
    "    p = pickle.load(file)"
   ]
  },
  {
   "cell_type": "code",
   "execution_count": 12,
   "id": "76affeb3-08a2-4b4b-8b8d-0cf8c57bff9c",
   "metadata": {},
   "outputs": [],
   "source": [
    "timex_maes = {}\n",
    "timex_rmses = {}\n",
    "\n",
    "for i, m in enumerate(p):\n",
    "    pred_timex = p[m]\n",
    "    pred_timex = pred_timex[name].astype('float')\n",
    "    pred_timex = TimeSeries.from_series(pred_timex)\n",
    "    pred_timex = pred_timex.slice_intersect(backtests[0])\n",
    "    assert len(pred_timex) == len(backtests[0])\n",
    "    \n",
    "    err_mae = mae(pred_timex, series)\n",
    "    err_rmse = rmse(pred_timex, series)\n",
    "    \n",
    "    timex_maes[m] = err_mae\n",
    "    timex_rmses[m] = err_rmse"
   ]
  },
  {
   "cell_type": "code",
   "execution_count": 1,
   "id": "325ed382-eb96-4173-a494-17f5794f20a8",
   "metadata": {
    "tags": []
   },
   "outputs": [
    {
     "name": "stdout",
     "output_type": "stream",
     "text": [
      "########## FINAL RESULTS ##########\n"
     ]
    },
    {
     "ename": "NameError",
     "evalue": "name 'name' is not defined",
     "output_type": "error",
     "traceback": [
      "\u001b[0;31m---------------------------------------------------------------------------\u001b[0m",
      "\u001b[0;31mNameError\u001b[0m                                 Traceback (most recent call last)",
      "\u001b[0;32m<ipython-input-1-b69043bbb6ea>\u001b[0m in \u001b[0;36m<module>\u001b[0;34m\u001b[0m\n\u001b[1;32m      1\u001b[0m \u001b[0mprint\u001b[0m\u001b[0;34m(\u001b[0m\u001b[0;34m\"########## FINAL RESULTS ##########\"\u001b[0m\u001b[0;34m)\u001b[0m\u001b[0;34m\u001b[0m\u001b[0;34m\u001b[0m\u001b[0m\n\u001b[0;32m----> 2\u001b[0;31m \u001b[0mprint\u001b[0m\u001b[0;34m(\u001b[0m\u001b[0;34mf\"Case: {name}, delta: {delta}\"\u001b[0m\u001b[0;34m)\u001b[0m\u001b[0;34m\u001b[0m\u001b[0;34m\u001b[0m\u001b[0m\n\u001b[0m\u001b[1;32m      3\u001b[0m \u001b[0mprint\u001b[0m\u001b[0;34m(\u001b[0m\u001b[0;34m\"MAES\"\u001b[0m\u001b[0;34m)\u001b[0m\u001b[0;34m\u001b[0m\u001b[0;34m\u001b[0m\u001b[0m\n\u001b[1;32m      4\u001b[0m \u001b[0mprint\u001b[0m\u001b[0;34m(\u001b[0m\u001b[0;34m\"Darts results:\"\u001b[0m\u001b[0;34m)\u001b[0m\u001b[0;34m\u001b[0m\u001b[0;34m\u001b[0m\u001b[0m\n\u001b[1;32m      5\u001b[0m \u001b[0;32mfor\u001b[0m \u001b[0mi\u001b[0m\u001b[0;34m,\u001b[0m \u001b[0mm\u001b[0m \u001b[0;32min\u001b[0m \u001b[0menumerate\u001b[0m\u001b[0;34m(\u001b[0m\u001b[0mdarts_maes\u001b[0m\u001b[0;34m)\u001b[0m\u001b[0;34m:\u001b[0m\u001b[0;34m\u001b[0m\u001b[0;34m\u001b[0m\u001b[0m\n",
      "\u001b[0;31mNameError\u001b[0m: name 'name' is not defined"
     ]
    }
   ],
   "source": [
    "print(\"########## FINAL RESULTS ##########\")\n",
    "print(f\"Case: Monthly Milk Production, delta: {delta}\")\n",
    "print(\"MAES\")\n",
    "print(\"Darts results:\")\n",
    "for i, m in enumerate(darts_maes):\n",
    "    print(f\"{m}, MAE={round(darts_maes[m], 3)}\")\n",
    "\n",
    "print(\"Timex results:\")\n",
    "for i, m in enumerate(timex_maes):\n",
    "    print(f\"{m}, MAE={round(timex_maes[m], 3)}\")\n",
    "\n",
    "print(\"------------------------\")\n",
    "print(\"RMSES\")\n",
    "print(\"Darts results:\")\n",
    "\n",
    "for i, m in enumerate(darts_rmses):\n",
    "    print(f\"{m}, RMSE={round(darts_rmses[m], 3)}\")\n",
    "\n",
    "print(\"Timex results:\")\n",
    "for i, m in enumerate(timex_rmses):\n",
    "    print(f\"{m}, RMSE={round(timex_rmses[m], 3)}\")"
   ]
  },
  {
   "cell_type": "markdown",
   "id": "63e5140c-59b6-474b-8838-caf39e7e613e",
   "metadata": {},
   "source": [
    "# Delta 3"
   ]
  },
  {
   "cell_type": "code",
   "execution_count": 2,
   "id": "63aebe49-94ee-4f45-b3c5-b73103a82aac",
   "metadata": {},
   "outputs": [],
   "source": [
    "name = 'Production'"
   ]
  },
  {
   "cell_type": "code",
   "execution_count": 3,
   "id": "65e7d38a-64fc-4f36-a413-2b0396b81685",
   "metadata": {},
   "outputs": [],
   "source": [
    "delta = 3"
   ]
  },
  {
   "cell_type": "code",
   "execution_count": 4,
   "id": "4cf1edd1-1d3e-4595-869f-2a6b26a2a385",
   "metadata": {},
   "outputs": [],
   "source": [
    "df = pd.read_csv(\"monthly-milk-production.csv\", parse_dates=[\"Month\"], index_col=\"Month\")"
   ]
  },
  {
   "cell_type": "code",
   "execution_count": 5,
   "id": "9d98d76c-0c3f-4e20-89d1-e9bb4c4ec2fd",
   "metadata": {},
   "outputs": [
    {
     "data": {
      "text/html": [
       "<div>\n",
       "<style scoped>\n",
       "    .dataframe tbody tr th:only-of-type {\n",
       "        vertical-align: middle;\n",
       "    }\n",
       "\n",
       "    .dataframe tbody tr th {\n",
       "        vertical-align: top;\n",
       "    }\n",
       "\n",
       "    .dataframe thead th {\n",
       "        text-align: right;\n",
       "    }\n",
       "</style>\n",
       "<table border=\"1\" class=\"dataframe\">\n",
       "  <thead>\n",
       "    <tr style=\"text-align: right;\">\n",
       "      <th></th>\n",
       "      <th>Production</th>\n",
       "    </tr>\n",
       "    <tr>\n",
       "      <th>Month</th>\n",
       "      <th></th>\n",
       "    </tr>\n",
       "  </thead>\n",
       "  <tbody>\n",
       "    <tr>\n",
       "      <th>1962-01-01</th>\n",
       "      <td>589</td>\n",
       "    </tr>\n",
       "    <tr>\n",
       "      <th>1962-02-01</th>\n",
       "      <td>561</td>\n",
       "    </tr>\n",
       "    <tr>\n",
       "      <th>1962-03-01</th>\n",
       "      <td>640</td>\n",
       "    </tr>\n",
       "    <tr>\n",
       "      <th>1962-04-01</th>\n",
       "      <td>656</td>\n",
       "    </tr>\n",
       "    <tr>\n",
       "      <th>1962-05-01</th>\n",
       "      <td>727</td>\n",
       "    </tr>\n",
       "    <tr>\n",
       "      <th>...</th>\n",
       "      <td>...</td>\n",
       "    </tr>\n",
       "    <tr>\n",
       "      <th>1975-08-01</th>\n",
       "      <td>858</td>\n",
       "    </tr>\n",
       "    <tr>\n",
       "      <th>1975-09-01</th>\n",
       "      <td>817</td>\n",
       "    </tr>\n",
       "    <tr>\n",
       "      <th>1975-10-01</th>\n",
       "      <td>827</td>\n",
       "    </tr>\n",
       "    <tr>\n",
       "      <th>1975-11-01</th>\n",
       "      <td>797</td>\n",
       "    </tr>\n",
       "    <tr>\n",
       "      <th>1975-12-01</th>\n",
       "      <td>843</td>\n",
       "    </tr>\n",
       "  </tbody>\n",
       "</table>\n",
       "<p>168 rows × 1 columns</p>\n",
       "</div>"
      ],
      "text/plain": [
       "            Production\n",
       "Month                 \n",
       "1962-01-01         589\n",
       "1962-02-01         561\n",
       "1962-03-01         640\n",
       "1962-04-01         656\n",
       "1962-05-01         727\n",
       "...                ...\n",
       "1975-08-01         858\n",
       "1975-09-01         817\n",
       "1975-10-01         827\n",
       "1975-11-01         797\n",
       "1975-12-01         843\n",
       "\n",
       "[168 rows x 1 columns]"
      ]
     },
     "execution_count": 5,
     "metadata": {},
     "output_type": "execute_result"
    }
   ],
   "source": [
    "df"
   ]
  },
  {
   "cell_type": "code",
   "execution_count": 6,
   "id": "2f78c381-ba8f-4f4a-937b-c455e0ee827f",
   "metadata": {},
   "outputs": [],
   "source": [
    "series = TimeSeries.from_series(df[name])"
   ]
  },
  {
   "cell_type": "markdown",
   "id": "63ba31f1-f853-43da-9733-6acbb3cded4c",
   "metadata": {},
   "source": [
    "## Darts"
   ]
  },
  {
   "cell_type": "code",
   "execution_count": 7,
   "id": "d7e29267-bfd0-430b-b746-d509ff8fdf4d",
   "metadata": {},
   "outputs": [],
   "source": [
    "models = [ExponentialSmoothing(), AutoARIMA(), Prophet()]"
   ]
  },
  {
   "cell_type": "code",
   "execution_count": 8,
   "id": "dd3d7aaf-e3b9-4c66-8118-f0a1ff783504",
   "metadata": {},
   "outputs": [
    {
     "data": {
      "application/vnd.jupyter.widget-view+json": {
       "model_id": "8fc6f5990cf0427a979b04ad355446f1",
       "version_major": 2,
       "version_minor": 0
      },
      "text/plain": [
       "  0%|          | 0/24 [00:00<?, ?it/s]"
      ]
     },
     "metadata": {},
     "output_type": "display_data"
    },
    {
     "name": "stdout",
     "output_type": "stream",
     "text": [
      "Exponential smoothing: 3.678915023803711\n"
     ]
    },
    {
     "data": {
      "application/vnd.jupyter.widget-view+json": {
       "model_id": "693552dedac44e1a8e6500dbdec2280a",
       "version_major": 2,
       "version_minor": 0
      },
      "text/plain": [
       "  0%|          | 0/24 [00:00<?, ?it/s]"
      ]
     },
     "metadata": {},
     "output_type": "display_data"
    },
    {
     "name": "stdout",
     "output_type": "stream",
     "text": [
      "Auto-ARIMA: 132.6729030609131\n"
     ]
    },
    {
     "data": {
      "application/vnd.jupyter.widget-view+json": {
       "model_id": "026800b44cf9499ba091a04a15c0b25d",
       "version_major": 2,
       "version_minor": 0
      },
      "text/plain": [
       "  0%|          | 0/24 [00:00<?, ?it/s]"
      ]
     },
     "metadata": {},
     "output_type": "display_data"
    },
    {
     "name": "stdout",
     "output_type": "stream",
     "text": [
      "Prophet: 38.98232698440552\n"
     ]
    }
   ],
   "source": [
    "import functools\n",
    "\n",
    "backtests = []\n",
    "\n",
    "for model in models:\n",
    "    print(f\"{model}: running...\")\n",
    "    initial_time = time.time()\n",
    "    hist_pred = model.historical_forecasts(series,\n",
    "                            start=pd.Timestamp('1974-01-01'),\n",
    "                            forecast_horizon=delta, stride=delta, verbose=True, last_points_only=False)\n",
    "    hist_pred = functools.reduce(lambda a, b: a.append(b), hist_pred)\n",
    "    backtests.append(hist_pred)\n",
    "    \n",
    "    final_time = time.time() - initial_time\n",
    "    print(f\"{model}: final time spent: {round(final_time, 3)}\")"
   ]
  },
  {
   "cell_type": "code",
   "execution_count": 9,
   "id": "2ca93545-24da-44b2-8813-b07bde650b01",
   "metadata": {
    "collapsed": false,
    "jupyter": {
     "outputs_hidden": false
    },
    "pycharm": {
     "name": "#%%\n"
    }
   },
   "outputs": [
    {
     "data": {
      "application/vnd.jupyter.widget-view+json": {
       "model_id": "40b286d477c64f778caa229207b61686",
       "version_major": 2,
       "version_minor": 0
      },
      "text/plain": [
       "  0%|          | 0/24 [00:00<?, ?it/s]"
      ]
     },
     "metadata": {},
     "output_type": "display_data"
    }
   ],
   "source": [
    "from darts.dataprocessing.transformers import Scaler\n",
    "\n",
    "print(f\"LSTM: running...\")\n",
    "initial_time = time.time()\n",
    "transformer = Scaler()\n",
    "transformed_series = transformer.fit_transform(series)\n",
    "lstm = RNNModel(model='LSTM', input_chunk_length=round(len(series)/4), output_chunk_length=1)\n",
    "models.append(lstm)\n",
    "\n",
    "hist_pred =  lstm.historical_forecasts(transformed_series,\n",
    "                            start=pd.Timestamp('1974-01-01'),\n",
    "                            forecast_horizon=delta, stride=delta, verbose=True, last_points_only=False)\n",
    "hist_pred = functools.reduce(lambda a, b: a.append(b), hist_pred)\n",
    "backtests.append(transformer.inverse_transform(hist_pred))\n",
    "final_time = time.time() - initial_time\n",
    "print(f\"LSTM: final time spent: {round(final_time, 3)}\")"
   ]
  },
  {
   "cell_type": "code",
   "execution_count": 10,
   "id": "558b32b2-05a2-4d01-84c9-9a0634e5580b",
   "metadata": {},
   "outputs": [],
   "source": [
    "darts_maes = {}\n",
    "darts_rmses = {}\n",
    "\n",
    "for i, m in enumerate(models):\n",
    "    prediction = backtests[i]\n",
    "    err_mae = mae(backtests[i], series)\n",
    "    err_rmse = rmse(backtests[i], series)\n",
    "    darts_maes[m] = err_mae\n",
    "    darts_rmses[m] = err_rmse\n",
    "    "
   ]
  },
  {
   "cell_type": "markdown",
   "id": "46f8027b-7781-41e6-bf64-6102f84882a8",
   "metadata": {},
   "source": [
    "## Timex"
   ]
  },
  {
   "cell_type": "code",
   "execution_count": 11,
   "id": "27b5a85c-b581-4a46-a576-4774f1337503",
   "metadata": {},
   "outputs": [],
   "source": [
    "with open(f\"univariate/delta_{delta}/historical_predictions.pkl\", 'rb') as file:\n",
    "    p = pickle.load(file)"
   ]
  },
  {
   "cell_type": "code",
   "execution_count": 12,
   "id": "f5c26524-18d2-4434-be49-5854fc1a6c57",
   "metadata": {},
   "outputs": [],
   "source": [
    "timex_maes = {}\n",
    "timex_rmses = {}\n",
    "\n",
    "for i, m in enumerate(p):\n",
    "    pred_timex = p[m]\n",
    "    pred_timex = pred_timex[name].astype('float')\n",
    "    pred_timex = TimeSeries.from_series(pred_timex)\n",
    "    pred_timex = pred_timex.slice_intersect(backtests[0])\n",
    "    assert len(pred_timex) == len(backtests[0])\n",
    "    \n",
    "    err_mae = mae(pred_timex, series)\n",
    "    err_rmse = rmse(pred_timex, series)\n",
    "    \n",
    "    timex_maes[m] = err_mae\n",
    "    timex_rmses[m] = err_rmse"
   ]
  },
  {
   "cell_type": "code",
   "execution_count": 1,
   "id": "1dea8803-872d-487c-9fb4-37ab4f9e25df",
   "metadata": {
    "tags": []
   },
   "outputs": [
    {
     "name": "stdout",
     "output_type": "stream",
     "text": [
      "########## FINAL RESULTS ##########\n"
     ]
    },
    {
     "ename": "NameError",
     "evalue": "name 'name' is not defined",
     "output_type": "error",
     "traceback": [
      "\u001b[0;31m---------------------------------------------------------------------------\u001b[0m",
      "\u001b[0;31mNameError\u001b[0m                                 Traceback (most recent call last)",
      "\u001b[0;32m<ipython-input-1-b69043bbb6ea>\u001b[0m in \u001b[0;36m<module>\u001b[0;34m\u001b[0m\n\u001b[1;32m      1\u001b[0m \u001b[0mprint\u001b[0m\u001b[0;34m(\u001b[0m\u001b[0;34m\"########## FINAL RESULTS ##########\"\u001b[0m\u001b[0;34m)\u001b[0m\u001b[0;34m\u001b[0m\u001b[0;34m\u001b[0m\u001b[0m\n\u001b[0;32m----> 2\u001b[0;31m \u001b[0mprint\u001b[0m\u001b[0;34m(\u001b[0m\u001b[0;34mf\"Case: {name}, delta: {delta}\"\u001b[0m\u001b[0;34m)\u001b[0m\u001b[0;34m\u001b[0m\u001b[0;34m\u001b[0m\u001b[0m\n\u001b[0m\u001b[1;32m      3\u001b[0m \u001b[0mprint\u001b[0m\u001b[0;34m(\u001b[0m\u001b[0;34m\"MAES\"\u001b[0m\u001b[0;34m)\u001b[0m\u001b[0;34m\u001b[0m\u001b[0;34m\u001b[0m\u001b[0m\n\u001b[1;32m      4\u001b[0m \u001b[0mprint\u001b[0m\u001b[0;34m(\u001b[0m\u001b[0;34m\"Darts results:\"\u001b[0m\u001b[0;34m)\u001b[0m\u001b[0;34m\u001b[0m\u001b[0;34m\u001b[0m\u001b[0m\n\u001b[1;32m      5\u001b[0m \u001b[0;32mfor\u001b[0m \u001b[0mi\u001b[0m\u001b[0;34m,\u001b[0m \u001b[0mm\u001b[0m \u001b[0;32min\u001b[0m \u001b[0menumerate\u001b[0m\u001b[0;34m(\u001b[0m\u001b[0mdarts_maes\u001b[0m\u001b[0;34m)\u001b[0m\u001b[0;34m:\u001b[0m\u001b[0;34m\u001b[0m\u001b[0;34m\u001b[0m\u001b[0m\n",
      "\u001b[0;31mNameError\u001b[0m: name 'name' is not defined"
     ]
    }
   ],
   "source": [
    "print(\"########## FINAL RESULTS ##########\")\n",
    "print(f\"Case: Monthly Milk Production, delta: {delta}\")\n",
    "print(\"MAES\")\n",
    "print(\"Darts results:\")\n",
    "for i, m in enumerate(darts_maes):\n",
    "    print(f\"{m}, MAE={round(darts_maes[m], 3)}\")\n",
    "\n",
    "print(\"Timex results:\")\n",
    "for i, m in enumerate(timex_maes):\n",
    "    print(f\"{m}, MAE={round(timex_maes[m], 3)}\")\n",
    "\n",
    "print(\"------------------------\")\n",
    "print(\"RMSES\")\n",
    "print(\"Darts results:\")\n",
    "\n",
    "for i, m in enumerate(darts_rmses):\n",
    "    print(f\"{m}, RMSE={round(darts_rmses[m], 3)}\")\n",
    "\n",
    "print(\"Timex results:\")\n",
    "for i, m in enumerate(timex_rmses):\n",
    "    print(f\"{m}, RMSE={round(timex_rmses[m], 3)}\")"
   ]
  },
  {
   "cell_type": "markdown",
   "id": "ef7cf940-ac91-4b03-b67b-ad25cdd1a9e2",
   "metadata": {},
   "source": [
    "# Delta 6"
   ]
  },
  {
   "cell_type": "code",
   "execution_count": 2,
   "id": "ffc2fc91-1eee-4592-8ffc-3b9f43926959",
   "metadata": {},
   "outputs": [],
   "source": [
    "name = 'Production'"
   ]
  },
  {
   "cell_type": "code",
   "execution_count": 3,
   "id": "0c5c3286-bb40-494c-971c-57612c4fefd3",
   "metadata": {},
   "outputs": [],
   "source": [
    "delta = 6"
   ]
  },
  {
   "cell_type": "code",
   "execution_count": 4,
   "id": "325e09f5-f7dd-44dc-96e6-7d5808bd28da",
   "metadata": {},
   "outputs": [],
   "source": [
    "df = pd.read_csv(\"monthly-milk-production.csv\", parse_dates=[\"Month\"], index_col=\"Month\")"
   ]
  },
  {
   "cell_type": "code",
   "execution_count": 5,
   "id": "9a7e42c9-c919-4417-bcdb-3175ec406a7d",
   "metadata": {},
   "outputs": [
    {
     "data": {
      "text/html": [
       "<div>\n",
       "<style scoped>\n",
       "    .dataframe tbody tr th:only-of-type {\n",
       "        vertical-align: middle;\n",
       "    }\n",
       "\n",
       "    .dataframe tbody tr th {\n",
       "        vertical-align: top;\n",
       "    }\n",
       "\n",
       "    .dataframe thead th {\n",
       "        text-align: right;\n",
       "    }\n",
       "</style>\n",
       "<table border=\"1\" class=\"dataframe\">\n",
       "  <thead>\n",
       "    <tr style=\"text-align: right;\">\n",
       "      <th></th>\n",
       "      <th>Production</th>\n",
       "    </tr>\n",
       "    <tr>\n",
       "      <th>Month</th>\n",
       "      <th></th>\n",
       "    </tr>\n",
       "  </thead>\n",
       "  <tbody>\n",
       "    <tr>\n",
       "      <th>1962-01-01</th>\n",
       "      <td>589</td>\n",
       "    </tr>\n",
       "    <tr>\n",
       "      <th>1962-02-01</th>\n",
       "      <td>561</td>\n",
       "    </tr>\n",
       "    <tr>\n",
       "      <th>1962-03-01</th>\n",
       "      <td>640</td>\n",
       "    </tr>\n",
       "    <tr>\n",
       "      <th>1962-04-01</th>\n",
       "      <td>656</td>\n",
       "    </tr>\n",
       "    <tr>\n",
       "      <th>1962-05-01</th>\n",
       "      <td>727</td>\n",
       "    </tr>\n",
       "    <tr>\n",
       "      <th>...</th>\n",
       "      <td>...</td>\n",
       "    </tr>\n",
       "    <tr>\n",
       "      <th>1975-08-01</th>\n",
       "      <td>858</td>\n",
       "    </tr>\n",
       "    <tr>\n",
       "      <th>1975-09-01</th>\n",
       "      <td>817</td>\n",
       "    </tr>\n",
       "    <tr>\n",
       "      <th>1975-10-01</th>\n",
       "      <td>827</td>\n",
       "    </tr>\n",
       "    <tr>\n",
       "      <th>1975-11-01</th>\n",
       "      <td>797</td>\n",
       "    </tr>\n",
       "    <tr>\n",
       "      <th>1975-12-01</th>\n",
       "      <td>843</td>\n",
       "    </tr>\n",
       "  </tbody>\n",
       "</table>\n",
       "<p>168 rows × 1 columns</p>\n",
       "</div>"
      ],
      "text/plain": [
       "            Production\n",
       "Month                 \n",
       "1962-01-01         589\n",
       "1962-02-01         561\n",
       "1962-03-01         640\n",
       "1962-04-01         656\n",
       "1962-05-01         727\n",
       "...                ...\n",
       "1975-08-01         858\n",
       "1975-09-01         817\n",
       "1975-10-01         827\n",
       "1975-11-01         797\n",
       "1975-12-01         843\n",
       "\n",
       "[168 rows x 1 columns]"
      ]
     },
     "execution_count": 5,
     "metadata": {},
     "output_type": "execute_result"
    }
   ],
   "source": [
    "df"
   ]
  },
  {
   "cell_type": "code",
   "execution_count": 6,
   "id": "31cf6827-e84b-467c-b0c7-a1ca1fba13a4",
   "metadata": {},
   "outputs": [],
   "source": [
    "series = TimeSeries.from_series(df[name])"
   ]
  },
  {
   "cell_type": "markdown",
   "id": "b850d8de-b7d0-4030-8a4e-d9fdb3958f71",
   "metadata": {},
   "source": [
    "## Darts"
   ]
  },
  {
   "cell_type": "code",
   "execution_count": 7,
   "id": "b5385be6-e8b3-4e44-8f04-f70961fa0cdb",
   "metadata": {},
   "outputs": [],
   "source": [
    "models = [ExponentialSmoothing(), AutoARIMA(), Prophet()]"
   ]
  },
  {
   "cell_type": "code",
   "execution_count": 8,
   "id": "bfc08fc5-5724-41be-b820-1ae530a33513",
   "metadata": {},
   "outputs": [
    {
     "data": {
      "application/vnd.jupyter.widget-view+json": {
       "model_id": "8fc6f5990cf0427a979b04ad355446f1",
       "version_major": 2,
       "version_minor": 0
      },
      "text/plain": [
       "  0%|          | 0/24 [00:00<?, ?it/s]"
      ]
     },
     "metadata": {},
     "output_type": "display_data"
    },
    {
     "name": "stdout",
     "output_type": "stream",
     "text": [
      "Exponential smoothing: 3.678915023803711\n"
     ]
    },
    {
     "data": {
      "application/vnd.jupyter.widget-view+json": {
       "model_id": "693552dedac44e1a8e6500dbdec2280a",
       "version_major": 2,
       "version_minor": 0
      },
      "text/plain": [
       "  0%|          | 0/24 [00:00<?, ?it/s]"
      ]
     },
     "metadata": {},
     "output_type": "display_data"
    },
    {
     "name": "stdout",
     "output_type": "stream",
     "text": [
      "Auto-ARIMA: 132.6729030609131\n"
     ]
    },
    {
     "data": {
      "application/vnd.jupyter.widget-view+json": {
       "model_id": "026800b44cf9499ba091a04a15c0b25d",
       "version_major": 2,
       "version_minor": 0
      },
      "text/plain": [
       "  0%|          | 0/24 [00:00<?, ?it/s]"
      ]
     },
     "metadata": {},
     "output_type": "display_data"
    },
    {
     "name": "stdout",
     "output_type": "stream",
     "text": [
      "Prophet: 38.98232698440552\n"
     ]
    }
   ],
   "source": [
    "import functools\n",
    "\n",
    "backtests = []\n",
    "\n",
    "for model in models:\n",
    "    print(f\"{model}: running...\")\n",
    "    initial_time = time.time()\n",
    "    hist_pred = model.historical_forecasts(series,\n",
    "                            start=pd.Timestamp('1974-01-01'),\n",
    "                            forecast_horizon=delta, stride=delta, verbose=True, last_points_only=False)\n",
    "    hist_pred = functools.reduce(lambda a, b: a.append(b), hist_pred)\n",
    "    backtests.append(hist_pred)\n",
    "    \n",
    "    final_time = time.time() - initial_time\n",
    "    print(f\"{model}: final time spent: {round(final_time, 3)}\")"
   ]
  },
  {
   "cell_type": "code",
   "execution_count": 9,
   "id": "1f1d9572-86f5-4bc1-9b50-4faac7484c16",
   "metadata": {
    "collapsed": false,
    "jupyter": {
     "outputs_hidden": false
    },
    "pycharm": {
     "name": "#%%\n"
    }
   },
   "outputs": [
    {
     "data": {
      "application/vnd.jupyter.widget-view+json": {
       "model_id": "40b286d477c64f778caa229207b61686",
       "version_major": 2,
       "version_minor": 0
      },
      "text/plain": [
       "  0%|          | 0/24 [00:00<?, ?it/s]"
      ]
     },
     "metadata": {},
     "output_type": "display_data"
    }
   ],
   "source": [
    "from darts.dataprocessing.transformers import Scaler\n",
    "\n",
    "print(f\"LSTM: running...\")\n",
    "initial_time = time.time()\n",
    "transformer = Scaler()\n",
    "transformed_series = transformer.fit_transform(series)\n",
    "lstm = RNNModel(model='LSTM', input_chunk_length=round(len(series)/4), output_chunk_length=1)\n",
    "models.append(lstm)\n",
    "\n",
    "hist_pred =  lstm.historical_forecasts(transformed_series,\n",
    "                            start=pd.Timestamp('1974-01-01'),\n",
    "                            forecast_horizon=delta, stride=delta, verbose=True, last_points_only=False)\n",
    "hist_pred = functools.reduce(lambda a, b: a.append(b), hist_pred)\n",
    "backtests.append(transformer.inverse_transform(hist_pred))\n",
    "final_time = time.time() - initial_time\n",
    "print(f\"LSTM: final time spent: {round(final_time, 3)}\")"
   ]
  },
  {
   "cell_type": "code",
   "execution_count": 10,
   "id": "aca67371-a80f-43fd-ae9b-3ae1e1242e1d",
   "metadata": {},
   "outputs": [],
   "source": [
    "darts_maes = {}\n",
    "darts_rmses = {}\n",
    "\n",
    "for i, m in enumerate(models):\n",
    "    prediction = backtests[i]\n",
    "    err_mae = mae(backtests[i], series)\n",
    "    err_rmse = rmse(backtests[i], series)\n",
    "    darts_maes[m] = err_mae\n",
    "    darts_rmses[m] = err_rmse\n",
    "    "
   ]
  },
  {
   "cell_type": "markdown",
   "id": "52340aa4-9550-4d3a-9b31-4b5a990a018f",
   "metadata": {},
   "source": [
    "## Timex"
   ]
  },
  {
   "cell_type": "code",
   "execution_count": 11,
   "id": "e1203e5b-bc35-4ad7-a6ee-e73949f22e5f",
   "metadata": {},
   "outputs": [],
   "source": [
    "with open(f\"univariate/delta_{delta}/historical_predictions.pkl\", 'rb') as file:\n",
    "    p = pickle.load(file)"
   ]
  },
  {
   "cell_type": "code",
   "execution_count": 12,
   "id": "b00a4082-94f6-4064-bc86-825aed7b3e21",
   "metadata": {},
   "outputs": [],
   "source": [
    "timex_maes = {}\n",
    "timex_rmses = {}\n",
    "\n",
    "for i, m in enumerate(p):\n",
    "    pred_timex = p[m]\n",
    "    pred_timex = pred_timex[name].astype('float')\n",
    "    pred_timex = TimeSeries.from_series(pred_timex)\n",
    "    pred_timex = pred_timex.slice_intersect(backtests[0])\n",
    "    assert len(pred_timex) == len(backtests[0])\n",
    "    \n",
    "    err_mae = mae(pred_timex, series)\n",
    "    err_rmse = rmse(pred_timex, series)\n",
    "    \n",
    "    timex_maes[m] = err_mae\n",
    "    timex_rmses[m] = err_rmse"
   ]
  },
  {
   "cell_type": "code",
   "execution_count": 1,
   "id": "40126d89-eb80-4de0-9014-bae84c639c9f",
   "metadata": {
    "tags": []
   },
   "outputs": [
    {
     "name": "stdout",
     "output_type": "stream",
     "text": [
      "########## FINAL RESULTS ##########\n"
     ]
    },
    {
     "ename": "NameError",
     "evalue": "name 'name' is not defined",
     "output_type": "error",
     "traceback": [
      "\u001b[0;31m---------------------------------------------------------------------------\u001b[0m",
      "\u001b[0;31mNameError\u001b[0m                                 Traceback (most recent call last)",
      "\u001b[0;32m<ipython-input-1-b69043bbb6ea>\u001b[0m in \u001b[0;36m<module>\u001b[0;34m\u001b[0m\n\u001b[1;32m      1\u001b[0m \u001b[0mprint\u001b[0m\u001b[0;34m(\u001b[0m\u001b[0;34m\"########## FINAL RESULTS ##########\"\u001b[0m\u001b[0;34m)\u001b[0m\u001b[0;34m\u001b[0m\u001b[0;34m\u001b[0m\u001b[0m\n\u001b[0;32m----> 2\u001b[0;31m \u001b[0mprint\u001b[0m\u001b[0;34m(\u001b[0m\u001b[0;34mf\"Case: {name}, delta: {delta}\"\u001b[0m\u001b[0;34m)\u001b[0m\u001b[0;34m\u001b[0m\u001b[0;34m\u001b[0m\u001b[0m\n\u001b[0m\u001b[1;32m      3\u001b[0m \u001b[0mprint\u001b[0m\u001b[0;34m(\u001b[0m\u001b[0;34m\"MAES\"\u001b[0m\u001b[0;34m)\u001b[0m\u001b[0;34m\u001b[0m\u001b[0;34m\u001b[0m\u001b[0m\n\u001b[1;32m      4\u001b[0m \u001b[0mprint\u001b[0m\u001b[0;34m(\u001b[0m\u001b[0;34m\"Darts results:\"\u001b[0m\u001b[0;34m)\u001b[0m\u001b[0;34m\u001b[0m\u001b[0;34m\u001b[0m\u001b[0m\n\u001b[1;32m      5\u001b[0m \u001b[0;32mfor\u001b[0m \u001b[0mi\u001b[0m\u001b[0;34m,\u001b[0m \u001b[0mm\u001b[0m \u001b[0;32min\u001b[0m \u001b[0menumerate\u001b[0m\u001b[0;34m(\u001b[0m\u001b[0mdarts_maes\u001b[0m\u001b[0;34m)\u001b[0m\u001b[0;34m:\u001b[0m\u001b[0;34m\u001b[0m\u001b[0;34m\u001b[0m\u001b[0m\n",
      "\u001b[0;31mNameError\u001b[0m: name 'name' is not defined"
     ]
    }
   ],
   "source": [
    "print(\"########## FINAL RESULTS ##########\")\n",
    "print(f\"Case: Monthly Milk Production, delta: {delta}\")\n",
    "print(\"MAES\")\n",
    "print(\"Darts results:\")\n",
    "for i, m in enumerate(darts_maes):\n",
    "    print(f\"{m}, MAE={round(darts_maes[m], 3)}\")\n",
    "\n",
    "print(\"Timex results:\")\n",
    "for i, m in enumerate(timex_maes):\n",
    "    print(f\"{m}, MAE={round(timex_maes[m], 3)}\")\n",
    "\n",
    "print(\"------------------------\")\n",
    "print(\"RMSES\")\n",
    "print(\"Darts results:\")\n",
    "\n",
    "for i, m in enumerate(darts_rmses):\n",
    "    print(f\"{m}, RMSE={round(darts_rmses[m], 3)}\")\n",
    "\n",
    "print(\"Timex results:\")\n",
    "for i, m in enumerate(timex_rmses):\n",
    "    print(f\"{m}, RMSE={round(timex_rmses[m], 3)}\")"
   ]
  },
  {
   "cell_type": "code",
   "execution_count": 37,
   "id": "27c39e64-4895-4b0e-b782-7a90260852a1",
   "metadata": {},
   "outputs": [],
   "source": []
  }
 ],
 "metadata": {
  "kernelspec": {
   "display_name": "timex_darts",
   "language": "python",
   "name": "timex_darts"
  },
  "language_info": {
   "codemirror_mode": {
    "name": "ipython",
    "version": 3
   },
   "file_extension": ".py",
   "mimetype": "text/x-python",
   "name": "python",
   "nbconvert_exporter": "python",
   "pygments_lexer": "ipython3",
   "version": "3.8.9"
  }
 },
 "nbformat": 4,
 "nbformat_minor": 5
}
