{
 "cells": [
  {
   "cell_type": "code",
   "execution_count": 1,
   "id": "fa12abbf-fb80-4f8c-a36c-5cd303d096fc",
   "metadata": {},
   "outputs": [],
   "source": [
    "import sys\n",
    "import time\n",
    "import pandas as pd\n",
    "import numpy as np\n",
    "import matplotlib.pyplot as plt\n",
    "from datetime import datetime\n",
    "from functools import reduce\n",
    "\n",
    "from darts import TimeSeries\n",
    "from darts.models import (\n",
    "    NaiveSeasonal,\n",
    "    NaiveDrift,\n",
    "    Prophet,\n",
    "    ExponentialSmoothing,\n",
    "    ARIMA,\n",
    "    AutoARIMA,\n",
    "    RegressionEnsembleModel,\n",
    "    RegressionModel,\n",
    "    Theta,\n",
    "    FFT,\n",
    "    RNNModel\n",
    ")\n",
    "\n",
    "from darts.metrics import mape, mase, mae, rmse\n",
    "from darts.utils.statistics import check_seasonality, plot_acf, plot_residuals_analysis\n",
    "from darts.datasets import AirPassengersDataset\n",
    "\n",
    "import warnings\n",
    "warnings.filterwarnings(\"ignore\")\n",
    "import logging\n",
    "logging.disable(logging.CRITICAL)\n",
    "import pickle"
   ]
  },
  {
   "cell_type": "markdown",
   "id": "86d8bed6-b93b-4647-a9e8-4a2a621d110a",
   "metadata": {},
   "source": [
    "# Delta 1"
   ]
  },
  {
   "cell_type": "code",
   "execution_count": 43,
   "id": "f1cfb422-5771-40d4-9a8f-8174fb95eb08",
   "metadata": {},
   "outputs": [],
   "source": [
    "name = 'GOOG'"
   ]
  },
  {
   "cell_type": "code",
   "execution_count": 44,
   "id": "de4110d3",
   "metadata": {
    "collapsed": false,
    "jupyter": {
     "outputs_hidden": false
    },
    "pycharm": {
     "name": "#%%\n"
    }
   },
   "outputs": [],
   "source": [
    "delta = 1"
   ]
  },
  {
   "cell_type": "code",
   "execution_count": 45,
   "id": "6479fc52",
   "metadata": {
    "collapsed": false,
    "jupyter": {
     "outputs_hidden": false
    },
    "pycharm": {
     "name": "#%%\n"
    }
   },
   "outputs": [],
   "source": [
    "df = pd.read_csv(\"Stocks.csv\", parse_dates=[\"Date\"], index_col=\"Date\")"
   ]
  },
  {
   "cell_type": "code",
   "execution_count": 46,
   "id": "019fae2e",
   "metadata": {
    "collapsed": false,
    "jupyter": {
     "outputs_hidden": false
    },
    "pycharm": {
     "name": "#%%\n"
    }
   },
   "outputs": [
    {
     "data": {
      "text/html": [
       "<div>\n",
       "<style scoped>\n",
       "    .dataframe tbody tr th:only-of-type {\n",
       "        vertical-align: middle;\n",
       "    }\n",
       "\n",
       "    .dataframe tbody tr th {\n",
       "        vertical-align: top;\n",
       "    }\n",
       "\n",
       "    .dataframe thead th {\n",
       "        text-align: right;\n",
       "    }\n",
       "</style>\n",
       "<table border=\"1\" class=\"dataframe\">\n",
       "  <thead>\n",
       "    <tr style=\"text-align: right;\">\n",
       "      <th></th>\n",
       "      <th>AAPL</th>\n",
       "      <th>ADBE</th>\n",
       "      <th>AMZN</th>\n",
       "      <th>FB</th>\n",
       "      <th>GOOG</th>\n",
       "      <th>ORCL</th>\n",
       "    </tr>\n",
       "    <tr>\n",
       "      <th>Date</th>\n",
       "      <th></th>\n",
       "      <th></th>\n",
       "      <th></th>\n",
       "      <th></th>\n",
       "      <th></th>\n",
       "      <th></th>\n",
       "    </tr>\n",
       "  </thead>\n",
       "  <tbody>\n",
       "    <tr>\n",
       "      <th>2018-01-02</th>\n",
       "      <td>43.0650</td>\n",
       "      <td>177.7000</td>\n",
       "      <td>1189.0100</td>\n",
       "      <td>181.4200</td>\n",
       "      <td>1065.0000</td>\n",
       "      <td>46.6300</td>\n",
       "    </tr>\n",
       "    <tr>\n",
       "      <th>2018-01-03</th>\n",
       "      <td>43.0575</td>\n",
       "      <td>181.0400</td>\n",
       "      <td>1204.2000</td>\n",
       "      <td>184.6700</td>\n",
       "      <td>1082.4800</td>\n",
       "      <td>47.7100</td>\n",
       "    </tr>\n",
       "    <tr>\n",
       "      <th>2018-01-04</th>\n",
       "      <td>43.2575</td>\n",
       "      <td>183.2200</td>\n",
       "      <td>1209.5900</td>\n",
       "      <td>184.3300</td>\n",
       "      <td>1086.4000</td>\n",
       "      <td>48.1800</td>\n",
       "    </tr>\n",
       "    <tr>\n",
       "      <th>2018-01-05</th>\n",
       "      <td>43.7500</td>\n",
       "      <td>185.3400</td>\n",
       "      <td>1229.1400</td>\n",
       "      <td>186.8500</td>\n",
       "      <td>1102.2300</td>\n",
       "      <td>48.4700</td>\n",
       "    </tr>\n",
       "    <tr>\n",
       "      <th>2018-01-06</th>\n",
       "      <td>43.6958</td>\n",
       "      <td>185.2400</td>\n",
       "      <td>1235.0500</td>\n",
       "      <td>187.3267</td>\n",
       "      <td>1103.8000</td>\n",
       "      <td>48.6400</td>\n",
       "    </tr>\n",
       "    <tr>\n",
       "      <th>...</th>\n",
       "      <td>...</td>\n",
       "      <td>...</td>\n",
       "      <td>...</td>\n",
       "      <td>...</td>\n",
       "      <td>...</td>\n",
       "      <td>...</td>\n",
       "    </tr>\n",
       "    <tr>\n",
       "      <th>2021-05-30</th>\n",
       "      <td>124.4450</td>\n",
       "      <td>500.2450</td>\n",
       "      <td>3220.8600</td>\n",
       "      <td>328.9300</td>\n",
       "      <td>2420.6851</td>\n",
       "      <td>79.1550</td>\n",
       "    </tr>\n",
       "    <tr>\n",
       "      <th>2021-05-31</th>\n",
       "      <td>124.3625</td>\n",
       "      <td>498.0775</td>\n",
       "      <td>3219.7549</td>\n",
       "      <td>329.0300</td>\n",
       "      <td>2425.2476</td>\n",
       "      <td>79.3625</td>\n",
       "    </tr>\n",
       "    <tr>\n",
       "      <th>2021-06-01</th>\n",
       "      <td>124.2800</td>\n",
       "      <td>495.9100</td>\n",
       "      <td>3218.6499</td>\n",
       "      <td>329.1300</td>\n",
       "      <td>2429.8101</td>\n",
       "      <td>79.5700</td>\n",
       "    </tr>\n",
       "    <tr>\n",
       "      <th>2021-06-02</th>\n",
       "      <td>125.0600</td>\n",
       "      <td>495.7700</td>\n",
       "      <td>3233.9900</td>\n",
       "      <td>329.1500</td>\n",
       "      <td>2421.2800</td>\n",
       "      <td>80.2700</td>\n",
       "    </tr>\n",
       "    <tr>\n",
       "      <th>2021-06-03</th>\n",
       "      <td>123.5400</td>\n",
       "      <td>493.1400</td>\n",
       "      <td>3187.0100</td>\n",
       "      <td>326.0400</td>\n",
       "      <td>2404.6101</td>\n",
       "      <td>81.0900</td>\n",
       "    </tr>\n",
       "  </tbody>\n",
       "</table>\n",
       "<p>1249 rows × 6 columns</p>\n",
       "</div>"
      ],
      "text/plain": [
       "                AAPL      ADBE       AMZN        FB       GOOG     ORCL\n",
       "Date                                                                   \n",
       "2018-01-02   43.0650  177.7000  1189.0100  181.4200  1065.0000  46.6300\n",
       "2018-01-03   43.0575  181.0400  1204.2000  184.6700  1082.4800  47.7100\n",
       "2018-01-04   43.2575  183.2200  1209.5900  184.3300  1086.4000  48.1800\n",
       "2018-01-05   43.7500  185.3400  1229.1400  186.8500  1102.2300  48.4700\n",
       "2018-01-06   43.6958  185.2400  1235.0500  187.3267  1103.8000  48.6400\n",
       "...              ...       ...        ...       ...        ...      ...\n",
       "2021-05-30  124.4450  500.2450  3220.8600  328.9300  2420.6851  79.1550\n",
       "2021-05-31  124.3625  498.0775  3219.7549  329.0300  2425.2476  79.3625\n",
       "2021-06-01  124.2800  495.9100  3218.6499  329.1300  2429.8101  79.5700\n",
       "2021-06-02  125.0600  495.7700  3233.9900  329.1500  2421.2800  80.2700\n",
       "2021-06-03  123.5400  493.1400  3187.0100  326.0400  2404.6101  81.0900\n",
       "\n",
       "[1249 rows x 6 columns]"
      ]
     },
     "execution_count": 46,
     "metadata": {},
     "output_type": "execute_result"
    }
   ],
   "source": [
    "df"
   ]
  },
  {
   "cell_type": "code",
   "execution_count": 47,
   "id": "7288ccbd",
   "metadata": {
    "collapsed": false,
    "jupyter": {
     "outputs_hidden": false
    },
    "pycharm": {
     "name": "#%%\n"
    }
   },
   "outputs": [],
   "source": [
    "df = df.loc[pd.Timestamp(\"20200101\"):pd.Timestamp(\"20210101\"), :]"
   ]
  },
  {
   "cell_type": "code",
   "execution_count": 48,
   "id": "3f30d1b2",
   "metadata": {
    "collapsed": false,
    "jupyter": {
     "outputs_hidden": false
    },
    "pycharm": {
     "name": "#%%\n"
    }
   },
   "outputs": [
    {
     "data": {
      "text/html": [
       "<div>\n",
       "<style scoped>\n",
       "    .dataframe tbody tr th:only-of-type {\n",
       "        vertical-align: middle;\n",
       "    }\n",
       "\n",
       "    .dataframe tbody tr th {\n",
       "        vertical-align: top;\n",
       "    }\n",
       "\n",
       "    .dataframe thead th {\n",
       "        text-align: right;\n",
       "    }\n",
       "</style>\n",
       "<table border=\"1\" class=\"dataframe\">\n",
       "  <thead>\n",
       "    <tr style=\"text-align: right;\">\n",
       "      <th></th>\n",
       "      <th>AAPL</th>\n",
       "      <th>ADBE</th>\n",
       "      <th>AMZN</th>\n",
       "      <th>FB</th>\n",
       "      <th>GOOG</th>\n",
       "      <th>ORCL</th>\n",
       "    </tr>\n",
       "    <tr>\n",
       "      <th>Date</th>\n",
       "      <th></th>\n",
       "      <th></th>\n",
       "      <th></th>\n",
       "      <th></th>\n",
       "      <th></th>\n",
       "      <th></th>\n",
       "    </tr>\n",
       "  </thead>\n",
       "  <tbody>\n",
       "    <tr>\n",
       "      <th>2020-01-01</th>\n",
       "      <td>74.2500</td>\n",
       "      <td>332.1200</td>\n",
       "      <td>1872.9250</td>\n",
       "      <td>207.515</td>\n",
       "      <td>1352.1950</td>\n",
       "      <td>53.4650</td>\n",
       "    </tr>\n",
       "    <tr>\n",
       "      <th>2020-01-02</th>\n",
       "      <td>75.0875</td>\n",
       "      <td>334.4300</td>\n",
       "      <td>1898.0100</td>\n",
       "      <td>209.780</td>\n",
       "      <td>1367.3700</td>\n",
       "      <td>53.9500</td>\n",
       "    </tr>\n",
       "    <tr>\n",
       "      <th>2020-01-03</th>\n",
       "      <td>74.3575</td>\n",
       "      <td>331.8100</td>\n",
       "      <td>1874.9700</td>\n",
       "      <td>208.670</td>\n",
       "      <td>1360.6600</td>\n",
       "      <td>53.7600</td>\n",
       "    </tr>\n",
       "    <tr>\n",
       "      <th>2020-01-04</th>\n",
       "      <td>74.5550</td>\n",
       "      <td>332.4433</td>\n",
       "      <td>1884.2733</td>\n",
       "      <td>209.980</td>\n",
       "      <td>1371.8433</td>\n",
       "      <td>53.8533</td>\n",
       "    </tr>\n",
       "    <tr>\n",
       "      <th>2020-01-05</th>\n",
       "      <td>74.7525</td>\n",
       "      <td>333.0767</td>\n",
       "      <td>1893.5767</td>\n",
       "      <td>211.290</td>\n",
       "      <td>1383.0267</td>\n",
       "      <td>53.9467</td>\n",
       "    </tr>\n",
       "    <tr>\n",
       "      <th>...</th>\n",
       "      <td>...</td>\n",
       "      <td>...</td>\n",
       "      <td>...</td>\n",
       "      <td>...</td>\n",
       "      <td>...</td>\n",
       "      <td>...</td>\n",
       "    </tr>\n",
       "    <tr>\n",
       "      <th>2020-12-28</th>\n",
       "      <td>136.6900</td>\n",
       "      <td>498.9500</td>\n",
       "      <td>3283.9600</td>\n",
       "      <td>277.000</td>\n",
       "      <td>1776.0900</td>\n",
       "      <td>64.8700</td>\n",
       "    </tr>\n",
       "    <tr>\n",
       "      <th>2020-12-29</th>\n",
       "      <td>134.8700</td>\n",
       "      <td>502.1100</td>\n",
       "      <td>3322.0000</td>\n",
       "      <td>276.780</td>\n",
       "      <td>1758.7200</td>\n",
       "      <td>64.4600</td>\n",
       "    </tr>\n",
       "    <tr>\n",
       "      <th>2020-12-30</th>\n",
       "      <td>133.7200</td>\n",
       "      <td>497.4500</td>\n",
       "      <td>3285.8501</td>\n",
       "      <td>271.870</td>\n",
       "      <td>1739.5200</td>\n",
       "      <td>64.4000</td>\n",
       "    </tr>\n",
       "    <tr>\n",
       "      <th>2020-12-31</th>\n",
       "      <td>132.6900</td>\n",
       "      <td>500.1200</td>\n",
       "      <td>3256.9299</td>\n",
       "      <td>273.160</td>\n",
       "      <td>1751.8800</td>\n",
       "      <td>64.6900</td>\n",
       "    </tr>\n",
       "    <tr>\n",
       "      <th>2021-01-01</th>\n",
       "      <td>131.8700</td>\n",
       "      <td>496.4250</td>\n",
       "      <td>3239.3549</td>\n",
       "      <td>272.105</td>\n",
       "      <td>1745.9700</td>\n",
       "      <td>64.4550</td>\n",
       "    </tr>\n",
       "  </tbody>\n",
       "</table>\n",
       "<p>367 rows × 6 columns</p>\n",
       "</div>"
      ],
      "text/plain": [
       "                AAPL      ADBE       AMZN       FB       GOOG     ORCL\n",
       "Date                                                                  \n",
       "2020-01-01   74.2500  332.1200  1872.9250  207.515  1352.1950  53.4650\n",
       "2020-01-02   75.0875  334.4300  1898.0100  209.780  1367.3700  53.9500\n",
       "2020-01-03   74.3575  331.8100  1874.9700  208.670  1360.6600  53.7600\n",
       "2020-01-04   74.5550  332.4433  1884.2733  209.980  1371.8433  53.8533\n",
       "2020-01-05   74.7525  333.0767  1893.5767  211.290  1383.0267  53.9467\n",
       "...              ...       ...        ...      ...        ...      ...\n",
       "2020-12-28  136.6900  498.9500  3283.9600  277.000  1776.0900  64.8700\n",
       "2020-12-29  134.8700  502.1100  3322.0000  276.780  1758.7200  64.4600\n",
       "2020-12-30  133.7200  497.4500  3285.8501  271.870  1739.5200  64.4000\n",
       "2020-12-31  132.6900  500.1200  3256.9299  273.160  1751.8800  64.6900\n",
       "2021-01-01  131.8700  496.4250  3239.3549  272.105  1745.9700  64.4550\n",
       "\n",
       "[367 rows x 6 columns]"
      ]
     },
     "execution_count": 48,
     "metadata": {},
     "output_type": "execute_result"
    }
   ],
   "source": [
    "df"
   ]
  },
  {
   "cell_type": "code",
   "execution_count": 49,
   "id": "42de58cb",
   "metadata": {
    "collapsed": false,
    "jupyter": {
     "outputs_hidden": false
    },
    "pycharm": {
     "name": "#%%\n"
    }
   },
   "outputs": [],
   "source": [
    "series = TimeSeries.from_series(df[name])"
   ]
  },
  {
   "cell_type": "markdown",
   "id": "be6fc4f4",
   "metadata": {},
   "source": [
    "## Darts"
   ]
  },
  {
   "cell_type": "code",
   "execution_count": 50,
   "id": "78674d2e",
   "metadata": {
    "collapsed": false,
    "jupyter": {
     "outputs_hidden": false
    },
    "pycharm": {
     "name": "#%%\n"
    }
   },
   "outputs": [],
   "source": [
    "models = [ExponentialSmoothing(), AutoARIMA(), Prophet()]"
   ]
  },
  {
   "cell_type": "code",
   "execution_count": 51,
   "id": "707ceebd",
   "metadata": {
    "collapsed": false,
    "jupyter": {
     "outputs_hidden": false
    },
    "pycharm": {
     "name": "#%%\n"
    }
   },
   "outputs": [
    {
     "data": {
      "application/vnd.jupyter.widget-view+json": {
       "model_id": "869d458ae6124bf7ac83b777b9bf7174",
       "version_major": 2,
       "version_minor": 0
      },
      "text/plain": [
       "  0%|          | 0/93 [00:00<?, ?it/s]"
      ]
     },
     "metadata": {},
     "output_type": "display_data"
    },
    {
     "name": "stdout",
     "output_type": "stream",
     "text": [
      "Exponential smoothing: 15.647887468338013\n"
     ]
    },
    {
     "data": {
      "application/vnd.jupyter.widget-view+json": {
       "model_id": "f04c6e057e184ae6bb2c49bafc6c4fa8",
       "version_major": 2,
       "version_minor": 0
      },
      "text/plain": [
       "  0%|          | 0/93 [00:00<?, ?it/s]"
      ]
     },
     "metadata": {},
     "output_type": "display_data"
    },
    {
     "name": "stdout",
     "output_type": "stream",
     "text": [
      "Auto-ARIMA: 201.98820567131042\n"
     ]
    },
    {
     "data": {
      "application/vnd.jupyter.widget-view+json": {
       "model_id": "7eb01864b3fb49cbb07a77d0170935bf",
       "version_major": 2,
       "version_minor": 0
      },
      "text/plain": [
       "  0%|          | 0/93 [00:00<?, ?it/s]"
      ]
     },
     "metadata": {},
     "output_type": "display_data"
    },
    {
     "name": "stdout",
     "output_type": "stream",
     "text": [
      "Prophet: 146.53497457504272\n"
     ]
    }
   ],
   "source": [
    "import functools\n",
    "\n",
    "backtests = []\n",
    "\n",
    "for model in models:\n",
    "    print(f\"{model}: running...\")\n",
    "    initial_time = time.time()\n",
    "    hist_pred = model.historical_forecasts(series,\n",
    "                            start=pd.Timestamp('2020-10-01'),\n",
    "                            forecast_horizon=delta, stride=delta, verbose=True, last_points_only=False)\n",
    "    hist_pred = functools.reduce(lambda a, b: a.append(b), hist_pred)\n",
    "    backtests.append(hist_pred)\n",
    "    \n",
    "    final_time = time.time() - initial_time\n",
    "    print(f\"{model}: final time spent: {round(final_time, 3)}\")"
   ]
  },
  {
   "cell_type": "code",
   "execution_count": 61,
   "id": "f5cea0e8",
   "metadata": {
    "collapsed": false,
    "jupyter": {
     "outputs_hidden": false
    },
    "pycharm": {
     "name": "#%%\n"
    }
   },
   "outputs": [
    {
     "data": {
      "application/vnd.jupyter.widget-view+json": {
       "model_id": "c33d8cf6538644f58c2890b7938edaa3",
       "version_major": 2,
       "version_minor": 0
      },
      "text/plain": [
       "  0%|          | 0/93 [00:00<?, ?it/s]"
      ]
     },
     "metadata": {},
     "output_type": "display_data"
    }
   ],
   "source": [
    "from darts.dataprocessing.transformers import Scaler\n",
    "\n",
    "print(f\"LSTM: running...\")\n",
    "initial_time = time.time()\n",
    "transformer = Scaler()\n",
    "transformed_series = transformer.fit_transform(series)\n",
    "lstm = RNNModel(model='LSTM', input_chunk_length=round(len(series)/4), output_chunk_length=1)\n",
    "models.append(lstm)\n",
    "\n",
    "hist_pred =  lstm.historical_forecasts(transformed_series,\n",
    "                            start=pd.Timestamp('2020-10-01'),\n",
    "                            forecast_horizon=delta, stride=delta, verbose=True, last_points_only=False)\n",
    "hist_pred = functools.reduce(lambda a, b: a.append(b), hist_pred)\n",
    "backtests.append(transformer.inverse_transform(hist_pred))\n",
    "final_time = time.time() - initial_time\n",
    "print(f\"LSTM: final time spent: {round(final_time, 3)}\")"
   ]
  },
  {
   "cell_type": "code",
   "execution_count": 68,
   "id": "2bb02ca3",
   "metadata": {
    "collapsed": false,
    "jupyter": {
     "outputs_hidden": false
    },
    "pycharm": {
     "name": "#%%\n"
    }
   },
   "outputs": [
    {
     "name": "stdout",
     "output_type": "stream",
     "text": [
      "Exponential smoothing: MAE = 17.447, RMSE = 24.038\n",
      "Auto-ARIMA: MAE = 15.62, RMSE = 22.656\n",
      "Prophet: MAE = 77.055, RMSE = 91.603\n",
      "<darts.models.rnn_model.RNNModel object at 0x7f7d41831f10>: MAE = 20.132, RMSE = 28.533\n"
     ]
    },
    {
     "ename": "IndexError",
     "evalue": "list index out of range",
     "output_type": "error",
     "traceback": [
      "\u001b[0;31m---------------------------------------------------------------------------\u001b[0m",
      "\u001b[0;31mIndexError\u001b[0m                                Traceback (most recent call last)",
      "\u001b[0;32m<ipython-input-68-e702b9bfdacb>\u001b[0m in \u001b[0;36m<module>\u001b[0;34m\u001b[0m\n\u001b[1;32m      3\u001b[0m \u001b[0;34m\u001b[0m\u001b[0m\n\u001b[1;32m      4\u001b[0m \u001b[0;32mfor\u001b[0m \u001b[0mi\u001b[0m\u001b[0;34m,\u001b[0m \u001b[0mm\u001b[0m \u001b[0;32min\u001b[0m \u001b[0menumerate\u001b[0m\u001b[0;34m(\u001b[0m\u001b[0mmodels\u001b[0m\u001b[0;34m)\u001b[0m\u001b[0;34m:\u001b[0m\u001b[0;34m\u001b[0m\u001b[0;34m\u001b[0m\u001b[0m\n\u001b[0;32m----> 5\u001b[0;31m     \u001b[0mprediction\u001b[0m \u001b[0;34m=\u001b[0m \u001b[0mbacktests\u001b[0m\u001b[0;34m[\u001b[0m\u001b[0mi\u001b[0m\u001b[0;34m]\u001b[0m\u001b[0;34m\u001b[0m\u001b[0;34m\u001b[0m\u001b[0m\n\u001b[0m\u001b[1;32m      6\u001b[0m     \u001b[0;31m#     print(prediction)\u001b[0m\u001b[0;34m\u001b[0m\u001b[0;34m\u001b[0m\u001b[0;34m\u001b[0m\u001b[0m\n\u001b[1;32m      7\u001b[0m     \u001b[0merr_mae\u001b[0m \u001b[0;34m=\u001b[0m \u001b[0mmae\u001b[0m\u001b[0;34m(\u001b[0m\u001b[0mbacktests\u001b[0m\u001b[0;34m[\u001b[0m\u001b[0mi\u001b[0m\u001b[0;34m]\u001b[0m\u001b[0;34m,\u001b[0m \u001b[0mseries\u001b[0m\u001b[0;34m)\u001b[0m\u001b[0;34m\u001b[0m\u001b[0;34m\u001b[0m\u001b[0m\n",
      "\u001b[0;31mIndexError\u001b[0m: list index out of range"
     ]
    }
   ],
   "source": [
    "darts_maes = {}\n",
    "darts_rmses = {}\n",
    "\n",
    "for i, m in enumerate(models):\n",
    "    prediction = backtests[i]\n",
    "    err_mae = mae(backtests[i], series)\n",
    "    err_rmse = rmse(backtests[i], series)\n",
    "    darts_maes[m] = err_mae\n",
    "    darts_rmses[m] = err_rmse"
   ]
  },
  {
   "cell_type": "markdown",
   "id": "01ab54ee",
   "metadata": {},
   "source": [
    "## Timex"
   ]
  },
  {
   "cell_type": "code",
   "execution_count": 69,
   "id": "8343c1f2",
   "metadata": {
    "collapsed": false,
    "jupyter": {
     "outputs_hidden": false
    },
    "pycharm": {
     "name": "#%%\n"
    }
   },
   "outputs": [],
   "source": [
    "with open(f\"univariate/delta_{delta}/historical_predictions.pkl\", 'rb') as file:\n",
    "    p = pickle.load(file)"
   ]
  },
  {
   "cell_type": "code",
   "execution_count": 70,
   "id": "e63e0ccf",
   "metadata": {
    "collapsed": false,
    "jupyter": {
     "outputs_hidden": false
    },
    "pycharm": {
     "name": "#%%\n"
    }
   },
   "outputs": [],
   "source": [
    "timex_maes = {}\n",
    "timex_rmses = {}\n",
    "\n",
    "for i, m in enumerate(p):\n",
    "    pred_timex = p[m]\n",
    "    pred_timex = pred_timex[name].astype('float')\n",
    "    pred_timex = TimeSeries.from_series(pred_timex)\n",
    "    pred_timex = pred_timex.slice_intersect(backtests[0])\n",
    "    #     pred_timex = pred_timex.drop_after(backtests[0].time_index()[-1] + pd.Timedelta(days=1))\n",
    "    assert len(pred_timex) == len(backtests[i])\n",
    "\n",
    "    err_mae = mae(pred_timex, series)\n",
    "    err_rmse = rmse(pred_timex, series)\n",
    "\n",
    "    timex_maes[m] = err_mae\n",
    "    timex_rmses[m] = err_rmse"
   ]
  },
  {
   "cell_type": "code",
   "execution_count": 71,
   "id": "a5ee9547",
   "metadata": {
    "collapsed": false,
    "jupyter": {
     "outputs_hidden": false
    },
    "pycharm": {
     "name": "#%%\n"
    }
   },
   "outputs": [
    {
     "name": "stdout",
     "output_type": "stream",
     "text": [
      "MAES\n",
      "Darts\n",
      "Exponential smoothing, MAE=17.44748591123813\n",
      "Auto-ARIMA, MAE=15.620277922686217\n",
      "Prophet, MAE=77.0546584791413\n",
      "<darts.models.rnn_model.RNNModel object at 0x7f7d41831f10>, MAE=20.131912993531586\n",
      "Timex\n",
      "fbprophet, MAE=38.21203164709654\n",
      "arima, MAE=15.164720199091901\n",
      "exponentialsmoothing, MAE=16.532371283289685\n",
      "lstm, MAE=27.634364585690204\n",
      "------------------------\n",
      "RMSES\n",
      "Darts\n",
      "Exponential smoothing, RMSE=24.03809959751226\n",
      "Auto-ARIMA, RMSE=22.656364103013303\n",
      "Prophet, RMSE=91.60279417481226\n",
      "<darts.models.rnn_model.RNNModel object at 0x7f7d41831f10>, RMSE=28.53290194329017\n",
      "Timex\n",
      "fbprophet, RMSE=46.763024975392575\n",
      "arima, RMSE=22.41837875809258\n",
      "exponentialsmoothing, RMSE=23.48546741518644\n",
      "lstm, RMSE=36.722015767905184\n"
     ]
    }
   ],
   "source": [
    "print(\"########## FINAL RESULTS ##########\")\n",
    "print(f\"Case: GOOG, delta: {delta}\")\n",
    "print(\"MAES\")\n",
    "print(\"Darts results:\")\n",
    "for i, m in enumerate(darts_maes):\n",
    "    print(f\"{m}, MAE={round(darts_maes[m], 3)}\")\n",
    "\n",
    "print(\"Timex results:\")\n",
    "for i, m in enumerate(timex_maes):\n",
    "    print(f\"{m}, MAE={round(timex_maes[m], 3)}\")\n",
    "\n",
    "print(\"------------------------\")\n",
    "print(\"RMSES\")\n",
    "print(\"Darts results:\")\n",
    "\n",
    "for i, m in enumerate(darts_rmses):\n",
    "    print(f\"{m}, RMSE={round(darts_rmses[m], 3)}\")\n",
    "\n",
    "print(\"Timex results:\")\n",
    "for i, m in enumerate(timex_rmses):\n",
    "    print(f\"{m}, RMSE={round(timex_rmses[m], 3)}\")"
   ]
  },
  {
   "cell_type": "markdown",
   "id": "314a634a",
   "metadata": {
    "pycharm": {
     "name": "#%% md\n"
    }
   },
   "source": [
    "# Delta 3"
   ]
  },
  {
   "cell_type": "code",
   "execution_count": 72,
   "id": "3988dd1b-5240-4651-a1bc-c740950f3918",
   "metadata": {},
   "outputs": [],
   "source": [
    "delta = 3"
   ]
  },
  {
   "cell_type": "code",
   "execution_count": 73,
   "id": "517cdbaa-1393-4ebb-afb1-71aa6d817a6b",
   "metadata": {},
   "outputs": [],
   "source": [
    "df = pd.read_csv(\"Stocks.csv\", parse_dates=[\"Date\"], index_col=\"Date\")"
   ]
  },
  {
   "cell_type": "code",
   "execution_count": 74,
   "id": "3947cbb8-2ef4-481c-892e-bbbb996469d1",
   "metadata": {},
   "outputs": [
    {
     "data": {
      "text/html": [
       "<div>\n",
       "<style scoped>\n",
       "    .dataframe tbody tr th:only-of-type {\n",
       "        vertical-align: middle;\n",
       "    }\n",
       "\n",
       "    .dataframe tbody tr th {\n",
       "        vertical-align: top;\n",
       "    }\n",
       "\n",
       "    .dataframe thead th {\n",
       "        text-align: right;\n",
       "    }\n",
       "</style>\n",
       "<table border=\"1\" class=\"dataframe\">\n",
       "  <thead>\n",
       "    <tr style=\"text-align: right;\">\n",
       "      <th></th>\n",
       "      <th>AAPL</th>\n",
       "      <th>ADBE</th>\n",
       "      <th>AMZN</th>\n",
       "      <th>FB</th>\n",
       "      <th>GOOG</th>\n",
       "      <th>ORCL</th>\n",
       "    </tr>\n",
       "    <tr>\n",
       "      <th>Date</th>\n",
       "      <th></th>\n",
       "      <th></th>\n",
       "      <th></th>\n",
       "      <th></th>\n",
       "      <th></th>\n",
       "      <th></th>\n",
       "    </tr>\n",
       "  </thead>\n",
       "  <tbody>\n",
       "    <tr>\n",
       "      <th>2018-01-02</th>\n",
       "      <td>43.0650</td>\n",
       "      <td>177.7000</td>\n",
       "      <td>1189.0100</td>\n",
       "      <td>181.4200</td>\n",
       "      <td>1065.0000</td>\n",
       "      <td>46.6300</td>\n",
       "    </tr>\n",
       "    <tr>\n",
       "      <th>2018-01-03</th>\n",
       "      <td>43.0575</td>\n",
       "      <td>181.0400</td>\n",
       "      <td>1204.2000</td>\n",
       "      <td>184.6700</td>\n",
       "      <td>1082.4800</td>\n",
       "      <td>47.7100</td>\n",
       "    </tr>\n",
       "    <tr>\n",
       "      <th>2018-01-04</th>\n",
       "      <td>43.2575</td>\n",
       "      <td>183.2200</td>\n",
       "      <td>1209.5900</td>\n",
       "      <td>184.3300</td>\n",
       "      <td>1086.4000</td>\n",
       "      <td>48.1800</td>\n",
       "    </tr>\n",
       "    <tr>\n",
       "      <th>2018-01-05</th>\n",
       "      <td>43.7500</td>\n",
       "      <td>185.3400</td>\n",
       "      <td>1229.1400</td>\n",
       "      <td>186.8500</td>\n",
       "      <td>1102.2300</td>\n",
       "      <td>48.4700</td>\n",
       "    </tr>\n",
       "    <tr>\n",
       "      <th>2018-01-06</th>\n",
       "      <td>43.6958</td>\n",
       "      <td>185.2400</td>\n",
       "      <td>1235.0500</td>\n",
       "      <td>187.3267</td>\n",
       "      <td>1103.8000</td>\n",
       "      <td>48.6400</td>\n",
       "    </tr>\n",
       "    <tr>\n",
       "      <th>...</th>\n",
       "      <td>...</td>\n",
       "      <td>...</td>\n",
       "      <td>...</td>\n",
       "      <td>...</td>\n",
       "      <td>...</td>\n",
       "      <td>...</td>\n",
       "    </tr>\n",
       "    <tr>\n",
       "      <th>2021-05-30</th>\n",
       "      <td>124.4450</td>\n",
       "      <td>500.2450</td>\n",
       "      <td>3220.8600</td>\n",
       "      <td>328.9300</td>\n",
       "      <td>2420.6851</td>\n",
       "      <td>79.1550</td>\n",
       "    </tr>\n",
       "    <tr>\n",
       "      <th>2021-05-31</th>\n",
       "      <td>124.3625</td>\n",
       "      <td>498.0775</td>\n",
       "      <td>3219.7549</td>\n",
       "      <td>329.0300</td>\n",
       "      <td>2425.2476</td>\n",
       "      <td>79.3625</td>\n",
       "    </tr>\n",
       "    <tr>\n",
       "      <th>2021-06-01</th>\n",
       "      <td>124.2800</td>\n",
       "      <td>495.9100</td>\n",
       "      <td>3218.6499</td>\n",
       "      <td>329.1300</td>\n",
       "      <td>2429.8101</td>\n",
       "      <td>79.5700</td>\n",
       "    </tr>\n",
       "    <tr>\n",
       "      <th>2021-06-02</th>\n",
       "      <td>125.0600</td>\n",
       "      <td>495.7700</td>\n",
       "      <td>3233.9900</td>\n",
       "      <td>329.1500</td>\n",
       "      <td>2421.2800</td>\n",
       "      <td>80.2700</td>\n",
       "    </tr>\n",
       "    <tr>\n",
       "      <th>2021-06-03</th>\n",
       "      <td>123.5400</td>\n",
       "      <td>493.1400</td>\n",
       "      <td>3187.0100</td>\n",
       "      <td>326.0400</td>\n",
       "      <td>2404.6101</td>\n",
       "      <td>81.0900</td>\n",
       "    </tr>\n",
       "  </tbody>\n",
       "</table>\n",
       "<p>1249 rows × 6 columns</p>\n",
       "</div>"
      ],
      "text/plain": [
       "                AAPL      ADBE       AMZN        FB       GOOG     ORCL\n",
       "Date                                                                   \n",
       "2018-01-02   43.0650  177.7000  1189.0100  181.4200  1065.0000  46.6300\n",
       "2018-01-03   43.0575  181.0400  1204.2000  184.6700  1082.4800  47.7100\n",
       "2018-01-04   43.2575  183.2200  1209.5900  184.3300  1086.4000  48.1800\n",
       "2018-01-05   43.7500  185.3400  1229.1400  186.8500  1102.2300  48.4700\n",
       "2018-01-06   43.6958  185.2400  1235.0500  187.3267  1103.8000  48.6400\n",
       "...              ...       ...        ...       ...        ...      ...\n",
       "2021-05-30  124.4450  500.2450  3220.8600  328.9300  2420.6851  79.1550\n",
       "2021-05-31  124.3625  498.0775  3219.7549  329.0300  2425.2476  79.3625\n",
       "2021-06-01  124.2800  495.9100  3218.6499  329.1300  2429.8101  79.5700\n",
       "2021-06-02  125.0600  495.7700  3233.9900  329.1500  2421.2800  80.2700\n",
       "2021-06-03  123.5400  493.1400  3187.0100  326.0400  2404.6101  81.0900\n",
       "\n",
       "[1249 rows x 6 columns]"
      ]
     },
     "execution_count": 74,
     "metadata": {},
     "output_type": "execute_result"
    }
   ],
   "source": [
    "df"
   ]
  },
  {
   "cell_type": "code",
   "execution_count": 75,
   "id": "57499e55-5352-45b6-8e70-db4e20153964",
   "metadata": {},
   "outputs": [],
   "source": [
    "df = df.loc[pd.Timestamp(\"20200101\"):pd.Timestamp(\"20210101\"), :]"
   ]
  },
  {
   "cell_type": "code",
   "execution_count": 76,
   "id": "3b048e51-436d-464d-833e-93aaf4604116",
   "metadata": {},
   "outputs": [
    {
     "data": {
      "text/html": [
       "<div>\n",
       "<style scoped>\n",
       "    .dataframe tbody tr th:only-of-type {\n",
       "        vertical-align: middle;\n",
       "    }\n",
       "\n",
       "    .dataframe tbody tr th {\n",
       "        vertical-align: top;\n",
       "    }\n",
       "\n",
       "    .dataframe thead th {\n",
       "        text-align: right;\n",
       "    }\n",
       "</style>\n",
       "<table border=\"1\" class=\"dataframe\">\n",
       "  <thead>\n",
       "    <tr style=\"text-align: right;\">\n",
       "      <th></th>\n",
       "      <th>AAPL</th>\n",
       "      <th>ADBE</th>\n",
       "      <th>AMZN</th>\n",
       "      <th>FB</th>\n",
       "      <th>GOOG</th>\n",
       "      <th>ORCL</th>\n",
       "    </tr>\n",
       "    <tr>\n",
       "      <th>Date</th>\n",
       "      <th></th>\n",
       "      <th></th>\n",
       "      <th></th>\n",
       "      <th></th>\n",
       "      <th></th>\n",
       "      <th></th>\n",
       "    </tr>\n",
       "  </thead>\n",
       "  <tbody>\n",
       "    <tr>\n",
       "      <th>2020-01-01</th>\n",
       "      <td>74.2500</td>\n",
       "      <td>332.1200</td>\n",
       "      <td>1872.9250</td>\n",
       "      <td>207.515</td>\n",
       "      <td>1352.1950</td>\n",
       "      <td>53.4650</td>\n",
       "    </tr>\n",
       "    <tr>\n",
       "      <th>2020-01-02</th>\n",
       "      <td>75.0875</td>\n",
       "      <td>334.4300</td>\n",
       "      <td>1898.0100</td>\n",
       "      <td>209.780</td>\n",
       "      <td>1367.3700</td>\n",
       "      <td>53.9500</td>\n",
       "    </tr>\n",
       "    <tr>\n",
       "      <th>2020-01-03</th>\n",
       "      <td>74.3575</td>\n",
       "      <td>331.8100</td>\n",
       "      <td>1874.9700</td>\n",
       "      <td>208.670</td>\n",
       "      <td>1360.6600</td>\n",
       "      <td>53.7600</td>\n",
       "    </tr>\n",
       "    <tr>\n",
       "      <th>2020-01-04</th>\n",
       "      <td>74.5550</td>\n",
       "      <td>332.4433</td>\n",
       "      <td>1884.2733</td>\n",
       "      <td>209.980</td>\n",
       "      <td>1371.8433</td>\n",
       "      <td>53.8533</td>\n",
       "    </tr>\n",
       "    <tr>\n",
       "      <th>2020-01-05</th>\n",
       "      <td>74.7525</td>\n",
       "      <td>333.0767</td>\n",
       "      <td>1893.5767</td>\n",
       "      <td>211.290</td>\n",
       "      <td>1383.0267</td>\n",
       "      <td>53.9467</td>\n",
       "    </tr>\n",
       "    <tr>\n",
       "      <th>...</th>\n",
       "      <td>...</td>\n",
       "      <td>...</td>\n",
       "      <td>...</td>\n",
       "      <td>...</td>\n",
       "      <td>...</td>\n",
       "      <td>...</td>\n",
       "    </tr>\n",
       "    <tr>\n",
       "      <th>2020-12-28</th>\n",
       "      <td>136.6900</td>\n",
       "      <td>498.9500</td>\n",
       "      <td>3283.9600</td>\n",
       "      <td>277.000</td>\n",
       "      <td>1776.0900</td>\n",
       "      <td>64.8700</td>\n",
       "    </tr>\n",
       "    <tr>\n",
       "      <th>2020-12-29</th>\n",
       "      <td>134.8700</td>\n",
       "      <td>502.1100</td>\n",
       "      <td>3322.0000</td>\n",
       "      <td>276.780</td>\n",
       "      <td>1758.7200</td>\n",
       "      <td>64.4600</td>\n",
       "    </tr>\n",
       "    <tr>\n",
       "      <th>2020-12-30</th>\n",
       "      <td>133.7200</td>\n",
       "      <td>497.4500</td>\n",
       "      <td>3285.8501</td>\n",
       "      <td>271.870</td>\n",
       "      <td>1739.5200</td>\n",
       "      <td>64.4000</td>\n",
       "    </tr>\n",
       "    <tr>\n",
       "      <th>2020-12-31</th>\n",
       "      <td>132.6900</td>\n",
       "      <td>500.1200</td>\n",
       "      <td>3256.9299</td>\n",
       "      <td>273.160</td>\n",
       "      <td>1751.8800</td>\n",
       "      <td>64.6900</td>\n",
       "    </tr>\n",
       "    <tr>\n",
       "      <th>2021-01-01</th>\n",
       "      <td>131.8700</td>\n",
       "      <td>496.4250</td>\n",
       "      <td>3239.3549</td>\n",
       "      <td>272.105</td>\n",
       "      <td>1745.9700</td>\n",
       "      <td>64.4550</td>\n",
       "    </tr>\n",
       "  </tbody>\n",
       "</table>\n",
       "<p>367 rows × 6 columns</p>\n",
       "</div>"
      ],
      "text/plain": [
       "                AAPL      ADBE       AMZN       FB       GOOG     ORCL\n",
       "Date                                                                  \n",
       "2020-01-01   74.2500  332.1200  1872.9250  207.515  1352.1950  53.4650\n",
       "2020-01-02   75.0875  334.4300  1898.0100  209.780  1367.3700  53.9500\n",
       "2020-01-03   74.3575  331.8100  1874.9700  208.670  1360.6600  53.7600\n",
       "2020-01-04   74.5550  332.4433  1884.2733  209.980  1371.8433  53.8533\n",
       "2020-01-05   74.7525  333.0767  1893.5767  211.290  1383.0267  53.9467\n",
       "...              ...       ...        ...      ...        ...      ...\n",
       "2020-12-28  136.6900  498.9500  3283.9600  277.000  1776.0900  64.8700\n",
       "2020-12-29  134.8700  502.1100  3322.0000  276.780  1758.7200  64.4600\n",
       "2020-12-30  133.7200  497.4500  3285.8501  271.870  1739.5200  64.4000\n",
       "2020-12-31  132.6900  500.1200  3256.9299  273.160  1751.8800  64.6900\n",
       "2021-01-01  131.8700  496.4250  3239.3549  272.105  1745.9700  64.4550\n",
       "\n",
       "[367 rows x 6 columns]"
      ]
     },
     "execution_count": 76,
     "metadata": {},
     "output_type": "execute_result"
    }
   ],
   "source": [
    "df"
   ]
  },
  {
   "cell_type": "code",
   "execution_count": 77,
   "id": "4f1dd82d-024d-4184-add1-2718ecba7fbf",
   "metadata": {},
   "outputs": [],
   "source": [
    "series = TimeSeries.from_series(df[name])"
   ]
  },
  {
   "cell_type": "markdown",
   "id": "93caddf5-5995-4cc4-90f1-8435104c83c6",
   "metadata": {},
   "source": [
    "## Darts"
   ]
  },
  {
   "cell_type": "code",
   "execution_count": 78,
   "id": "bad3869c-f251-44f8-853f-1f67263e6c06",
   "metadata": {},
   "outputs": [],
   "source": [
    "models = [ExponentialSmoothing(), AutoARIMA(), Prophet()]"
   ]
  },
  {
   "cell_type": "code",
   "execution_count": 79,
   "id": "cd6bbe19-246a-4e2d-a6be-6b3102e91b3d",
   "metadata": {},
   "outputs": [
    {
     "data": {
      "application/vnd.jupyter.widget-view+json": {
       "model_id": "0d227e2b9c70435a9700aa83cc9b6b4e",
       "version_major": 2,
       "version_minor": 0
      },
      "text/plain": [
       "  0%|          | 0/31 [00:00<?, ?it/s]"
      ]
     },
     "metadata": {},
     "output_type": "display_data"
    },
    {
     "name": "stdout",
     "output_type": "stream",
     "text": [
      "Exponential smoothing: 5.40540623664856\n"
     ]
    },
    {
     "data": {
      "application/vnd.jupyter.widget-view+json": {
       "model_id": "7f04774a050442e0848001f6f3118e05",
       "version_major": 2,
       "version_minor": 0
      },
      "text/plain": [
       "  0%|          | 0/31 [00:00<?, ?it/s]"
      ]
     },
     "metadata": {},
     "output_type": "display_data"
    },
    {
     "name": "stdout",
     "output_type": "stream",
     "text": [
      "Auto-ARIMA: 69.64171171188354\n"
     ]
    },
    {
     "data": {
      "application/vnd.jupyter.widget-view+json": {
       "model_id": "f6cd6188027f42548489930b77b9c236",
       "version_major": 2,
       "version_minor": 0
      },
      "text/plain": [
       "  0%|          | 0/31 [00:00<?, ?it/s]"
      ]
     },
     "metadata": {},
     "output_type": "display_data"
    },
    {
     "name": "stdout",
     "output_type": "stream",
     "text": [
      "Prophet: 50.172332525253296\n"
     ]
    }
   ],
   "source": [
    "import functools\n",
    "\n",
    "backtests = []\n",
    "\n",
    "for model in models:\n",
    "    print(f\"{model}: running...\")\n",
    "    initial_time = time.time()\n",
    "    hist_pred = model.historical_forecasts(series,\n",
    "                            start=pd.Timestamp('2020-10-01'),\n",
    "                            forecast_horizon=delta, stride=delta, verbose=True, last_points_only=False)\n",
    "    hist_pred = functools.reduce(lambda a, b: a.append(b), hist_pred)\n",
    "    backtests.append(hist_pred)\n",
    "    \n",
    "    final_time = time.time() - initial_time\n",
    "    print(f\"{model}: final time spent: {round(final_time, 3)}\")"
   ]
  },
  {
   "cell_type": "code",
   "execution_count": 80,
   "id": "114760ab",
   "metadata": {
    "collapsed": false,
    "jupyter": {
     "outputs_hidden": false
    },
    "pycharm": {
     "name": "#%%\n"
    }
   },
   "outputs": [
    {
     "data": {
      "application/vnd.jupyter.widget-view+json": {
       "model_id": "0b43c50d6c734f9c97f440d5318f1d2e",
       "version_major": 2,
       "version_minor": 0
      },
      "text/plain": [
       "  0%|          | 0/31 [00:00<?, ?it/s]"
      ]
     },
     "metadata": {},
     "output_type": "display_data"
    }
   ],
   "source": [
    "from darts.dataprocessing.transformers import Scaler\n",
    "\n",
    "print(f\"LSTM: running...\")\n",
    "initial_time = time.time()\n",
    "transformer = Scaler()\n",
    "transformed_series = transformer.fit_transform(series)\n",
    "lstm = RNNModel(model='LSTM', input_chunk_length=round(len(series)/4), output_chunk_length=1)\n",
    "models.append(lstm)\n",
    "\n",
    "hist_pred =  lstm.historical_forecasts(transformed_series,\n",
    "                            start=pd.Timestamp('2020-10-01'),\n",
    "                            forecast_horizon=delta, stride=delta, verbose=True, last_points_only=False)\n",
    "hist_pred = functools.reduce(lambda a, b: a.append(b), hist_pred)\n",
    "backtests.append(transformer.inverse_transform(hist_pred))\n",
    "final_time = time.time() - initial_time\n",
    "print(f\"LSTM: final time spent: {round(final_time, 3)}\")"
   ]
  },
  {
   "cell_type": "code",
   "execution_count": 81,
   "id": "ddd0544c-ecb3-4f6a-b36e-ae64a87798f3",
   "metadata": {},
   "outputs": [],
   "source": [
    "darts_maes = {}\n",
    "darts_rmses = {}\n",
    "\n",
    "for i, m in enumerate(models):\n",
    "    prediction = backtests[i]\n",
    "#     print(prediction)\n",
    "    err_mae = mae(backtests[i], series)\n",
    "    err_rmse = rmse(backtests[i], series)\n",
    "    darts_maes[m] = err_mae\n",
    "    darts_rmses[m] = err_rmse\n",
    "    \n",
    "#     print(f\"{m}: MAE = {round(err_mae, 3)}, RMSE = {round(err_rmse, 3)}\")"
   ]
  },
  {
   "cell_type": "markdown",
   "id": "af2aa643-4546-4918-8ba4-7639e9861c62",
   "metadata": {},
   "source": [
    "## Timex"
   ]
  },
  {
   "cell_type": "code",
   "execution_count": 82,
   "id": "4106fa1b-5c18-4737-9f32-64ad90f97ea2",
   "metadata": {},
   "outputs": [],
   "source": [
    "with open(f\"univariate/delta_{delta}/historical_predictions.pkl\", 'rb') as file:\n",
    "    p = pickle.load(file)"
   ]
  },
  {
   "cell_type": "code",
   "execution_count": 83,
   "id": "37234218-ea0c-4024-bf32-e3f406702510",
   "metadata": {},
   "outputs": [],
   "source": [
    "timex_maes = {}\n",
    "timex_rmses = {}\n",
    "\n",
    "for i, m in enumerate(p):\n",
    "    pred_timex = p[m]\n",
    "    pred_timex = pred_timex[name].astype('float')\n",
    "    pred_timex = TimeSeries.from_series(pred_timex)\n",
    "    pred_timex = pred_timex.slice_intersect(backtests[0])\n",
    "#     pred_timex = pred_timex.drop_after(backtests[0].time_index()[-1] + pd.Timedelta(days=1))\n",
    "    assert len(pred_timex) == len(backtests[0])\n",
    "    \n",
    "    err_mae = mae(pred_timex, series)\n",
    "    err_rmse = rmse(pred_timex, series)\n",
    "    \n",
    "    timex_maes[m] = err_mae\n",
    "    timex_rmses[m] = err_rmse"
   ]
  },
  {
   "cell_type": "code",
   "execution_count": 84,
   "id": "4e901316-adcb-4b68-a315-6e0504aec0b8",
   "metadata": {},
   "outputs": [
    {
     "name": "stdout",
     "output_type": "stream",
     "text": [
      "MAES\n",
      "Darts\n",
      "Exponential smoothing, MAE=23.40813658028029\n",
      "Auto-ARIMA, MAE=20.439006820363193\n",
      "Prophet, MAE=81.25926128058127\n",
      "<darts.models.rnn_model.RNNModel object at 0x7f7d2afa1f70>, MAE=33.51365038642473\n",
      "Timex\n",
      "fbprophet, MAE=47.300698063447584\n",
      "arima, MAE=22.154747304317564\n",
      "exponentialsmoothing, MAE=20.20913535397744\n",
      "lstm, MAE=35.30328940368547\n",
      "------------------------\n",
      "RMSES\n",
      "Darts\n",
      "Exponential smoothing, RMSE=34.91917806475344\n",
      "Auto-ARIMA, RMSE=30.553150180593107\n",
      "Prophet, RMSE=96.06817649066805\n",
      "<darts.models.rnn_model.RNNModel object at 0x7f7d2afa1f70>, RMSE=46.470334590220666\n",
      "Timex\n",
      "fbprophet, RMSE=56.98556734790414\n",
      "arima, RMSE=32.55308625236377\n",
      "exponentialsmoothing, RMSE=30.88810564388966\n",
      "lstm, RMSE=47.88170385921885\n"
     ]
    }
   ],
   "source": [
    "print(\"########## FINAL RESULTS ##########\")\n",
    "print(f\"Case: GOOG, delta: {delta}\")\n",
    "print(\"MAES\")\n",
    "print(\"Darts results:\")\n",
    "for i, m in enumerate(darts_maes):\n",
    "    print(f\"{m}, MAE={round(darts_maes[m], 3)}\")\n",
    "\n",
    "print(\"Timex results:\")\n",
    "for i, m in enumerate(timex_maes):\n",
    "    print(f\"{m}, MAE={round(timex_maes[m], 3)}\")\n",
    "\n",
    "print(\"------------------------\")\n",
    "print(\"RMSES\")\n",
    "print(\"Darts results:\")\n",
    "\n",
    "for i, m in enumerate(darts_rmses):\n",
    "    print(f\"{m}, RMSE={round(darts_rmses[m], 3)}\")\n",
    "\n",
    "print(\"Timex results:\")\n",
    "for i, m in enumerate(timex_rmses):\n",
    "    print(f\"{m}, RMSE={round(timex_rmses[m], 3)}\")"
   ]
  },
  {
   "cell_type": "markdown",
   "id": "a8ddf369",
   "metadata": {},
   "source": [
    "# Delta 7\n"
   ]
  },
  {
   "cell_type": "code",
   "execution_count": 85,
   "id": "fb4067d0",
   "metadata": {
    "collapsed": false,
    "jupyter": {
     "outputs_hidden": false
    },
    "pycharm": {
     "name": "#%%\n"
    }
   },
   "outputs": [],
   "source": [
    "delta = 7"
   ]
  },
  {
   "cell_type": "code",
   "execution_count": 86,
   "id": "d0643fa2",
   "metadata": {
    "collapsed": false,
    "jupyter": {
     "outputs_hidden": false
    },
    "pycharm": {
     "name": "#%%\n"
    }
   },
   "outputs": [],
   "source": [
    "df = pd.read_csv(\"Stocks.csv\", parse_dates=[\"Date\"], index_col=\"Date\")"
   ]
  },
  {
   "cell_type": "code",
   "execution_count": 87,
   "id": "04af3b8f",
   "metadata": {
    "collapsed": false,
    "jupyter": {
     "outputs_hidden": false
    },
    "pycharm": {
     "name": "#%%\n"
    }
   },
   "outputs": [
    {
     "data": {
      "text/html": [
       "<div>\n",
       "<style scoped>\n",
       "    .dataframe tbody tr th:only-of-type {\n",
       "        vertical-align: middle;\n",
       "    }\n",
       "\n",
       "    .dataframe tbody tr th {\n",
       "        vertical-align: top;\n",
       "    }\n",
       "\n",
       "    .dataframe thead th {\n",
       "        text-align: right;\n",
       "    }\n",
       "</style>\n",
       "<table border=\"1\" class=\"dataframe\">\n",
       "  <thead>\n",
       "    <tr style=\"text-align: right;\">\n",
       "      <th></th>\n",
       "      <th>AAPL</th>\n",
       "      <th>ADBE</th>\n",
       "      <th>AMZN</th>\n",
       "      <th>FB</th>\n",
       "      <th>GOOG</th>\n",
       "      <th>ORCL</th>\n",
       "    </tr>\n",
       "    <tr>\n",
       "      <th>Date</th>\n",
       "      <th></th>\n",
       "      <th></th>\n",
       "      <th></th>\n",
       "      <th></th>\n",
       "      <th></th>\n",
       "      <th></th>\n",
       "    </tr>\n",
       "  </thead>\n",
       "  <tbody>\n",
       "    <tr>\n",
       "      <th>2018-01-02</th>\n",
       "      <td>43.0650</td>\n",
       "      <td>177.7000</td>\n",
       "      <td>1189.0100</td>\n",
       "      <td>181.4200</td>\n",
       "      <td>1065.0000</td>\n",
       "      <td>46.6300</td>\n",
       "    </tr>\n",
       "    <tr>\n",
       "      <th>2018-01-03</th>\n",
       "      <td>43.0575</td>\n",
       "      <td>181.0400</td>\n",
       "      <td>1204.2000</td>\n",
       "      <td>184.6700</td>\n",
       "      <td>1082.4800</td>\n",
       "      <td>47.7100</td>\n",
       "    </tr>\n",
       "    <tr>\n",
       "      <th>2018-01-04</th>\n",
       "      <td>43.2575</td>\n",
       "      <td>183.2200</td>\n",
       "      <td>1209.5900</td>\n",
       "      <td>184.3300</td>\n",
       "      <td>1086.4000</td>\n",
       "      <td>48.1800</td>\n",
       "    </tr>\n",
       "    <tr>\n",
       "      <th>2018-01-05</th>\n",
       "      <td>43.7500</td>\n",
       "      <td>185.3400</td>\n",
       "      <td>1229.1400</td>\n",
       "      <td>186.8500</td>\n",
       "      <td>1102.2300</td>\n",
       "      <td>48.4700</td>\n",
       "    </tr>\n",
       "    <tr>\n",
       "      <th>2018-01-06</th>\n",
       "      <td>43.6958</td>\n",
       "      <td>185.2400</td>\n",
       "      <td>1235.0500</td>\n",
       "      <td>187.3267</td>\n",
       "      <td>1103.8000</td>\n",
       "      <td>48.6400</td>\n",
       "    </tr>\n",
       "    <tr>\n",
       "      <th>...</th>\n",
       "      <td>...</td>\n",
       "      <td>...</td>\n",
       "      <td>...</td>\n",
       "      <td>...</td>\n",
       "      <td>...</td>\n",
       "      <td>...</td>\n",
       "    </tr>\n",
       "    <tr>\n",
       "      <th>2021-05-30</th>\n",
       "      <td>124.4450</td>\n",
       "      <td>500.2450</td>\n",
       "      <td>3220.8600</td>\n",
       "      <td>328.9300</td>\n",
       "      <td>2420.6851</td>\n",
       "      <td>79.1550</td>\n",
       "    </tr>\n",
       "    <tr>\n",
       "      <th>2021-05-31</th>\n",
       "      <td>124.3625</td>\n",
       "      <td>498.0775</td>\n",
       "      <td>3219.7549</td>\n",
       "      <td>329.0300</td>\n",
       "      <td>2425.2476</td>\n",
       "      <td>79.3625</td>\n",
       "    </tr>\n",
       "    <tr>\n",
       "      <th>2021-06-01</th>\n",
       "      <td>124.2800</td>\n",
       "      <td>495.9100</td>\n",
       "      <td>3218.6499</td>\n",
       "      <td>329.1300</td>\n",
       "      <td>2429.8101</td>\n",
       "      <td>79.5700</td>\n",
       "    </tr>\n",
       "    <tr>\n",
       "      <th>2021-06-02</th>\n",
       "      <td>125.0600</td>\n",
       "      <td>495.7700</td>\n",
       "      <td>3233.9900</td>\n",
       "      <td>329.1500</td>\n",
       "      <td>2421.2800</td>\n",
       "      <td>80.2700</td>\n",
       "    </tr>\n",
       "    <tr>\n",
       "      <th>2021-06-03</th>\n",
       "      <td>123.5400</td>\n",
       "      <td>493.1400</td>\n",
       "      <td>3187.0100</td>\n",
       "      <td>326.0400</td>\n",
       "      <td>2404.6101</td>\n",
       "      <td>81.0900</td>\n",
       "    </tr>\n",
       "  </tbody>\n",
       "</table>\n",
       "<p>1249 rows × 6 columns</p>\n",
       "</div>"
      ],
      "text/plain": [
       "                AAPL      ADBE       AMZN        FB       GOOG     ORCL\n",
       "Date                                                                   \n",
       "2018-01-02   43.0650  177.7000  1189.0100  181.4200  1065.0000  46.6300\n",
       "2018-01-03   43.0575  181.0400  1204.2000  184.6700  1082.4800  47.7100\n",
       "2018-01-04   43.2575  183.2200  1209.5900  184.3300  1086.4000  48.1800\n",
       "2018-01-05   43.7500  185.3400  1229.1400  186.8500  1102.2300  48.4700\n",
       "2018-01-06   43.6958  185.2400  1235.0500  187.3267  1103.8000  48.6400\n",
       "...              ...       ...        ...       ...        ...      ...\n",
       "2021-05-30  124.4450  500.2450  3220.8600  328.9300  2420.6851  79.1550\n",
       "2021-05-31  124.3625  498.0775  3219.7549  329.0300  2425.2476  79.3625\n",
       "2021-06-01  124.2800  495.9100  3218.6499  329.1300  2429.8101  79.5700\n",
       "2021-06-02  125.0600  495.7700  3233.9900  329.1500  2421.2800  80.2700\n",
       "2021-06-03  123.5400  493.1400  3187.0100  326.0400  2404.6101  81.0900\n",
       "\n",
       "[1249 rows x 6 columns]"
      ]
     },
     "execution_count": 87,
     "metadata": {},
     "output_type": "execute_result"
    }
   ],
   "source": [
    "df"
   ]
  },
  {
   "cell_type": "code",
   "execution_count": 88,
   "id": "c87e6f11",
   "metadata": {
    "collapsed": false,
    "jupyter": {
     "outputs_hidden": false
    },
    "pycharm": {
     "name": "#%%\n"
    }
   },
   "outputs": [],
   "source": [
    "df = df.loc[pd.Timestamp(\"20200101\"):pd.Timestamp(\"20210101\"), :]"
   ]
  },
  {
   "cell_type": "code",
   "execution_count": 89,
   "id": "8c0e1db2",
   "metadata": {
    "collapsed": false,
    "jupyter": {
     "outputs_hidden": false
    },
    "pycharm": {
     "name": "#%%\n"
    }
   },
   "outputs": [
    {
     "data": {
      "text/html": [
       "<div>\n",
       "<style scoped>\n",
       "    .dataframe tbody tr th:only-of-type {\n",
       "        vertical-align: middle;\n",
       "    }\n",
       "\n",
       "    .dataframe tbody tr th {\n",
       "        vertical-align: top;\n",
       "    }\n",
       "\n",
       "    .dataframe thead th {\n",
       "        text-align: right;\n",
       "    }\n",
       "</style>\n",
       "<table border=\"1\" class=\"dataframe\">\n",
       "  <thead>\n",
       "    <tr style=\"text-align: right;\">\n",
       "      <th></th>\n",
       "      <th>AAPL</th>\n",
       "      <th>ADBE</th>\n",
       "      <th>AMZN</th>\n",
       "      <th>FB</th>\n",
       "      <th>GOOG</th>\n",
       "      <th>ORCL</th>\n",
       "    </tr>\n",
       "    <tr>\n",
       "      <th>Date</th>\n",
       "      <th></th>\n",
       "      <th></th>\n",
       "      <th></th>\n",
       "      <th></th>\n",
       "      <th></th>\n",
       "      <th></th>\n",
       "    </tr>\n",
       "  </thead>\n",
       "  <tbody>\n",
       "    <tr>\n",
       "      <th>2020-01-01</th>\n",
       "      <td>74.2500</td>\n",
       "      <td>332.1200</td>\n",
       "      <td>1872.9250</td>\n",
       "      <td>207.515</td>\n",
       "      <td>1352.1950</td>\n",
       "      <td>53.4650</td>\n",
       "    </tr>\n",
       "    <tr>\n",
       "      <th>2020-01-02</th>\n",
       "      <td>75.0875</td>\n",
       "      <td>334.4300</td>\n",
       "      <td>1898.0100</td>\n",
       "      <td>209.780</td>\n",
       "      <td>1367.3700</td>\n",
       "      <td>53.9500</td>\n",
       "    </tr>\n",
       "    <tr>\n",
       "      <th>2020-01-03</th>\n",
       "      <td>74.3575</td>\n",
       "      <td>331.8100</td>\n",
       "      <td>1874.9700</td>\n",
       "      <td>208.670</td>\n",
       "      <td>1360.6600</td>\n",
       "      <td>53.7600</td>\n",
       "    </tr>\n",
       "    <tr>\n",
       "      <th>2020-01-04</th>\n",
       "      <td>74.5550</td>\n",
       "      <td>332.4433</td>\n",
       "      <td>1884.2733</td>\n",
       "      <td>209.980</td>\n",
       "      <td>1371.8433</td>\n",
       "      <td>53.8533</td>\n",
       "    </tr>\n",
       "    <tr>\n",
       "      <th>2020-01-05</th>\n",
       "      <td>74.7525</td>\n",
       "      <td>333.0767</td>\n",
       "      <td>1893.5767</td>\n",
       "      <td>211.290</td>\n",
       "      <td>1383.0267</td>\n",
       "      <td>53.9467</td>\n",
       "    </tr>\n",
       "    <tr>\n",
       "      <th>...</th>\n",
       "      <td>...</td>\n",
       "      <td>...</td>\n",
       "      <td>...</td>\n",
       "      <td>...</td>\n",
       "      <td>...</td>\n",
       "      <td>...</td>\n",
       "    </tr>\n",
       "    <tr>\n",
       "      <th>2020-12-28</th>\n",
       "      <td>136.6900</td>\n",
       "      <td>498.9500</td>\n",
       "      <td>3283.9600</td>\n",
       "      <td>277.000</td>\n",
       "      <td>1776.0900</td>\n",
       "      <td>64.8700</td>\n",
       "    </tr>\n",
       "    <tr>\n",
       "      <th>2020-12-29</th>\n",
       "      <td>134.8700</td>\n",
       "      <td>502.1100</td>\n",
       "      <td>3322.0000</td>\n",
       "      <td>276.780</td>\n",
       "      <td>1758.7200</td>\n",
       "      <td>64.4600</td>\n",
       "    </tr>\n",
       "    <tr>\n",
       "      <th>2020-12-30</th>\n",
       "      <td>133.7200</td>\n",
       "      <td>497.4500</td>\n",
       "      <td>3285.8501</td>\n",
       "      <td>271.870</td>\n",
       "      <td>1739.5200</td>\n",
       "      <td>64.4000</td>\n",
       "    </tr>\n",
       "    <tr>\n",
       "      <th>2020-12-31</th>\n",
       "      <td>132.6900</td>\n",
       "      <td>500.1200</td>\n",
       "      <td>3256.9299</td>\n",
       "      <td>273.160</td>\n",
       "      <td>1751.8800</td>\n",
       "      <td>64.6900</td>\n",
       "    </tr>\n",
       "    <tr>\n",
       "      <th>2021-01-01</th>\n",
       "      <td>131.8700</td>\n",
       "      <td>496.4250</td>\n",
       "      <td>3239.3549</td>\n",
       "      <td>272.105</td>\n",
       "      <td>1745.9700</td>\n",
       "      <td>64.4550</td>\n",
       "    </tr>\n",
       "  </tbody>\n",
       "</table>\n",
       "<p>367 rows × 6 columns</p>\n",
       "</div>"
      ],
      "text/plain": [
       "                AAPL      ADBE       AMZN       FB       GOOG     ORCL\n",
       "Date                                                                  \n",
       "2020-01-01   74.2500  332.1200  1872.9250  207.515  1352.1950  53.4650\n",
       "2020-01-02   75.0875  334.4300  1898.0100  209.780  1367.3700  53.9500\n",
       "2020-01-03   74.3575  331.8100  1874.9700  208.670  1360.6600  53.7600\n",
       "2020-01-04   74.5550  332.4433  1884.2733  209.980  1371.8433  53.8533\n",
       "2020-01-05   74.7525  333.0767  1893.5767  211.290  1383.0267  53.9467\n",
       "...              ...       ...        ...      ...        ...      ...\n",
       "2020-12-28  136.6900  498.9500  3283.9600  277.000  1776.0900  64.8700\n",
       "2020-12-29  134.8700  502.1100  3322.0000  276.780  1758.7200  64.4600\n",
       "2020-12-30  133.7200  497.4500  3285.8501  271.870  1739.5200  64.4000\n",
       "2020-12-31  132.6900  500.1200  3256.9299  273.160  1751.8800  64.6900\n",
       "2021-01-01  131.8700  496.4250  3239.3549  272.105  1745.9700  64.4550\n",
       "\n",
       "[367 rows x 6 columns]"
      ]
     },
     "execution_count": 89,
     "metadata": {},
     "output_type": "execute_result"
    }
   ],
   "source": [
    "df"
   ]
  },
  {
   "cell_type": "code",
   "execution_count": 90,
   "id": "28feba9c",
   "metadata": {
    "collapsed": false,
    "jupyter": {
     "outputs_hidden": false
    },
    "pycharm": {
     "name": "#%%\n"
    }
   },
   "outputs": [],
   "source": [
    "series = TimeSeries.from_series(df[name])"
   ]
  },
  {
   "cell_type": "markdown",
   "id": "5c9f5d4c",
   "metadata": {},
   "source": [
    "## Darts"
   ]
  },
  {
   "cell_type": "code",
   "execution_count": 91,
   "id": "21c216c2",
   "metadata": {
    "collapsed": false,
    "jupyter": {
     "outputs_hidden": false
    },
    "pycharm": {
     "name": "#%%\n"
    }
   },
   "outputs": [],
   "source": [
    "models = [ExponentialSmoothing(), AutoARIMA(), Prophet()]"
   ]
  },
  {
   "cell_type": "code",
   "execution_count": 92,
   "id": "53109a4b",
   "metadata": {
    "collapsed": false,
    "jupyter": {
     "outputs_hidden": false
    },
    "pycharm": {
     "name": "#%%\n"
    }
   },
   "outputs": [
    {
     "data": {
      "application/vnd.jupyter.widget-view+json": {
       "model_id": "2f7ca741ef7f427aa4c6741f7bd9e19b",
       "version_major": 2,
       "version_minor": 0
      },
      "text/plain": [
       "  0%|          | 0/13 [00:00<?, ?it/s]"
      ]
     },
     "metadata": {},
     "output_type": "display_data"
    },
    {
     "name": "stdout",
     "output_type": "stream",
     "text": [
      "Exponential smoothing: 2.40457820892334\n"
     ]
    },
    {
     "data": {
      "application/vnd.jupyter.widget-view+json": {
       "model_id": "208cc1bf8a0e4f00a789aae419c202c8",
       "version_major": 2,
       "version_minor": 0
      },
      "text/plain": [
       "  0%|          | 0/13 [00:00<?, ?it/s]"
      ]
     },
     "metadata": {},
     "output_type": "display_data"
    },
    {
     "name": "stdout",
     "output_type": "stream",
     "text": [
      "Auto-ARIMA: 31.317824602127075\n"
     ]
    },
    {
     "data": {
      "application/vnd.jupyter.widget-view+json": {
       "model_id": "772179cd21a749de8d96243fb99ae299",
       "version_major": 2,
       "version_minor": 0
      },
      "text/plain": [
       "  0%|          | 0/13 [00:00<?, ?it/s]"
      ]
     },
     "metadata": {},
     "output_type": "display_data"
    },
    {
     "name": "stdout",
     "output_type": "stream",
     "text": [
      "Prophet: 22.12063217163086\n"
     ]
    }
   ],
   "source": [
    "import functools\n",
    "\n",
    "backtests = []\n",
    "\n",
    "for model in models:\n",
    "    print(f\"{model}: running...\")\n",
    "    initial_time = time.time()\n",
    "    hist_pred = model.historical_forecasts(series,\n",
    "                            start=pd.Timestamp('2020-10-01'),\n",
    "                            forecast_horizon=delta, stride=delta, verbose=True, last_points_only=False)\n",
    "    hist_pred = functools.reduce(lambda a, b: a.append(b), hist_pred)\n",
    "    backtests.append(hist_pred)\n",
    "    \n",
    "    final_time = time.time() - initial_time\n",
    "    print(f\"{model}: final time spent: {round(final_time, 3)}\")"
   ]
  },
  {
   "cell_type": "code",
   "execution_count": 93,
   "id": "61928ca2",
   "metadata": {
    "collapsed": false,
    "jupyter": {
     "outputs_hidden": false
    },
    "pycharm": {
     "name": "#%%\n"
    }
   },
   "outputs": [
    {
     "data": {
      "application/vnd.jupyter.widget-view+json": {
       "model_id": "4a95cfb23bef4e919b329a267ecf1eaf",
       "version_major": 2,
       "version_minor": 0
      },
      "text/plain": [
       "  0%|          | 0/13 [00:00<?, ?it/s]"
      ]
     },
     "metadata": {},
     "output_type": "display_data"
    }
   ],
   "source": [
    "from darts.dataprocessing.transformers import Scaler\n",
    "\n",
    "print(f\"LSTM: running...\")\n",
    "initial_time = time.time()\n",
    "transformer = Scaler()\n",
    "transformed_series = transformer.fit_transform(series)\n",
    "lstm = RNNModel(model='LSTM', input_chunk_length=round(len(series)/4), output_chunk_length=1)\n",
    "models.append(lstm)\n",
    "\n",
    "hist_pred =  lstm.historical_forecasts(transformed_series,\n",
    "                            start=pd.Timestamp('2020-10-01'),\n",
    "                            forecast_horizon=delta, stride=delta, verbose=True, last_points_only=False)\n",
    "hist_pred = functools.reduce(lambda a, b: a.append(b), hist_pred)\n",
    "backtests.append(transformer.inverse_transform(hist_pred))\n",
    "final_time = time.time() - initial_time\n",
    "print(f\"LSTM: final time spent: {round(final_time, 3)}\")"
   ]
  },
  {
   "cell_type": "code",
   "execution_count": 94,
   "id": "964bd3f1",
   "metadata": {
    "collapsed": false,
    "jupyter": {
     "outputs_hidden": false
    },
    "pycharm": {
     "name": "#%%\n"
    }
   },
   "outputs": [
    {
     "name": "stdout",
     "output_type": "stream",
     "text": [
      "Exponential smoothing: MAE = 34.288, RMSE = 50.291\n",
      "Auto-ARIMA: MAE = 31.225, RMSE = 46.524\n",
      "Prophet: MAE = 89.585, RMSE = 105.583\n",
      "<darts.models.rnn_model.RNNModel object at 0x7f7d41acc070>: MAE = 34.939, RMSE = 52.087\n"
     ]
    }
   ],
   "source": [
    "darts_maes = {}\n",
    "darts_rmses = {}\n",
    "\n",
    "for i, m in enumerate(models):\n",
    "    prediction = backtests[i]\n",
    "    #     print(prediction)\n",
    "    err_mae = mae(backtests[i], series)\n",
    "    err_rmse = rmse(backtests[i], series)\n",
    "    darts_maes[m] = err_mae\n",
    "    darts_rmses[m] = err_rmse\n"
   ]
  },
  {
   "cell_type": "markdown",
   "id": "da2e6662",
   "metadata": {},
   "source": [
    "## Timex"
   ]
  },
  {
   "cell_type": "code",
   "execution_count": 95,
   "id": "45027418",
   "metadata": {
    "collapsed": false,
    "jupyter": {
     "outputs_hidden": false
    },
    "pycharm": {
     "name": "#%%\n"
    }
   },
   "outputs": [],
   "source": [
    "with open(f\"univariate/delta_{delta}/historical_predictions.pkl\", 'rb') as file:\n",
    "    p = pickle.load(file)"
   ]
  },
  {
   "cell_type": "code",
   "execution_count": 96,
   "id": "557bc250",
   "metadata": {
    "collapsed": false,
    "jupyter": {
     "outputs_hidden": false
    },
    "pycharm": {
     "name": "#%%\n"
    }
   },
   "outputs": [],
   "source": [
    "timex_maes = {}\n",
    "timex_rmses = {}\n",
    "\n",
    "for i, m in enumerate(p):\n",
    "    pred_timex = p[m]\n",
    "    pred_timex = pred_timex[name].astype('float')\n",
    "    pred_timex = TimeSeries.from_series(pred_timex)\n",
    "    pred_timex = pred_timex.slice_intersect(backtests[0])\n",
    "    #     pred_timex = pred_timex.drop_after(backtests[0].time_index()[-1] + pd.Timedelta(days=1))\n",
    "    assert len(pred_timex) == len(backtests[0])\n",
    "\n",
    "    err_mae = mae(pred_timex, series)\n",
    "    err_rmse = rmse(pred_timex, series)\n",
    "\n",
    "    timex_maes[m] = err_mae\n",
    "    timex_rmses[m] = err_rmse"
   ]
  },
  {
   "cell_type": "code",
   "execution_count": 97,
   "id": "0124c8f3",
   "metadata": {
    "collapsed": false,
    "jupyter": {
     "outputs_hidden": false
    },
    "pycharm": {
     "name": "#%%\n"
    }
   },
   "outputs": [
    {
     "name": "stdout",
     "output_type": "stream",
     "text": [
      "MAES\n",
      "Darts\n",
      "Exponential smoothing, MAE=34.28782247460107\n",
      "Auto-ARIMA, MAE=31.22474167515422\n",
      "Prophet, MAE=89.58500705974191\n",
      "<darts.models.rnn_model.RNNModel object at 0x7f7d41acc070>, MAE=34.93880478193681\n",
      "Timex\n",
      "arima, MAE=30.973379410338936\n",
      "exponentialsmoothing, MAE=33.930088311320276\n",
      "fbprophet, MAE=58.72355944556571\n",
      "lstm, MAE=52.514072561406444\n",
      "------------------------\n",
      "RMSES\n",
      "Darts\n",
      "Exponential smoothing, RMSE=50.291091892634235\n",
      "Auto-ARIMA, RMSE=46.523861204948425\n",
      "Prophet, RMSE=105.5830678691845\n",
      "<darts.models.rnn_model.RNNModel object at 0x7f7d41acc070>, RMSE=52.086712668960395\n",
      "Timex\n",
      "arima, RMSE=45.34777113063382\n",
      "exponentialsmoothing, RMSE=49.60169328954722\n",
      "fbprophet, RMSE=69.3634804303133\n",
      "lstm, RMSE=64.08618607517573\n"
     ]
    }
   ],
   "source": [
    "print(\"########## FINAL RESULTS ##########\")\n",
    "print(f\"Case: GOOG, delta: {delta}\")\n",
    "print(\"MAES\")\n",
    "print(\"Darts results:\")\n",
    "for i, m in enumerate(darts_maes):\n",
    "    print(f\"{m}, MAE={round(darts_maes[m], 3)}\")\n",
    "\n",
    "print(\"Timex results:\")\n",
    "for i, m in enumerate(timex_maes):\n",
    "    print(f\"{m}, MAE={round(timex_maes[m], 3)}\")\n",
    "\n",
    "print(\"------------------------\")\n",
    "print(\"RMSES\")\n",
    "print(\"Darts results:\")\n",
    "\n",
    "for i, m in enumerate(darts_rmses):\n",
    "    print(f\"{m}, RMSE={round(darts_rmses[m], 3)}\")\n",
    "\n",
    "print(\"Timex results:\")\n",
    "for i, m in enumerate(timex_rmses):\n",
    "    print(f\"{m}, RMSE={round(timex_rmses[m], 3)}\")"
   ]
  },
  {
   "cell_type": "code",
   "execution_count": 41,
   "id": "0fba8ac9-5893-4026-bbaa-09abdbe55982",
   "metadata": {},
   "outputs": [],
   "source": []
  }
 ],
 "metadata": {
  "kernelspec": {
   "display_name": "timex_darts",
   "language": "python",
   "name": "timex_darts"
  },
  "language_info": {
   "codemirror_mode": {
    "name": "ipython",
    "version": 3
   },
   "file_extension": ".py",
   "mimetype": "text/x-python",
   "name": "python",
   "nbconvert_exporter": "python",
   "pygments_lexer": "ipython3",
   "version": "3.8.9"
  }
 },
 "nbformat": 4,
 "nbformat_minor": 5
}
