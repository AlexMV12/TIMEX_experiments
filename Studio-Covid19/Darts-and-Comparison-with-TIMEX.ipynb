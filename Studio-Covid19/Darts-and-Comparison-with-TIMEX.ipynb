{
 "cells": [
  {
   "cell_type": "code",
   "execution_count": 1,
   "id": "fa12abbf-fb80-4f8c-a36c-5cd303d096fc",
   "metadata": {},
   "outputs": [],
   "source": [
    "import sys\n",
    "import time\n",
    "import pandas as pd\n",
    "import numpy as np\n",
    "import matplotlib.pyplot as plt\n",
    "from datetime import datetime\n",
    "from functools import reduce\n",
    "\n",
    "from darts import TimeSeries\n",
    "from darts.models import (\n",
    "    NaiveSeasonal,\n",
    "    NaiveDrift,\n",
    "    Prophet,\n",
    "    ExponentialSmoothing,\n",
    "    ARIMA,\n",
    "    AutoARIMA,\n",
    "    RegressionEnsembleModel,\n",
    "    RegressionModel,\n",
    "    Theta,\n",
    "    FFT,\n",
    "    RNNModel\n",
    ")\n",
    "\n",
    "from darts.metrics import mape, mase, mae, rmse\n",
    "from darts.utils.statistics import check_seasonality, plot_acf, plot_residuals_analysis\n",
    "from darts.datasets import AirPassengersDataset\n",
    "\n",
    "import warnings\n",
    "warnings.filterwarnings(\"ignore\")\n",
    "import logging\n",
    "logging.disable(logging.CRITICAL)\n",
    "import pickle"
   ]
  },
  {
   "cell_type": "markdown",
   "id": "b06a5970-5634-4496-9603-041356ab0ce3",
   "metadata": {},
   "source": [
    "# Daily cases"
   ]
  },
  {
   "cell_type": "markdown",
   "id": "cc8033a2-9f2e-44fa-a3d1-0424a87bbfd7",
   "metadata": {},
   "source": [
    "## Delta 1"
   ]
  },
  {
   "cell_type": "code",
   "execution_count": 48,
   "id": "f1cfb422-5771-40d4-9a8f-8174fb95eb08",
   "metadata": {},
   "outputs": [],
   "source": [
    "name = 'Daily cases'"
   ]
  },
  {
   "cell_type": "code",
   "execution_count": 49,
   "id": "142b0cca",
   "metadata": {
    "collapsed": false,
    "jupyter": {
     "outputs_hidden": false
    },
    "pycharm": {
     "name": "#%%\n"
    }
   },
   "outputs": [],
   "source": [
    "delta = 1"
   ]
  },
  {
   "cell_type": "code",
   "execution_count": 50,
   "id": "7f662b79",
   "metadata": {
    "collapsed": false,
    "jupyter": {
     "outputs_hidden": false
    },
    "pycharm": {
     "name": "#%%\n"
    }
   },
   "outputs": [],
   "source": [
    "df = pd.read_csv(\"Covid19-italy.csv\", parse_dates=[\"Date\"], index_col=\"Date\")"
   ]
  },
  {
   "cell_type": "code",
   "execution_count": 51,
   "id": "c1ee8fbf",
   "metadata": {
    "collapsed": false,
    "jupyter": {
     "outputs_hidden": false
    },
    "pycharm": {
     "name": "#%%\n"
    }
   },
   "outputs": [
    {
     "data": {
      "text/html": [
       "<div>\n",
       "<style scoped>\n",
       "    .dataframe tbody tr th:only-of-type {\n",
       "        vertical-align: middle;\n",
       "    }\n",
       "\n",
       "    .dataframe tbody tr th {\n",
       "        vertical-align: top;\n",
       "    }\n",
       "\n",
       "    .dataframe thead th {\n",
       "        text-align: right;\n",
       "    }\n",
       "</style>\n",
       "<table border=\"1\" class=\"dataframe\">\n",
       "  <thead>\n",
       "    <tr style=\"text-align: right;\">\n",
       "      <th></th>\n",
       "      <th>Daily cases</th>\n",
       "      <th>Total positives</th>\n",
       "      <th>Total positives variation</th>\n",
       "      <th>Total intensive care</th>\n",
       "      <th>Total hospitalized</th>\n",
       "      <th>Total deaths</th>\n",
       "      <th>Tests</th>\n",
       "      <th>Daily intensive care</th>\n",
       "      <th>Daily hospitalized</th>\n",
       "      <th>Daily deaths</th>\n",
       "      <th>Daily tests</th>\n",
       "    </tr>\n",
       "    <tr>\n",
       "      <th>Date</th>\n",
       "      <th></th>\n",
       "      <th></th>\n",
       "      <th></th>\n",
       "      <th></th>\n",
       "      <th></th>\n",
       "      <th></th>\n",
       "      <th></th>\n",
       "      <th></th>\n",
       "      <th></th>\n",
       "      <th></th>\n",
       "      <th></th>\n",
       "    </tr>\n",
       "  </thead>\n",
       "  <tbody>\n",
       "    <tr>\n",
       "      <th>2020-02-25</th>\n",
       "      <td>93</td>\n",
       "      <td>311</td>\n",
       "      <td>90</td>\n",
       "      <td>35</td>\n",
       "      <td>150</td>\n",
       "      <td>10</td>\n",
       "      <td>8623</td>\n",
       "      <td>9.0</td>\n",
       "      <td>23.0</td>\n",
       "      <td>3.0</td>\n",
       "      <td>4299.0</td>\n",
       "    </tr>\n",
       "    <tr>\n",
       "      <th>2020-02-26</th>\n",
       "      <td>78</td>\n",
       "      <td>385</td>\n",
       "      <td>74</td>\n",
       "      <td>36</td>\n",
       "      <td>164</td>\n",
       "      <td>12</td>\n",
       "      <td>9587</td>\n",
       "      <td>1.0</td>\n",
       "      <td>14.0</td>\n",
       "      <td>2.0</td>\n",
       "      <td>964.0</td>\n",
       "    </tr>\n",
       "    <tr>\n",
       "      <th>2020-02-27</th>\n",
       "      <td>250</td>\n",
       "      <td>588</td>\n",
       "      <td>203</td>\n",
       "      <td>56</td>\n",
       "      <td>304</td>\n",
       "      <td>17</td>\n",
       "      <td>12014</td>\n",
       "      <td>20.0</td>\n",
       "      <td>140.0</td>\n",
       "      <td>5.0</td>\n",
       "      <td>2427.0</td>\n",
       "    </tr>\n",
       "    <tr>\n",
       "      <th>2020-02-28</th>\n",
       "      <td>238</td>\n",
       "      <td>821</td>\n",
       "      <td>233</td>\n",
       "      <td>64</td>\n",
       "      <td>409</td>\n",
       "      <td>21</td>\n",
       "      <td>15695</td>\n",
       "      <td>8.0</td>\n",
       "      <td>105.0</td>\n",
       "      <td>4.0</td>\n",
       "      <td>3681.0</td>\n",
       "    </tr>\n",
       "    <tr>\n",
       "      <th>2020-02-29</th>\n",
       "      <td>240</td>\n",
       "      <td>1049</td>\n",
       "      <td>228</td>\n",
       "      <td>105</td>\n",
       "      <td>506</td>\n",
       "      <td>29</td>\n",
       "      <td>18661</td>\n",
       "      <td>41.0</td>\n",
       "      <td>97.0</td>\n",
       "      <td>8.0</td>\n",
       "      <td>2966.0</td>\n",
       "    </tr>\n",
       "    <tr>\n",
       "      <th>...</th>\n",
       "      <td>...</td>\n",
       "      <td>...</td>\n",
       "      <td>...</td>\n",
       "      <td>...</td>\n",
       "      <td>...</td>\n",
       "      <td>...</td>\n",
       "      <td>...</td>\n",
       "      <td>...</td>\n",
       "      <td>...</td>\n",
       "      <td>...</td>\n",
       "      <td>...</td>\n",
       "    </tr>\n",
       "    <tr>\n",
       "      <th>2021-05-21</th>\n",
       "      <td>5218</td>\n",
       "      <td>291788</td>\n",
       "      <td>-7698</td>\n",
       "      <td>1469</td>\n",
       "      <td>11394</td>\n",
       "      <td>125028</td>\n",
       "      <td>64092492</td>\n",
       "      <td>-75.0</td>\n",
       "      <td>-533.0</td>\n",
       "      <td>218.0</td>\n",
       "      <td>269744.0</td>\n",
       "    </tr>\n",
       "    <tr>\n",
       "      <th>2021-05-22</th>\n",
       "      <td>4717</td>\n",
       "      <td>283744</td>\n",
       "      <td>-8044</td>\n",
       "      <td>1430</td>\n",
       "      <td>10918</td>\n",
       "      <td>125153</td>\n",
       "      <td>64379095</td>\n",
       "      <td>-39.0</td>\n",
       "      <td>-476.0</td>\n",
       "      <td>125.0</td>\n",
       "      <td>286603.0</td>\n",
       "    </tr>\n",
       "    <tr>\n",
       "      <th>2021-05-23</th>\n",
       "      <td>3995</td>\n",
       "      <td>281092</td>\n",
       "      <td>-2652</td>\n",
       "      <td>1410</td>\n",
       "      <td>10571</td>\n",
       "      <td>125225</td>\n",
       "      <td>64558486</td>\n",
       "      <td>-20.0</td>\n",
       "      <td>-347.0</td>\n",
       "      <td>72.0</td>\n",
       "      <td>179391.0</td>\n",
       "    </tr>\n",
       "    <tr>\n",
       "      <th>2021-05-24</th>\n",
       "      <td>2490</td>\n",
       "      <td>276439</td>\n",
       "      <td>-4653</td>\n",
       "      <td>1382</td>\n",
       "      <td>10332</td>\n",
       "      <td>125335</td>\n",
       "      <td>64665967</td>\n",
       "      <td>-28.0</td>\n",
       "      <td>-239.0</td>\n",
       "      <td>110.0</td>\n",
       "      <td>107481.0</td>\n",
       "    </tr>\n",
       "    <tr>\n",
       "      <th>2021-05-25</th>\n",
       "      <td>3224</td>\n",
       "      <td>268145</td>\n",
       "      <td>-8294</td>\n",
       "      <td>1323</td>\n",
       "      <td>9880</td>\n",
       "      <td>125501</td>\n",
       "      <td>64918613</td>\n",
       "      <td>-59.0</td>\n",
       "      <td>-452.0</td>\n",
       "      <td>166.0</td>\n",
       "      <td>252646.0</td>\n",
       "    </tr>\n",
       "  </tbody>\n",
       "</table>\n",
       "<p>456 rows × 11 columns</p>\n",
       "</div>"
      ],
      "text/plain": [
       "            Daily cases  Total positives  Total positives variation  \\\n",
       "Date                                                                  \n",
       "2020-02-25           93              311                         90   \n",
       "2020-02-26           78              385                         74   \n",
       "2020-02-27          250              588                        203   \n",
       "2020-02-28          238              821                        233   \n",
       "2020-02-29          240             1049                        228   \n",
       "...                 ...              ...                        ...   \n",
       "2021-05-21         5218           291788                      -7698   \n",
       "2021-05-22         4717           283744                      -8044   \n",
       "2021-05-23         3995           281092                      -2652   \n",
       "2021-05-24         2490           276439                      -4653   \n",
       "2021-05-25         3224           268145                      -8294   \n",
       "\n",
       "            Total intensive care  Total hospitalized  Total deaths     Tests  \\\n",
       "Date                                                                           \n",
       "2020-02-25                    35                 150            10      8623   \n",
       "2020-02-26                    36                 164            12      9587   \n",
       "2020-02-27                    56                 304            17     12014   \n",
       "2020-02-28                    64                 409            21     15695   \n",
       "2020-02-29                   105                 506            29     18661   \n",
       "...                          ...                 ...           ...       ...   \n",
       "2021-05-21                  1469               11394        125028  64092492   \n",
       "2021-05-22                  1430               10918        125153  64379095   \n",
       "2021-05-23                  1410               10571        125225  64558486   \n",
       "2021-05-24                  1382               10332        125335  64665967   \n",
       "2021-05-25                  1323                9880        125501  64918613   \n",
       "\n",
       "            Daily intensive care  Daily hospitalized  Daily deaths  \\\n",
       "Date                                                                 \n",
       "2020-02-25                   9.0                23.0           3.0   \n",
       "2020-02-26                   1.0                14.0           2.0   \n",
       "2020-02-27                  20.0               140.0           5.0   \n",
       "2020-02-28                   8.0               105.0           4.0   \n",
       "2020-02-29                  41.0                97.0           8.0   \n",
       "...                          ...                 ...           ...   \n",
       "2021-05-21                 -75.0              -533.0         218.0   \n",
       "2021-05-22                 -39.0              -476.0         125.0   \n",
       "2021-05-23                 -20.0              -347.0          72.0   \n",
       "2021-05-24                 -28.0              -239.0         110.0   \n",
       "2021-05-25                 -59.0              -452.0         166.0   \n",
       "\n",
       "            Daily tests  \n",
       "Date                     \n",
       "2020-02-25       4299.0  \n",
       "2020-02-26        964.0  \n",
       "2020-02-27       2427.0  \n",
       "2020-02-28       3681.0  \n",
       "2020-02-29       2966.0  \n",
       "...                 ...  \n",
       "2021-05-21     269744.0  \n",
       "2021-05-22     286603.0  \n",
       "2021-05-23     179391.0  \n",
       "2021-05-24     107481.0  \n",
       "2021-05-25     252646.0  \n",
       "\n",
       "[456 rows x 11 columns]"
      ]
     },
     "execution_count": 51,
     "metadata": {},
     "output_type": "execute_result"
    }
   ],
   "source": [
    "df"
   ]
  },
  {
   "cell_type": "code",
   "execution_count": 52,
   "id": "3b7bffab",
   "metadata": {
    "collapsed": false,
    "jupyter": {
     "outputs_hidden": false
    },
    "pycharm": {
     "name": "#%%\n"
    }
   },
   "outputs": [],
   "source": [
    "df = df.loc[:pd.Timestamp(\"20210225\"), :]"
   ]
  },
  {
   "cell_type": "code",
   "execution_count": 53,
   "id": "05aa3711",
   "metadata": {
    "collapsed": false,
    "jupyter": {
     "outputs_hidden": false
    },
    "pycharm": {
     "name": "#%%\n"
    }
   },
   "outputs": [
    {
     "data": {
      "text/html": [
       "<div>\n",
       "<style scoped>\n",
       "    .dataframe tbody tr th:only-of-type {\n",
       "        vertical-align: middle;\n",
       "    }\n",
       "\n",
       "    .dataframe tbody tr th {\n",
       "        vertical-align: top;\n",
       "    }\n",
       "\n",
       "    .dataframe thead th {\n",
       "        text-align: right;\n",
       "    }\n",
       "</style>\n",
       "<table border=\"1\" class=\"dataframe\">\n",
       "  <thead>\n",
       "    <tr style=\"text-align: right;\">\n",
       "      <th></th>\n",
       "      <th>Daily cases</th>\n",
       "      <th>Total positives</th>\n",
       "      <th>Total positives variation</th>\n",
       "      <th>Total intensive care</th>\n",
       "      <th>Total hospitalized</th>\n",
       "      <th>Total deaths</th>\n",
       "      <th>Tests</th>\n",
       "      <th>Daily intensive care</th>\n",
       "      <th>Daily hospitalized</th>\n",
       "      <th>Daily deaths</th>\n",
       "      <th>Daily tests</th>\n",
       "    </tr>\n",
       "    <tr>\n",
       "      <th>Date</th>\n",
       "      <th></th>\n",
       "      <th></th>\n",
       "      <th></th>\n",
       "      <th></th>\n",
       "      <th></th>\n",
       "      <th></th>\n",
       "      <th></th>\n",
       "      <th></th>\n",
       "      <th></th>\n",
       "      <th></th>\n",
       "      <th></th>\n",
       "    </tr>\n",
       "  </thead>\n",
       "  <tbody>\n",
       "    <tr>\n",
       "      <th>2020-02-25</th>\n",
       "      <td>93</td>\n",
       "      <td>311</td>\n",
       "      <td>90</td>\n",
       "      <td>35</td>\n",
       "      <td>150</td>\n",
       "      <td>10</td>\n",
       "      <td>8623</td>\n",
       "      <td>9.0</td>\n",
       "      <td>23.0</td>\n",
       "      <td>3.0</td>\n",
       "      <td>4299.0</td>\n",
       "    </tr>\n",
       "    <tr>\n",
       "      <th>2020-02-26</th>\n",
       "      <td>78</td>\n",
       "      <td>385</td>\n",
       "      <td>74</td>\n",
       "      <td>36</td>\n",
       "      <td>164</td>\n",
       "      <td>12</td>\n",
       "      <td>9587</td>\n",
       "      <td>1.0</td>\n",
       "      <td>14.0</td>\n",
       "      <td>2.0</td>\n",
       "      <td>964.0</td>\n",
       "    </tr>\n",
       "    <tr>\n",
       "      <th>2020-02-27</th>\n",
       "      <td>250</td>\n",
       "      <td>588</td>\n",
       "      <td>203</td>\n",
       "      <td>56</td>\n",
       "      <td>304</td>\n",
       "      <td>17</td>\n",
       "      <td>12014</td>\n",
       "      <td>20.0</td>\n",
       "      <td>140.0</td>\n",
       "      <td>5.0</td>\n",
       "      <td>2427.0</td>\n",
       "    </tr>\n",
       "    <tr>\n",
       "      <th>2020-02-28</th>\n",
       "      <td>238</td>\n",
       "      <td>821</td>\n",
       "      <td>233</td>\n",
       "      <td>64</td>\n",
       "      <td>409</td>\n",
       "      <td>21</td>\n",
       "      <td>15695</td>\n",
       "      <td>8.0</td>\n",
       "      <td>105.0</td>\n",
       "      <td>4.0</td>\n",
       "      <td>3681.0</td>\n",
       "    </tr>\n",
       "    <tr>\n",
       "      <th>2020-02-29</th>\n",
       "      <td>240</td>\n",
       "      <td>1049</td>\n",
       "      <td>228</td>\n",
       "      <td>105</td>\n",
       "      <td>506</td>\n",
       "      <td>29</td>\n",
       "      <td>18661</td>\n",
       "      <td>41.0</td>\n",
       "      <td>97.0</td>\n",
       "      <td>8.0</td>\n",
       "      <td>2966.0</td>\n",
       "    </tr>\n",
       "    <tr>\n",
       "      <th>...</th>\n",
       "      <td>...</td>\n",
       "      <td>...</td>\n",
       "      <td>...</td>\n",
       "      <td>...</td>\n",
       "      <td>...</td>\n",
       "      <td>...</td>\n",
       "      <td>...</td>\n",
       "      <td>...</td>\n",
       "      <td>...</td>\n",
       "      <td>...</td>\n",
       "      <td>...</td>\n",
       "    </tr>\n",
       "    <tr>\n",
       "      <th>2021-02-21</th>\n",
       "      <td>13452</td>\n",
       "      <td>388895</td>\n",
       "      <td>4272</td>\n",
       "      <td>2094</td>\n",
       "      <td>19898</td>\n",
       "      <td>95718</td>\n",
       "      <td>38058939</td>\n",
       "      <td>31.0</td>\n",
       "      <td>110.0</td>\n",
       "      <td>232.0</td>\n",
       "      <td>250986.0</td>\n",
       "    </tr>\n",
       "    <tr>\n",
       "      <th>2021-02-22</th>\n",
       "      <td>9630</td>\n",
       "      <td>387903</td>\n",
       "      <td>-992</td>\n",
       "      <td>2118</td>\n",
       "      <td>20273</td>\n",
       "      <td>95992</td>\n",
       "      <td>38229611</td>\n",
       "      <td>24.0</td>\n",
       "      <td>375.0</td>\n",
       "      <td>274.0</td>\n",
       "      <td>170672.0</td>\n",
       "    </tr>\n",
       "    <tr>\n",
       "      <th>2021-02-23</th>\n",
       "      <td>13314</td>\n",
       "      <td>387948</td>\n",
       "      <td>45</td>\n",
       "      <td>2146</td>\n",
       "      <td>20441</td>\n",
       "      <td>96348</td>\n",
       "      <td>38533461</td>\n",
       "      <td>28.0</td>\n",
       "      <td>168.0</td>\n",
       "      <td>356.0</td>\n",
       "      <td>303850.0</td>\n",
       "    </tr>\n",
       "    <tr>\n",
       "      <th>2021-02-24</th>\n",
       "      <td>16424</td>\n",
       "      <td>389433</td>\n",
       "      <td>1485</td>\n",
       "      <td>2157</td>\n",
       "      <td>20374</td>\n",
       "      <td>96666</td>\n",
       "      <td>38873708</td>\n",
       "      <td>11.0</td>\n",
       "      <td>-67.0</td>\n",
       "      <td>318.0</td>\n",
       "      <td>340247.0</td>\n",
       "    </tr>\n",
       "    <tr>\n",
       "      <th>2021-02-25</th>\n",
       "      <td>19886</td>\n",
       "      <td>396143</td>\n",
       "      <td>6710</td>\n",
       "      <td>2168</td>\n",
       "      <td>20425</td>\n",
       "      <td>96974</td>\n",
       "      <td>39227412</td>\n",
       "      <td>11.0</td>\n",
       "      <td>51.0</td>\n",
       "      <td>308.0</td>\n",
       "      <td>353704.0</td>\n",
       "    </tr>\n",
       "  </tbody>\n",
       "</table>\n",
       "<p>367 rows × 11 columns</p>\n",
       "</div>"
      ],
      "text/plain": [
       "            Daily cases  Total positives  Total positives variation  \\\n",
       "Date                                                                  \n",
       "2020-02-25           93              311                         90   \n",
       "2020-02-26           78              385                         74   \n",
       "2020-02-27          250              588                        203   \n",
       "2020-02-28          238              821                        233   \n",
       "2020-02-29          240             1049                        228   \n",
       "...                 ...              ...                        ...   \n",
       "2021-02-21        13452           388895                       4272   \n",
       "2021-02-22         9630           387903                       -992   \n",
       "2021-02-23        13314           387948                         45   \n",
       "2021-02-24        16424           389433                       1485   \n",
       "2021-02-25        19886           396143                       6710   \n",
       "\n",
       "            Total intensive care  Total hospitalized  Total deaths     Tests  \\\n",
       "Date                                                                           \n",
       "2020-02-25                    35                 150            10      8623   \n",
       "2020-02-26                    36                 164            12      9587   \n",
       "2020-02-27                    56                 304            17     12014   \n",
       "2020-02-28                    64                 409            21     15695   \n",
       "2020-02-29                   105                 506            29     18661   \n",
       "...                          ...                 ...           ...       ...   \n",
       "2021-02-21                  2094               19898         95718  38058939   \n",
       "2021-02-22                  2118               20273         95992  38229611   \n",
       "2021-02-23                  2146               20441         96348  38533461   \n",
       "2021-02-24                  2157               20374         96666  38873708   \n",
       "2021-02-25                  2168               20425         96974  39227412   \n",
       "\n",
       "            Daily intensive care  Daily hospitalized  Daily deaths  \\\n",
       "Date                                                                 \n",
       "2020-02-25                   9.0                23.0           3.0   \n",
       "2020-02-26                   1.0                14.0           2.0   \n",
       "2020-02-27                  20.0               140.0           5.0   \n",
       "2020-02-28                   8.0               105.0           4.0   \n",
       "2020-02-29                  41.0                97.0           8.0   \n",
       "...                          ...                 ...           ...   \n",
       "2021-02-21                  31.0               110.0         232.0   \n",
       "2021-02-22                  24.0               375.0         274.0   \n",
       "2021-02-23                  28.0               168.0         356.0   \n",
       "2021-02-24                  11.0               -67.0         318.0   \n",
       "2021-02-25                  11.0                51.0         308.0   \n",
       "\n",
       "            Daily tests  \n",
       "Date                     \n",
       "2020-02-25       4299.0  \n",
       "2020-02-26        964.0  \n",
       "2020-02-27       2427.0  \n",
       "2020-02-28       3681.0  \n",
       "2020-02-29       2966.0  \n",
       "...                 ...  \n",
       "2021-02-21     250986.0  \n",
       "2021-02-22     170672.0  \n",
       "2021-02-23     303850.0  \n",
       "2021-02-24     340247.0  \n",
       "2021-02-25     353704.0  \n",
       "\n",
       "[367 rows x 11 columns]"
      ]
     },
     "execution_count": 53,
     "metadata": {},
     "output_type": "execute_result"
    }
   ],
   "source": [
    "df"
   ]
  },
  {
   "cell_type": "code",
   "execution_count": 54,
   "id": "21869de8",
   "metadata": {
    "collapsed": false,
    "jupyter": {
     "outputs_hidden": false
    },
    "pycharm": {
     "name": "#%%\n"
    }
   },
   "outputs": [],
   "source": [
    "series = TimeSeries.from_series(df[name])"
   ]
  },
  {
   "cell_type": "markdown",
   "id": "5a53aae7",
   "metadata": {},
   "source": [
    "## Darts"
   ]
  },
  {
   "cell_type": "code",
   "execution_count": 10,
   "id": "8f3c456e-3d3b-4874-a085-ac417926c8ab",
   "metadata": {
    "collapsed": false,
    "jupyter": {
     "outputs_hidden": false
    },
    "pycharm": {
     "name": "#%%\n"
    }
   },
   "outputs": [],
   "source": [
    "models = [ExponentialSmoothing(), AutoARIMA(), Prophet()]"
   ]
  },
  {
   "cell_type": "code",
   "execution_count": null,
   "id": "a3326e84",
   "metadata": {
    "collapsed": false,
    "jupyter": {
     "outputs_hidden": false
    },
    "pycharm": {
     "name": "#%%\n"
    }
   },
   "outputs": [],
   "source": [
    "import functools\n",
    "\n",
    "backtests = []\n",
    "\n",
    "for model in models:\n",
    "    print(f\"{model}: running...\")\n",
    "    initial_time = time.time()\n",
    "    hist_pred = model.historical_forecasts(series,\n",
    "                            start=pd.Timestamp('2020-08-19'),\n",
    "                            forecast_horizon=delta, stride=delta, verbose=True, last_points_only=False)\n",
    "    hist_pred = functools.reduce(lambda a, b: a.append(b), hist_pred)\n",
    "    backtests.append(hist_pred)\n",
    "    \n",
    "    final_time = time.time() - initial_time\n",
    "    print(f\"{model}: final time spent: {round(final_time, 3)}\")"
   ]
  },
  {
   "cell_type": "code",
   "execution_count": null,
   "id": "5aa59983",
   "metadata": {
    "collapsed": false,
    "jupyter": {
     "outputs_hidden": false
    },
    "pycharm": {
     "name": "#%%\n"
    }
   },
   "outputs": [],
   "source": [
    "from darts.dataprocessing.transformers import Scaler\n",
    "\n",
    "print(f\"LSTM: running...\")\n",
    "initial_time = time.time()\n",
    "transformer = Scaler()\n",
    "transformed_series = transformer.fit_transform(series)\n",
    "lstm = RNNModel(model='LSTM', input_chunk_length=round(len(series)/4), output_chunk_length=1)\n",
    "models.append(lstm)\n",
    "\n",
    "hist_pred =  lstm.historical_forecasts(transformed_series,\n",
    "                            start=pd.Timestamp('2020-08-19'),\n",
    "                            forecast_horizon=delta, stride=delta, verbose=True, last_points_only=False)\n",
    "hist_pred = functools.reduce(lambda a, b: a.append(b), hist_pred)\n",
    "backtests.append(transformer.inverse_transform(hist_pred))\n",
    "final_time = time.time() - initial_time\n",
    "print(f\"LSTM: final time spent: {round(final_time, 3)}\")"
   ]
  },
  {
   "cell_type": "code",
   "execution_count": null,
   "id": "271220c7",
   "metadata": {
    "collapsed": false,
    "jupyter": {
     "outputs_hidden": false
    },
    "pycharm": {
     "name": "#%%\n"
    }
   },
   "outputs": [],
   "source": [
    "darts_maes = {}\n",
    "darts_rmses = {}\n",
    "\n",
    "for i, m in enumerate(models):\n",
    "    prediction = backtests[i]\n",
    "    #     print(prediction)\n",
    "    err_mae = mae(backtests[i], series)\n",
    "    err_rmse = rmse(backtests[i], series)\n",
    "    darts_maes[m] = err_mae\n",
    "    darts_rmses[m] = err_rmse\n"
   ]
  },
  {
   "cell_type": "markdown",
   "id": "9c5942c6",
   "metadata": {},
   "source": [
    "## Timex"
   ]
  },
  {
   "cell_type": "code",
   "execution_count": null,
   "id": "4a7d1950",
   "metadata": {
    "collapsed": false,
    "jupyter": {
     "outputs_hidden": false
    },
    "pycharm": {
     "name": "#%%\n"
    }
   },
   "outputs": [],
   "source": [
    "with open(f\"univariate/delta_{delta}/historical_predictions.pkl\", 'rb') as file:\n",
    "    p = pickle.load(file)"
   ]
  },
  {
   "cell_type": "code",
   "execution_count": null,
   "id": "5b5d682f",
   "metadata": {
    "collapsed": false,
    "jupyter": {
     "outputs_hidden": false
    },
    "pycharm": {
     "name": "#%%\n"
    }
   },
   "outputs": [],
   "source": [
    "timex_maes = {}\n",
    "timex_rmses = {}\n",
    "\n",
    "for i, m in enumerate(p):\n",
    "    pred_timex = p[m]\n",
    "    pred_timex = pred_timex[name].astype('float')\n",
    "    pred_timex = TimeSeries.from_series(pred_timex)\n",
    "    pred_timex = pred_timex.slice_intersect(backtests[0])\n",
    "    #     pred_timex = pred_timex.drop_after(backtests[0].time_index()[-1] + pd.Timedelta(days=1))\n",
    "    assert len(pred_timex) == len(backtests[i])\n",
    "\n",
    "    err_mae = mae(pred_timex, series)\n",
    "    err_rmse = rmse(pred_timex, series)\n",
    "\n",
    "    timex_maes[m] = err_mae\n",
    "    timex_rmses[m] = err_rmse"
   ]
  },
  {
   "cell_type": "code",
   "execution_count": null,
   "id": "6e6ece1d",
   "metadata": {
    "collapsed": false,
    "jupyter": {
     "outputs_hidden": false
    },
    "pycharm": {
     "name": "#%%\n"
    }
   },
   "outputs": [],
   "source": [
    "print(\"########## FINAL RESULTS ##########\")\n",
    "print(f\"Case: Covid-19, case: {name}, delta: {delta}\")\n",
    "print(\"MAES\")\n",
    "print(\"Darts results:\")\n",
    "for i, m in enumerate(darts_maes):\n",
    "    print(f\"{m}, MAE={round(darts_maes[m], 3)}\")\n",
    "\n",
    "print(\"Timex results:\")\n",
    "for i, m in enumerate(timex_maes):\n",
    "    print(f\"{m}, MAE={round(timex_maes[m], 3)}\")\n",
    "\n",
    "print(\"------------------------\")\n",
    "print(\"RMSES\")\n",
    "print(\"Darts results:\")\n",
    "\n",
    "for i, m in enumerate(darts_rmses):\n",
    "    print(f\"{m}, RMSE={round(darts_rmses[m], 3)}\")\n",
    "\n",
    "print(\"Timex results:\")\n",
    "for i, m in enumerate(timex_rmses):\n",
    "    print(f\"{m}, RMSE={round(timex_rmses[m], 3)}\")"
   ]
  },
  {
   "cell_type": "code",
   "execution_count": null,
   "id": "659635da-fc87-4b6c-a474-5384544af97c",
   "metadata": {
    "collapsed": false,
    "jupyter": {
     "outputs_hidden": false
    },
    "pycharm": {
     "name": "#%%\n"
    }
   },
   "outputs": [],
   "source": [
    "with open(f\"multivariate/delta_{delta}/historical_predictions.pkl\", 'rb') as file:\n",
    "    p = pickle.load(file)"
   ]
  },
  {
   "cell_type": "code",
   "execution_count": null,
   "id": "3ff339c7-0490-47c2-a375-018bc0ded728",
   "metadata": {
    "collapsed": false,
    "jupyter": {
     "outputs_hidden": false
    },
    "pycharm": {
     "name": "#%%\n"
    }
   },
   "outputs": [],
   "source": [
    "timex_maes = {}\n",
    "timex_rmses = {}\n",
    "\n",
    "for i, m in enumerate(p):\n",
    "    pred_timex = p[m]\n",
    "    pred_timex = pred_timex[name].astype('float')\n",
    "    pred_timex = TimeSeries.from_series(pred_timex)\n",
    "    pred_timex = pred_timex.slice_intersect(backtests[0])\n",
    "    #     pred_timex = pred_timex.drop_after(backtests[0].time_index()[-1] + pd.Timedelta(days=1))\n",
    "    assert len(pred_timex) == len(backtests[i])\n",
    "\n",
    "    err_mae = mae(pred_timex, series)\n",
    "    err_rmse = rmse(pred_timex, series)\n",
    "\n",
    "    timex_maes[m] = err_mae\n",
    "    timex_rmses[m] = err_rmse"
   ]
  },
  {
   "cell_type": "code",
   "execution_count": null,
   "id": "6329d015-f423-4dae-bf60-c8649f4377b0",
   "metadata": {
    "collapsed": false,
    "jupyter": {
     "outputs_hidden": false
    },
    "pycharm": {
     "name": "#%%\n"
    }
   },
   "outputs": [],
   "source": [
    "print(\"########## FINAL RESULTS ##########\")\n",
    "print(f\"Case: Covid-19 - Multivariate, case: {name}, delta: {delta}\")\n",
    "print(\"MAES\")\n",
    "print(\"Darts results:\")\n",
    "for i, m in enumerate(darts_maes):\n",
    "    print(f\"{m}, MAE={round(darts_maes[m], 3)}\")\n",
    "\n",
    "print(\"Timex results:\")\n",
    "for i, m in enumerate(timex_maes):\n",
    "    print(f\"{m}, MAE={round(timex_maes[m], 3)}\")\n",
    "\n",
    "print(\"------------------------\")\n",
    "print(\"RMSES\")\n",
    "print(\"Darts results:\")\n",
    "\n",
    "for i, m in enumerate(darts_rmses):\n",
    "    print(f\"{m}, RMSE={round(darts_rmses[m], 3)}\")\n",
    "\n",
    "print(\"Timex results:\")\n",
    "for i, m in enumerate(timex_rmses):\n",
    "    print(f\"{m}, RMSE={round(timex_rmses[m], 3)}\")"
   ]
  },
  {
   "cell_type": "markdown",
   "id": "eecd3360-b01a-44c6-bc53-8f932c134905",
   "metadata": {},
   "source": [
    "## Delta 7"
   ]
  },
  {
   "cell_type": "code",
   "execution_count": 2,
   "id": "ca1cc77f-2fbe-432e-a6be-3863488f813f",
   "metadata": {},
   "outputs": [],
   "source": [
    "name = 'Daily cases'"
   ]
  },
  {
   "cell_type": "code",
   "execution_count": 3,
   "id": "40f61cf3-d5a8-4601-ad93-13b88842d0da",
   "metadata": {
    "collapsed": false,
    "jupyter": {
     "outputs_hidden": false
    },
    "pycharm": {
     "name": "#%%\n"
    }
   },
   "outputs": [],
   "source": [
    "delta = 7"
   ]
  },
  {
   "cell_type": "code",
   "execution_count": 4,
   "id": "fe78ab56-24ed-46d2-9625-7651948d4ae4",
   "metadata": {
    "collapsed": false,
    "jupyter": {
     "outputs_hidden": false
    },
    "pycharm": {
     "name": "#%%\n"
    }
   },
   "outputs": [],
   "source": [
    "df = pd.read_csv(\"Covid19-italy.csv\", parse_dates=[\"Date\"], index_col=\"Date\")"
   ]
  },
  {
   "cell_type": "code",
   "execution_count": 5,
   "id": "198b8753-7141-4971-b255-830f5c3bc040",
   "metadata": {
    "collapsed": false,
    "jupyter": {
     "outputs_hidden": false
    },
    "pycharm": {
     "name": "#%%\n"
    }
   },
   "outputs": [
    {
     "data": {
      "text/html": [
       "<div>\n",
       "<style scoped>\n",
       "    .dataframe tbody tr th:only-of-type {\n",
       "        vertical-align: middle;\n",
       "    }\n",
       "\n",
       "    .dataframe tbody tr th {\n",
       "        vertical-align: top;\n",
       "    }\n",
       "\n",
       "    .dataframe thead th {\n",
       "        text-align: right;\n",
       "    }\n",
       "</style>\n",
       "<table border=\"1\" class=\"dataframe\">\n",
       "  <thead>\n",
       "    <tr style=\"text-align: right;\">\n",
       "      <th></th>\n",
       "      <th>Daily cases</th>\n",
       "      <th>Total positives</th>\n",
       "      <th>Total positives variation</th>\n",
       "      <th>Total intensive care</th>\n",
       "      <th>Total hospitalized</th>\n",
       "      <th>Total deaths</th>\n",
       "      <th>Tests</th>\n",
       "      <th>Daily intensive care</th>\n",
       "      <th>Daily hospitalized</th>\n",
       "      <th>Daily deaths</th>\n",
       "      <th>Daily tests</th>\n",
       "    </tr>\n",
       "    <tr>\n",
       "      <th>Date</th>\n",
       "      <th></th>\n",
       "      <th></th>\n",
       "      <th></th>\n",
       "      <th></th>\n",
       "      <th></th>\n",
       "      <th></th>\n",
       "      <th></th>\n",
       "      <th></th>\n",
       "      <th></th>\n",
       "      <th></th>\n",
       "      <th></th>\n",
       "    </tr>\n",
       "  </thead>\n",
       "  <tbody>\n",
       "    <tr>\n",
       "      <th>2020-02-25</th>\n",
       "      <td>93</td>\n",
       "      <td>311</td>\n",
       "      <td>90</td>\n",
       "      <td>35</td>\n",
       "      <td>150</td>\n",
       "      <td>10</td>\n",
       "      <td>8623</td>\n",
       "      <td>9.0</td>\n",
       "      <td>23.0</td>\n",
       "      <td>3.0</td>\n",
       "      <td>4299.0</td>\n",
       "    </tr>\n",
       "    <tr>\n",
       "      <th>2020-02-26</th>\n",
       "      <td>78</td>\n",
       "      <td>385</td>\n",
       "      <td>74</td>\n",
       "      <td>36</td>\n",
       "      <td>164</td>\n",
       "      <td>12</td>\n",
       "      <td>9587</td>\n",
       "      <td>1.0</td>\n",
       "      <td>14.0</td>\n",
       "      <td>2.0</td>\n",
       "      <td>964.0</td>\n",
       "    </tr>\n",
       "    <tr>\n",
       "      <th>2020-02-27</th>\n",
       "      <td>250</td>\n",
       "      <td>588</td>\n",
       "      <td>203</td>\n",
       "      <td>56</td>\n",
       "      <td>304</td>\n",
       "      <td>17</td>\n",
       "      <td>12014</td>\n",
       "      <td>20.0</td>\n",
       "      <td>140.0</td>\n",
       "      <td>5.0</td>\n",
       "      <td>2427.0</td>\n",
       "    </tr>\n",
       "    <tr>\n",
       "      <th>2020-02-28</th>\n",
       "      <td>238</td>\n",
       "      <td>821</td>\n",
       "      <td>233</td>\n",
       "      <td>64</td>\n",
       "      <td>409</td>\n",
       "      <td>21</td>\n",
       "      <td>15695</td>\n",
       "      <td>8.0</td>\n",
       "      <td>105.0</td>\n",
       "      <td>4.0</td>\n",
       "      <td>3681.0</td>\n",
       "    </tr>\n",
       "    <tr>\n",
       "      <th>2020-02-29</th>\n",
       "      <td>240</td>\n",
       "      <td>1049</td>\n",
       "      <td>228</td>\n",
       "      <td>105</td>\n",
       "      <td>506</td>\n",
       "      <td>29</td>\n",
       "      <td>18661</td>\n",
       "      <td>41.0</td>\n",
       "      <td>97.0</td>\n",
       "      <td>8.0</td>\n",
       "      <td>2966.0</td>\n",
       "    </tr>\n",
       "    <tr>\n",
       "      <th>...</th>\n",
       "      <td>...</td>\n",
       "      <td>...</td>\n",
       "      <td>...</td>\n",
       "      <td>...</td>\n",
       "      <td>...</td>\n",
       "      <td>...</td>\n",
       "      <td>...</td>\n",
       "      <td>...</td>\n",
       "      <td>...</td>\n",
       "      <td>...</td>\n",
       "      <td>...</td>\n",
       "    </tr>\n",
       "    <tr>\n",
       "      <th>2021-05-21</th>\n",
       "      <td>5218</td>\n",
       "      <td>291788</td>\n",
       "      <td>-7698</td>\n",
       "      <td>1469</td>\n",
       "      <td>11394</td>\n",
       "      <td>125028</td>\n",
       "      <td>64092492</td>\n",
       "      <td>-75.0</td>\n",
       "      <td>-533.0</td>\n",
       "      <td>218.0</td>\n",
       "      <td>269744.0</td>\n",
       "    </tr>\n",
       "    <tr>\n",
       "      <th>2021-05-22</th>\n",
       "      <td>4717</td>\n",
       "      <td>283744</td>\n",
       "      <td>-8044</td>\n",
       "      <td>1430</td>\n",
       "      <td>10918</td>\n",
       "      <td>125153</td>\n",
       "      <td>64379095</td>\n",
       "      <td>-39.0</td>\n",
       "      <td>-476.0</td>\n",
       "      <td>125.0</td>\n",
       "      <td>286603.0</td>\n",
       "    </tr>\n",
       "    <tr>\n",
       "      <th>2021-05-23</th>\n",
       "      <td>3995</td>\n",
       "      <td>281092</td>\n",
       "      <td>-2652</td>\n",
       "      <td>1410</td>\n",
       "      <td>10571</td>\n",
       "      <td>125225</td>\n",
       "      <td>64558486</td>\n",
       "      <td>-20.0</td>\n",
       "      <td>-347.0</td>\n",
       "      <td>72.0</td>\n",
       "      <td>179391.0</td>\n",
       "    </tr>\n",
       "    <tr>\n",
       "      <th>2021-05-24</th>\n",
       "      <td>2490</td>\n",
       "      <td>276439</td>\n",
       "      <td>-4653</td>\n",
       "      <td>1382</td>\n",
       "      <td>10332</td>\n",
       "      <td>125335</td>\n",
       "      <td>64665967</td>\n",
       "      <td>-28.0</td>\n",
       "      <td>-239.0</td>\n",
       "      <td>110.0</td>\n",
       "      <td>107481.0</td>\n",
       "    </tr>\n",
       "    <tr>\n",
       "      <th>2021-05-25</th>\n",
       "      <td>3224</td>\n",
       "      <td>268145</td>\n",
       "      <td>-8294</td>\n",
       "      <td>1323</td>\n",
       "      <td>9880</td>\n",
       "      <td>125501</td>\n",
       "      <td>64918613</td>\n",
       "      <td>-59.0</td>\n",
       "      <td>-452.0</td>\n",
       "      <td>166.0</td>\n",
       "      <td>252646.0</td>\n",
       "    </tr>\n",
       "  </tbody>\n",
       "</table>\n",
       "<p>456 rows × 11 columns</p>\n",
       "</div>"
      ],
      "text/plain": [
       "            Daily cases  Total positives  Total positives variation  \\\n",
       "Date                                                                  \n",
       "2020-02-25           93              311                         90   \n",
       "2020-02-26           78              385                         74   \n",
       "2020-02-27          250              588                        203   \n",
       "2020-02-28          238              821                        233   \n",
       "2020-02-29          240             1049                        228   \n",
       "...                 ...              ...                        ...   \n",
       "2021-05-21         5218           291788                      -7698   \n",
       "2021-05-22         4717           283744                      -8044   \n",
       "2021-05-23         3995           281092                      -2652   \n",
       "2021-05-24         2490           276439                      -4653   \n",
       "2021-05-25         3224           268145                      -8294   \n",
       "\n",
       "            Total intensive care  Total hospitalized  Total deaths     Tests  \\\n",
       "Date                                                                           \n",
       "2020-02-25                    35                 150            10      8623   \n",
       "2020-02-26                    36                 164            12      9587   \n",
       "2020-02-27                    56                 304            17     12014   \n",
       "2020-02-28                    64                 409            21     15695   \n",
       "2020-02-29                   105                 506            29     18661   \n",
       "...                          ...                 ...           ...       ...   \n",
       "2021-05-21                  1469               11394        125028  64092492   \n",
       "2021-05-22                  1430               10918        125153  64379095   \n",
       "2021-05-23                  1410               10571        125225  64558486   \n",
       "2021-05-24                  1382               10332        125335  64665967   \n",
       "2021-05-25                  1323                9880        125501  64918613   \n",
       "\n",
       "            Daily intensive care  Daily hospitalized  Daily deaths  \\\n",
       "Date                                                                 \n",
       "2020-02-25                   9.0                23.0           3.0   \n",
       "2020-02-26                   1.0                14.0           2.0   \n",
       "2020-02-27                  20.0               140.0           5.0   \n",
       "2020-02-28                   8.0               105.0           4.0   \n",
       "2020-02-29                  41.0                97.0           8.0   \n",
       "...                          ...                 ...           ...   \n",
       "2021-05-21                 -75.0              -533.0         218.0   \n",
       "2021-05-22                 -39.0              -476.0         125.0   \n",
       "2021-05-23                 -20.0              -347.0          72.0   \n",
       "2021-05-24                 -28.0              -239.0         110.0   \n",
       "2021-05-25                 -59.0              -452.0         166.0   \n",
       "\n",
       "            Daily tests  \n",
       "Date                     \n",
       "2020-02-25       4299.0  \n",
       "2020-02-26        964.0  \n",
       "2020-02-27       2427.0  \n",
       "2020-02-28       3681.0  \n",
       "2020-02-29       2966.0  \n",
       "...                 ...  \n",
       "2021-05-21     269744.0  \n",
       "2021-05-22     286603.0  \n",
       "2021-05-23     179391.0  \n",
       "2021-05-24     107481.0  \n",
       "2021-05-25     252646.0  \n",
       "\n",
       "[456 rows x 11 columns]"
      ]
     },
     "execution_count": 5,
     "metadata": {},
     "output_type": "execute_result"
    }
   ],
   "source": [
    "df"
   ]
  },
  {
   "cell_type": "code",
   "execution_count": 6,
   "id": "daf7af50-7421-451f-9759-f52b1c811755",
   "metadata": {
    "collapsed": false,
    "jupyter": {
     "outputs_hidden": false
    },
    "pycharm": {
     "name": "#%%\n"
    }
   },
   "outputs": [],
   "source": [
    "df = df.loc[:pd.Timestamp(\"20210225\"), :]"
   ]
  },
  {
   "cell_type": "code",
   "execution_count": 7,
   "id": "6c690fdf-b36a-496a-a9dd-11668902e2b6",
   "metadata": {
    "collapsed": false,
    "jupyter": {
     "outputs_hidden": false
    },
    "pycharm": {
     "name": "#%%\n"
    }
   },
   "outputs": [
    {
     "data": {
      "text/html": [
       "<div>\n",
       "<style scoped>\n",
       "    .dataframe tbody tr th:only-of-type {\n",
       "        vertical-align: middle;\n",
       "    }\n",
       "\n",
       "    .dataframe tbody tr th {\n",
       "        vertical-align: top;\n",
       "    }\n",
       "\n",
       "    .dataframe thead th {\n",
       "        text-align: right;\n",
       "    }\n",
       "</style>\n",
       "<table border=\"1\" class=\"dataframe\">\n",
       "  <thead>\n",
       "    <tr style=\"text-align: right;\">\n",
       "      <th></th>\n",
       "      <th>Daily cases</th>\n",
       "      <th>Total positives</th>\n",
       "      <th>Total positives variation</th>\n",
       "      <th>Total intensive care</th>\n",
       "      <th>Total hospitalized</th>\n",
       "      <th>Total deaths</th>\n",
       "      <th>Tests</th>\n",
       "      <th>Daily intensive care</th>\n",
       "      <th>Daily hospitalized</th>\n",
       "      <th>Daily deaths</th>\n",
       "      <th>Daily tests</th>\n",
       "    </tr>\n",
       "    <tr>\n",
       "      <th>Date</th>\n",
       "      <th></th>\n",
       "      <th></th>\n",
       "      <th></th>\n",
       "      <th></th>\n",
       "      <th></th>\n",
       "      <th></th>\n",
       "      <th></th>\n",
       "      <th></th>\n",
       "      <th></th>\n",
       "      <th></th>\n",
       "      <th></th>\n",
       "    </tr>\n",
       "  </thead>\n",
       "  <tbody>\n",
       "    <tr>\n",
       "      <th>2020-02-25</th>\n",
       "      <td>93</td>\n",
       "      <td>311</td>\n",
       "      <td>90</td>\n",
       "      <td>35</td>\n",
       "      <td>150</td>\n",
       "      <td>10</td>\n",
       "      <td>8623</td>\n",
       "      <td>9.0</td>\n",
       "      <td>23.0</td>\n",
       "      <td>3.0</td>\n",
       "      <td>4299.0</td>\n",
       "    </tr>\n",
       "    <tr>\n",
       "      <th>2020-02-26</th>\n",
       "      <td>78</td>\n",
       "      <td>385</td>\n",
       "      <td>74</td>\n",
       "      <td>36</td>\n",
       "      <td>164</td>\n",
       "      <td>12</td>\n",
       "      <td>9587</td>\n",
       "      <td>1.0</td>\n",
       "      <td>14.0</td>\n",
       "      <td>2.0</td>\n",
       "      <td>964.0</td>\n",
       "    </tr>\n",
       "    <tr>\n",
       "      <th>2020-02-27</th>\n",
       "      <td>250</td>\n",
       "      <td>588</td>\n",
       "      <td>203</td>\n",
       "      <td>56</td>\n",
       "      <td>304</td>\n",
       "      <td>17</td>\n",
       "      <td>12014</td>\n",
       "      <td>20.0</td>\n",
       "      <td>140.0</td>\n",
       "      <td>5.0</td>\n",
       "      <td>2427.0</td>\n",
       "    </tr>\n",
       "    <tr>\n",
       "      <th>2020-02-28</th>\n",
       "      <td>238</td>\n",
       "      <td>821</td>\n",
       "      <td>233</td>\n",
       "      <td>64</td>\n",
       "      <td>409</td>\n",
       "      <td>21</td>\n",
       "      <td>15695</td>\n",
       "      <td>8.0</td>\n",
       "      <td>105.0</td>\n",
       "      <td>4.0</td>\n",
       "      <td>3681.0</td>\n",
       "    </tr>\n",
       "    <tr>\n",
       "      <th>2020-02-29</th>\n",
       "      <td>240</td>\n",
       "      <td>1049</td>\n",
       "      <td>228</td>\n",
       "      <td>105</td>\n",
       "      <td>506</td>\n",
       "      <td>29</td>\n",
       "      <td>18661</td>\n",
       "      <td>41.0</td>\n",
       "      <td>97.0</td>\n",
       "      <td>8.0</td>\n",
       "      <td>2966.0</td>\n",
       "    </tr>\n",
       "    <tr>\n",
       "      <th>...</th>\n",
       "      <td>...</td>\n",
       "      <td>...</td>\n",
       "      <td>...</td>\n",
       "      <td>...</td>\n",
       "      <td>...</td>\n",
       "      <td>...</td>\n",
       "      <td>...</td>\n",
       "      <td>...</td>\n",
       "      <td>...</td>\n",
       "      <td>...</td>\n",
       "      <td>...</td>\n",
       "    </tr>\n",
       "    <tr>\n",
       "      <th>2021-02-21</th>\n",
       "      <td>13452</td>\n",
       "      <td>388895</td>\n",
       "      <td>4272</td>\n",
       "      <td>2094</td>\n",
       "      <td>19898</td>\n",
       "      <td>95718</td>\n",
       "      <td>38058939</td>\n",
       "      <td>31.0</td>\n",
       "      <td>110.0</td>\n",
       "      <td>232.0</td>\n",
       "      <td>250986.0</td>\n",
       "    </tr>\n",
       "    <tr>\n",
       "      <th>2021-02-22</th>\n",
       "      <td>9630</td>\n",
       "      <td>387903</td>\n",
       "      <td>-992</td>\n",
       "      <td>2118</td>\n",
       "      <td>20273</td>\n",
       "      <td>95992</td>\n",
       "      <td>38229611</td>\n",
       "      <td>24.0</td>\n",
       "      <td>375.0</td>\n",
       "      <td>274.0</td>\n",
       "      <td>170672.0</td>\n",
       "    </tr>\n",
       "    <tr>\n",
       "      <th>2021-02-23</th>\n",
       "      <td>13314</td>\n",
       "      <td>387948</td>\n",
       "      <td>45</td>\n",
       "      <td>2146</td>\n",
       "      <td>20441</td>\n",
       "      <td>96348</td>\n",
       "      <td>38533461</td>\n",
       "      <td>28.0</td>\n",
       "      <td>168.0</td>\n",
       "      <td>356.0</td>\n",
       "      <td>303850.0</td>\n",
       "    </tr>\n",
       "    <tr>\n",
       "      <th>2021-02-24</th>\n",
       "      <td>16424</td>\n",
       "      <td>389433</td>\n",
       "      <td>1485</td>\n",
       "      <td>2157</td>\n",
       "      <td>20374</td>\n",
       "      <td>96666</td>\n",
       "      <td>38873708</td>\n",
       "      <td>11.0</td>\n",
       "      <td>-67.0</td>\n",
       "      <td>318.0</td>\n",
       "      <td>340247.0</td>\n",
       "    </tr>\n",
       "    <tr>\n",
       "      <th>2021-02-25</th>\n",
       "      <td>19886</td>\n",
       "      <td>396143</td>\n",
       "      <td>6710</td>\n",
       "      <td>2168</td>\n",
       "      <td>20425</td>\n",
       "      <td>96974</td>\n",
       "      <td>39227412</td>\n",
       "      <td>11.0</td>\n",
       "      <td>51.0</td>\n",
       "      <td>308.0</td>\n",
       "      <td>353704.0</td>\n",
       "    </tr>\n",
       "  </tbody>\n",
       "</table>\n",
       "<p>367 rows × 11 columns</p>\n",
       "</div>"
      ],
      "text/plain": [
       "            Daily cases  Total positives  Total positives variation  \\\n",
       "Date                                                                  \n",
       "2020-02-25           93              311                         90   \n",
       "2020-02-26           78              385                         74   \n",
       "2020-02-27          250              588                        203   \n",
       "2020-02-28          238              821                        233   \n",
       "2020-02-29          240             1049                        228   \n",
       "...                 ...              ...                        ...   \n",
       "2021-02-21        13452           388895                       4272   \n",
       "2021-02-22         9630           387903                       -992   \n",
       "2021-02-23        13314           387948                         45   \n",
       "2021-02-24        16424           389433                       1485   \n",
       "2021-02-25        19886           396143                       6710   \n",
       "\n",
       "            Total intensive care  Total hospitalized  Total deaths     Tests  \\\n",
       "Date                                                                           \n",
       "2020-02-25                    35                 150            10      8623   \n",
       "2020-02-26                    36                 164            12      9587   \n",
       "2020-02-27                    56                 304            17     12014   \n",
       "2020-02-28                    64                 409            21     15695   \n",
       "2020-02-29                   105                 506            29     18661   \n",
       "...                          ...                 ...           ...       ...   \n",
       "2021-02-21                  2094               19898         95718  38058939   \n",
       "2021-02-22                  2118               20273         95992  38229611   \n",
       "2021-02-23                  2146               20441         96348  38533461   \n",
       "2021-02-24                  2157               20374         96666  38873708   \n",
       "2021-02-25                  2168               20425         96974  39227412   \n",
       "\n",
       "            Daily intensive care  Daily hospitalized  Daily deaths  \\\n",
       "Date                                                                 \n",
       "2020-02-25                   9.0                23.0           3.0   \n",
       "2020-02-26                   1.0                14.0           2.0   \n",
       "2020-02-27                  20.0               140.0           5.0   \n",
       "2020-02-28                   8.0               105.0           4.0   \n",
       "2020-02-29                  41.0                97.0           8.0   \n",
       "...                          ...                 ...           ...   \n",
       "2021-02-21                  31.0               110.0         232.0   \n",
       "2021-02-22                  24.0               375.0         274.0   \n",
       "2021-02-23                  28.0               168.0         356.0   \n",
       "2021-02-24                  11.0               -67.0         318.0   \n",
       "2021-02-25                  11.0                51.0         308.0   \n",
       "\n",
       "            Daily tests  \n",
       "Date                     \n",
       "2020-02-25       4299.0  \n",
       "2020-02-26        964.0  \n",
       "2020-02-27       2427.0  \n",
       "2020-02-28       3681.0  \n",
       "2020-02-29       2966.0  \n",
       "...                 ...  \n",
       "2021-02-21     250986.0  \n",
       "2021-02-22     170672.0  \n",
       "2021-02-23     303850.0  \n",
       "2021-02-24     340247.0  \n",
       "2021-02-25     353704.0  \n",
       "\n",
       "[367 rows x 11 columns]"
      ]
     },
     "execution_count": 7,
     "metadata": {},
     "output_type": "execute_result"
    }
   ],
   "source": [
    "df"
   ]
  },
  {
   "cell_type": "code",
   "execution_count": 8,
   "id": "4e5eeb0f-b95a-455c-8ed3-17c80e47420f",
   "metadata": {
    "collapsed": false,
    "jupyter": {
     "outputs_hidden": false
    },
    "pycharm": {
     "name": "#%%\n"
    }
   },
   "outputs": [],
   "source": [
    "series = TimeSeries.from_series(df[name])"
   ]
  },
  {
   "cell_type": "markdown",
   "id": "b07c0ed0-9623-4a79-bf8a-e058db785b4b",
   "metadata": {},
   "source": [
    "## Darts"
   ]
  },
  {
   "cell_type": "code",
   "execution_count": 11,
   "id": "34a29845-9f22-41bc-89de-9c438da0adcb",
   "metadata": {
    "collapsed": false,
    "jupyter": {
     "outputs_hidden": false
    },
    "pycharm": {
     "name": "#%%\n"
    }
   },
   "outputs": [
    {
     "name": "stdout",
     "output_type": "stream",
     "text": [
      "Exponential smoothing: running...\n"
     ]
    },
    {
     "data": {
      "application/vnd.jupyter.widget-view+json": {
       "model_id": "cd41fae5da9e4b75a44ac8395f251ff6",
       "version_major": 2,
       "version_minor": 0
      },
      "text/plain": [
       "  0%|          | 0/27 [00:00<?, ?it/s]"
      ]
     },
     "metadata": {},
     "output_type": "display_data"
    },
    {
     "name": "stdout",
     "output_type": "stream",
     "text": [
      "Exponential smoothing: final time spent: 3.611\n",
      "Auto-ARIMA: running...\n"
     ]
    },
    {
     "data": {
      "application/vnd.jupyter.widget-view+json": {
       "model_id": "6848884c6a65487099bdd5a5eca7ea6c",
       "version_major": 2,
       "version_minor": 0
      },
      "text/plain": [
       "  0%|          | 0/27 [00:00<?, ?it/s]"
      ]
     },
     "metadata": {},
     "output_type": "display_data"
    },
    {
     "name": "stdout",
     "output_type": "stream",
     "text": [
      "Auto-ARIMA: final time spent: 136.55\n",
      "Prophet: running...\n"
     ]
    },
    {
     "data": {
      "application/vnd.jupyter.widget-view+json": {
       "model_id": "b67c57afe9b8471aad2bde7f4caae8f2",
       "version_major": 2,
       "version_minor": 0
      },
      "text/plain": [
       "  0%|          | 0/27 [00:00<?, ?it/s]"
      ]
     },
     "metadata": {},
     "output_type": "display_data"
    },
    {
     "name": "stdout",
     "output_type": "stream",
     "text": [
      "Prophet: final time spent: 41.826\n"
     ]
    }
   ],
   "source": [
    "import functools\n",
    "\n",
    "backtests = []\n",
    "\n",
    "for model in models:\n",
    "    print(f\"{model}: running...\")\n",
    "    initial_time = time.time()\n",
    "    hist_pred = model.historical_forecasts(series,\n",
    "                            start=pd.Timestamp('2020-08-19'),\n",
    "                            forecast_horizon=delta, stride=delta, verbose=True, last_points_only=False)\n",
    "    hist_pred = functools.reduce(lambda a, b: a.append(b), hist_pred)\n",
    "    backtests.append(hist_pred)\n",
    "    \n",
    "    final_time = time.time() - initial_time\n",
    "    print(f\"{model}: final time spent: {round(final_time, 3)}\")"
   ]
  },
  {
   "cell_type": "code",
   "execution_count": 12,
   "id": "392d1526-d015-4d70-bef0-ebfde2fbf675",
   "metadata": {
    "collapsed": false,
    "jupyter": {
     "outputs_hidden": false
    },
    "pycharm": {
     "name": "#%%\n"
    }
   },
   "outputs": [
    {
     "name": "stdout",
     "output_type": "stream",
     "text": [
      "LSTM: running...\n"
     ]
    },
    {
     "data": {
      "application/vnd.jupyter.widget-view+json": {
       "model_id": "b26e207c81e24acabff9cb9b3d1b7bdd",
       "version_major": 2,
       "version_minor": 0
      },
      "text/plain": [
       "  0%|          | 0/27 [00:00<?, ?it/s]"
      ]
     },
     "metadata": {},
     "output_type": "display_data"
    },
    {
     "name": "stdout",
     "output_type": "stream",
     "text": [
      "LSTM: final time spent: 86.452\n"
     ]
    }
   ],
   "source": [
    "from darts.dataprocessing.transformers import Scaler\n",
    "\n",
    "print(f\"LSTM: running...\")\n",
    "initial_time = time.time()\n",
    "transformer = Scaler()\n",
    "transformed_series = transformer.fit_transform(series)\n",
    "lstm = RNNModel(model='LSTM', input_chunk_length=round(len(series)/4), output_chunk_length=1)\n",
    "models.append(lstm)\n",
    "\n",
    "hist_pred =  lstm.historical_forecasts(transformed_series,\n",
    "                            start=pd.Timestamp('2020-08-19'),\n",
    "                            forecast_horizon=delta, stride=delta, verbose=True, last_points_only=False)\n",
    "hist_pred = functools.reduce(lambda a, b: a.append(b), hist_pred)\n",
    "backtests.append(transformer.inverse_transform(hist_pred))\n",
    "final_time = time.time() - initial_time\n",
    "print(f\"LSTM: final time spent: {round(final_time, 3)}\")"
   ]
  },
  {
   "cell_type": "code",
   "execution_count": 13,
   "id": "b38ac5c3-648a-44ec-b594-f31055e4ecf7",
   "metadata": {
    "collapsed": false,
    "jupyter": {
     "outputs_hidden": false
    },
    "pycharm": {
     "name": "#%%\n"
    }
   },
   "outputs": [],
   "source": [
    "darts_maes = {}\n",
    "darts_rmses = {}\n",
    "\n",
    "for i, m in enumerate(models):\n",
    "    prediction = backtests[i]\n",
    "    #     print(prediction)\n",
    "    err_mae = mae(backtests[i], series)\n",
    "    err_rmse = rmse(backtests[i], series)\n",
    "    darts_maes[m] = err_mae\n",
    "    darts_rmses[m] = err_rmse\n",
    "\n",
    "#     print(f\"{m}: MAE = {round(err_mae, 3)}, RMSE = {round(err_rmse, 3)}\")\n"
   ]
  },
  {
   "cell_type": "markdown",
   "id": "77a7ae56-fffe-412e-af7b-7af9ac98a25a",
   "metadata": {},
   "source": [
    "## Timex"
   ]
  },
  {
   "cell_type": "code",
   "execution_count": 14,
   "id": "fa2758e2-f8ea-4cc2-a6a0-380a95deef3d",
   "metadata": {
    "collapsed": false,
    "jupyter": {
     "outputs_hidden": false
    },
    "pycharm": {
     "name": "#%%\n"
    }
   },
   "outputs": [],
   "source": [
    "with open(f\"univariate/delta_{delta}/historical_predictions.pkl\", 'rb') as file:\n",
    "    p = pickle.load(file)"
   ]
  },
  {
   "cell_type": "code",
   "execution_count": 15,
   "id": "e68be29c-d636-4b42-93fa-36745edbd8eb",
   "metadata": {
    "collapsed": false,
    "jupyter": {
     "outputs_hidden": false
    },
    "pycharm": {
     "name": "#%%\n"
    }
   },
   "outputs": [],
   "source": [
    "timex_maes = {}\n",
    "timex_rmses = {}\n",
    "\n",
    "for i, m in enumerate(p):\n",
    "    pred_timex = p[m]\n",
    "    pred_timex = pred_timex[name].astype('float')\n",
    "    pred_timex = TimeSeries.from_series(pred_timex)\n",
    "    pred_timex = pred_timex.slice_intersect(backtests[0])\n",
    "    #     pred_timex = pred_timex.drop_after(backtests[0].time_index()[-1] + pd.Timedelta(days=1))\n",
    "    assert len(pred_timex) == len(backtests[i])\n",
    "\n",
    "    err_mae = mae(pred_timex, series)\n",
    "    err_rmse = rmse(pred_timex, series)\n",
    "\n",
    "    timex_maes[m] = err_mae\n",
    "    timex_rmses[m] = err_rmse"
   ]
  },
  {
   "cell_type": "code",
   "execution_count": 16,
   "id": "d0d956ce-8b95-4822-aa3e-42167613f7a6",
   "metadata": {
    "collapsed": false,
    "jupyter": {
     "outputs_hidden": false
    },
    "pycharm": {
     "name": "#%%\n"
    }
   },
   "outputs": [
    {
     "name": "stdout",
     "output_type": "stream",
     "text": [
      "########## FINAL RESULTS ##########\n",
      "Case: Covid-19, case: Daily cases, delta: 7\n",
      "MAES\n",
      "Darts results:\n",
      "Exponential smoothing, MAE=2823.24\n",
      "Auto-ARIMA, MAE=2224.84\n",
      "Prophet, MAE=7144.699\n",
      "<darts.models.rnn_model.RNNModel object at 0x7f40dd0e31f0>, MAE=2886.039\n",
      "Timex results:\n",
      "exponentialsmoothing, MAE=2321.648\n",
      "fbprophet, MAE=2501.13\n",
      "lstm, MAE=2898.893\n",
      "arima, MAE=2179.737\n",
      "------------------------\n",
      "RMSES\n",
      "Darts results:\n",
      "Exponential smoothing, RMSE=3757.231\n",
      "Auto-ARIMA, RMSE=3224.379\n",
      "Prophet, RMSE=9647.744\n",
      "<darts.models.rnn_model.RNNModel object at 0x7f40dd0e31f0>, RMSE=4258.9\n",
      "Timex results:\n",
      "exponentialsmoothing, RMSE=3528.258\n",
      "fbprophet, RMSE=4530.969\n",
      "lstm, RMSE=4020.379\n",
      "arima, RMSE=3255.058\n"
     ]
    }
   ],
   "source": [
    "print(\"########## FINAL RESULTS ##########\")\n",
    "print(f\"Case: Covid-19, case: {name}, delta: {delta}\")\n",
    "print(\"MAES\")\n",
    "print(\"Darts results:\")\n",
    "for i, m in enumerate(darts_maes):\n",
    "    print(f\"{m}, MAE={round(darts_maes[m], 3)}\")\n",
    "\n",
    "print(\"Timex results:\")\n",
    "for i, m in enumerate(timex_maes):\n",
    "    print(f\"{m}, MAE={round(timex_maes[m], 3)}\")\n",
    "\n",
    "print(\"------------------------\")\n",
    "print(\"RMSES\")\n",
    "print(\"Darts results:\")\n",
    "\n",
    "for i, m in enumerate(darts_rmses):\n",
    "    print(f\"{m}, RMSE={round(darts_rmses[m], 3)}\")\n",
    "\n",
    "print(\"Timex results:\")\n",
    "for i, m in enumerate(timex_rmses):\n",
    "    print(f\"{m}, RMSE={round(timex_rmses[m], 3)}\")"
   ]
  },
  {
   "cell_type": "code",
   "execution_count": 17,
   "id": "ab60af88-622c-40b1-8ac0-dc00fdebf26d",
   "metadata": {
    "collapsed": false,
    "jupyter": {
     "outputs_hidden": false
    },
    "pycharm": {
     "name": "#%%\n"
    }
   },
   "outputs": [],
   "source": [
    "with open(f\"multivariate/delta_{delta}/historical_predictions.pkl\", 'rb') as file:\n",
    "    p = pickle.load(file)"
   ]
  },
  {
   "cell_type": "code",
   "execution_count": 18,
   "id": "b93ae566-4936-4e63-a95b-4fe42f3f5efb",
   "metadata": {
    "collapsed": false,
    "jupyter": {
     "outputs_hidden": false
    },
    "pycharm": {
     "name": "#%%\n"
    }
   },
   "outputs": [],
   "source": [
    "timex_maes = {}\n",
    "timex_rmses = {}\n",
    "\n",
    "for i, m in enumerate(p):\n",
    "    pred_timex = p[m]\n",
    "    pred_timex = pred_timex[name].astype('float')\n",
    "    pred_timex = TimeSeries.from_series(pred_timex)\n",
    "    pred_timex = pred_timex.slice_intersect(backtests[0])\n",
    "    #     pred_timex = pred_timex.drop_after(backtests[0].time_index()[-1] + pd.Timedelta(days=1))\n",
    "    assert len(pred_timex) == len(backtests[i])\n",
    "\n",
    "    err_mae = mae(pred_timex, series)\n",
    "    err_rmse = rmse(pred_timex, series)\n",
    "\n",
    "    timex_maes[m] = err_mae\n",
    "    timex_rmses[m] = err_rmse"
   ]
  },
  {
   "cell_type": "code",
   "execution_count": 19,
   "id": "47cbf459-1df8-4013-97a4-9351a1edcbf4",
   "metadata": {
    "collapsed": false,
    "jupyter": {
     "outputs_hidden": false
    },
    "pycharm": {
     "name": "#%%\n"
    }
   },
   "outputs": [
    {
     "name": "stdout",
     "output_type": "stream",
     "text": [
      "########## FINAL RESULTS ##########\n",
      "Case: Covid-19 - Multivariate, case: Daily cases, delta: 7\n",
      "MAES\n",
      "Darts results:\n",
      "Exponential smoothing, MAE=2823.24\n",
      "Auto-ARIMA, MAE=2224.84\n",
      "Prophet, MAE=7144.699\n",
      "<darts.models.rnn_model.RNNModel object at 0x7f40dd0e31f0>, MAE=2886.039\n",
      "Timex results:\n",
      "fbprophet, MAE=2752.839\n",
      "------------------------\n",
      "RMSES\n",
      "Darts results:\n",
      "Exponential smoothing, RMSE=3757.231\n",
      "Auto-ARIMA, RMSE=3224.379\n",
      "Prophet, RMSE=9647.744\n",
      "<darts.models.rnn_model.RNNModel object at 0x7f40dd0e31f0>, RMSE=4258.9\n",
      "Timex results:\n",
      "fbprophet, RMSE=4957.999\n"
     ]
    }
   ],
   "source": [
    "print(\"########## FINAL RESULTS ##########\")\n",
    "print(f\"Case: Covid-19 - Multivariate, case: {name}, delta: {delta}\")\n",
    "print(\"MAES\")\n",
    "print(\"Darts results:\")\n",
    "for i, m in enumerate(darts_maes):\n",
    "    print(f\"{m}, MAE={round(darts_maes[m], 3)}\")\n",
    "\n",
    "print(\"Timex results:\")\n",
    "for i, m in enumerate(timex_maes):\n",
    "    print(f\"{m}, MAE={round(timex_maes[m], 3)}\")\n",
    "\n",
    "print(\"------------------------\")\n",
    "print(\"RMSES\")\n",
    "print(\"Darts results:\")\n",
    "\n",
    "for i, m in enumerate(darts_rmses):\n",
    "    print(f\"{m}, RMSE={round(darts_rmses[m], 3)}\")\n",
    "\n",
    "print(\"Timex results:\")\n",
    "for i, m in enumerate(timex_rmses):\n",
    "    print(f\"{m}, RMSE={round(timex_rmses[m], 3)}\")"
   ]
  },
  {
   "cell_type": "markdown",
   "id": "cd1fa61f-05b6-421d-a4a9-3c29147344e4",
   "metadata": {},
   "source": [
    "# Daily deaths"
   ]
  },
  {
   "cell_type": "markdown",
   "id": "46a38cc7-0015-4566-ac31-b18097a5f399",
   "metadata": {},
   "source": [
    "## Delta 1"
   ]
  },
  {
   "cell_type": "code",
   "execution_count": null,
   "id": "4fb94d6d-d357-4db6-a68f-6898439af17c",
   "metadata": {},
   "outputs": [],
   "source": [
    "name = 'Daily deaths'"
   ]
  },
  {
   "cell_type": "code",
   "execution_count": null,
   "id": "a4be583d-2d0d-4b65-a28e-1bd7a28a6604",
   "metadata": {
    "collapsed": false,
    "jupyter": {
     "outputs_hidden": false
    },
    "pycharm": {
     "name": "#%%\n"
    }
   },
   "outputs": [],
   "source": [
    "delta = 1"
   ]
  },
  {
   "cell_type": "code",
   "execution_count": null,
   "id": "b5793b18-3a0b-4bfe-8cf6-9186db618f59",
   "metadata": {
    "collapsed": false,
    "jupyter": {
     "outputs_hidden": false
    },
    "pycharm": {
     "name": "#%%\n"
    }
   },
   "outputs": [],
   "source": [
    "df = pd.read_csv(\"Covid19-italy.csv\", parse_dates=[\"Date\"], index_col=\"Date\")"
   ]
  },
  {
   "cell_type": "code",
   "execution_count": null,
   "id": "4b3694bf-8c77-4772-b3a9-c0b55c4fd50b",
   "metadata": {
    "collapsed": false,
    "jupyter": {
     "outputs_hidden": false
    },
    "pycharm": {
     "name": "#%%\n"
    }
   },
   "outputs": [],
   "source": [
    "df"
   ]
  },
  {
   "cell_type": "code",
   "execution_count": null,
   "id": "52289e0c-7008-43c5-94c3-c7d0ab44e5bb",
   "metadata": {
    "collapsed": false,
    "jupyter": {
     "outputs_hidden": false
    },
    "pycharm": {
     "name": "#%%\n"
    }
   },
   "outputs": [],
   "source": [
    "df = df.loc[:pd.Timestamp(\"20210225\"), :]"
   ]
  },
  {
   "cell_type": "code",
   "execution_count": null,
   "id": "57533df5-cae9-47c2-845f-814f9c157485",
   "metadata": {
    "collapsed": false,
    "jupyter": {
     "outputs_hidden": false
    },
    "pycharm": {
     "name": "#%%\n"
    }
   },
   "outputs": [],
   "source": [
    "df"
   ]
  },
  {
   "cell_type": "code",
   "execution_count": null,
   "id": "455576db-de0d-4c29-957f-d3fd5529a7fb",
   "metadata": {
    "collapsed": false,
    "jupyter": {
     "outputs_hidden": false
    },
    "pycharm": {
     "name": "#%%\n"
    }
   },
   "outputs": [],
   "source": [
    "series = TimeSeries.from_series(df[name])"
   ]
  },
  {
   "cell_type": "markdown",
   "id": "a090e4c3-16a2-4a6d-9814-99a42d36ab6a",
   "metadata": {},
   "source": [
    "## Darts"
   ]
  },
  {
   "cell_type": "code",
   "execution_count": null,
   "id": "962a68e5-0c86-4138-9429-95cd3c99ab46",
   "metadata": {
    "collapsed": false,
    "jupyter": {
     "outputs_hidden": false
    },
    "pycharm": {
     "name": "#%%\n"
    }
   },
   "outputs": [],
   "source": [
    "models = [ExponentialSmoothing(), AutoARIMA(), Prophet()]"
   ]
  },
  {
   "cell_type": "code",
   "execution_count": null,
   "id": "b1e32c11-f756-4b82-8bf0-3a4c1eb7de6c",
   "metadata": {
    "collapsed": false,
    "jupyter": {
     "outputs_hidden": false
    },
    "pycharm": {
     "name": "#%%\n"
    }
   },
   "outputs": [],
   "source": [
    "import functools\n",
    "\n",
    "backtests = []\n",
    "\n",
    "for model in models:\n",
    "    print(f\"{model}: running...\")\n",
    "    initial_time = time.time()\n",
    "    hist_pred = model.historical_forecasts(series,\n",
    "                            start=pd.Timestamp('2020-08-19'),\n",
    "                            forecast_horizon=delta, stride=delta, verbose=True, last_points_only=False)\n",
    "    hist_pred = functools.reduce(lambda a, b: a.append(b), hist_pred)\n",
    "    backtests.append(hist_pred)\n",
    "    \n",
    "    final_time = time.time() - initial_time\n",
    "    print(f\"{model}: final time spent: {round(final_time, 3)}\")"
   ]
  },
  {
   "cell_type": "code",
   "execution_count": null,
   "id": "7ec08ffc-6218-4ce4-93ad-12b7923b5984",
   "metadata": {
    "collapsed": false,
    "jupyter": {
     "outputs_hidden": false
    },
    "pycharm": {
     "name": "#%%\n"
    }
   },
   "outputs": [],
   "source": [
    "from darts.dataprocessing.transformers import Scaler\n",
    "\n",
    "print(f\"LSTM: running...\")\n",
    "initial_time = time.time()\n",
    "transformer = Scaler()\n",
    "transformed_series = transformer.fit_transform(series)\n",
    "lstm = RNNModel(model='LSTM', input_chunk_length=round(len(series)/4), output_chunk_length=1)\n",
    "models.append(lstm)\n",
    "\n",
    "hist_pred =  lstm.historical_forecasts(transformed_series,\n",
    "                            start=pd.Timestamp('2020-08-19'),\n",
    "                            forecast_horizon=delta, stride=delta, verbose=True, last_points_only=False)\n",
    "hist_pred = functools.reduce(lambda a, b: a.append(b), hist_pred)\n",
    "backtests.append(transformer.inverse_transform(hist_pred))\n",
    "final_time = time.time() - initial_time\n",
    "print(f\"LSTM: final time spent: {round(final_time, 3)}\")"
   ]
  },
  {
   "cell_type": "code",
   "execution_count": null,
   "id": "490a7a2d-9b56-4cf9-a153-5147fd3ec177",
   "metadata": {
    "collapsed": false,
    "jupyter": {
     "outputs_hidden": false
    },
    "pycharm": {
     "name": "#%%\n"
    }
   },
   "outputs": [],
   "source": [
    "darts_maes = {}\n",
    "darts_rmses = {}\n",
    "\n",
    "for i, m in enumerate(models):\n",
    "    prediction = backtests[i]\n",
    "    #     print(prediction)\n",
    "    err_mae = mae(backtests[i], series)\n",
    "    err_rmse = rmse(backtests[i], series)\n",
    "    darts_maes[m] = err_mae\n",
    "    darts_rmses[m] = err_rmse\n",
    "\n",
    "    print(f\"{m}: MAE = {round(err_mae, 3)}, RMSE = {round(err_rmse, 3)}\")\n"
   ]
  },
  {
   "cell_type": "markdown",
   "id": "3305748f-731f-4124-80d4-9928b94786bf",
   "metadata": {},
   "source": [
    "## Timex"
   ]
  },
  {
   "cell_type": "code",
   "execution_count": null,
   "id": "6983b166-6c46-4c0a-884b-47042999aa29",
   "metadata": {
    "collapsed": false,
    "jupyter": {
     "outputs_hidden": false
    },
    "pycharm": {
     "name": "#%%\n"
    }
   },
   "outputs": [],
   "source": [
    "with open(f\"univariate/delta_{delta}/historical_predictions.pkl\", 'rb') as file:\n",
    "    p = pickle.load(file)"
   ]
  },
  {
   "cell_type": "code",
   "execution_count": null,
   "id": "050b7d80-bbb4-4bd8-853b-94ac0c0829da",
   "metadata": {
    "collapsed": false,
    "jupyter": {
     "outputs_hidden": false
    },
    "pycharm": {
     "name": "#%%\n"
    }
   },
   "outputs": [],
   "source": [
    "timex_maes = {}\n",
    "timex_rmses = {}\n",
    "\n",
    "for i, m in enumerate(p):\n",
    "    pred_timex = p[m]\n",
    "    pred_timex = pred_timex[name].astype('float')\n",
    "    pred_timex = TimeSeries.from_series(pred_timex)\n",
    "    pred_timex = pred_timex.slice_intersect(backtests[0])\n",
    "    #     pred_timex = pred_timex.drop_after(backtests[0].time_index()[-1] + pd.Timedelta(days=1))\n",
    "    assert len(pred_timex) == len(backtests[i])\n",
    "\n",
    "    err_mae = mae(pred_timex, series)\n",
    "    err_rmse = rmse(pred_timex, series)\n",
    "\n",
    "    timex_maes[m] = err_mae\n",
    "    timex_rmses[m] = err_rmse"
   ]
  },
  {
   "cell_type": "code",
   "execution_count": null,
   "id": "326b052c-6f79-4e83-93aa-8601de06d5bf",
   "metadata": {
    "collapsed": false,
    "jupyter": {
     "outputs_hidden": false
    },
    "pycharm": {
     "name": "#%%\n"
    }
   },
   "outputs": [],
   "source": [
    "print(\"########## FINAL RESULTS ##########\")\n",
    "print(f\"Case: Covid-19, case: {name}, delta: {delta}\")\n",
    "print(\"MAES\")\n",
    "print(\"Darts results:\")\n",
    "for i, m in enumerate(darts_maes):\n",
    "    print(f\"{m}, MAE={round(darts_maes[m], 3)}\")\n",
    "\n",
    "print(\"Timex results:\")\n",
    "for i, m in enumerate(timex_maes):\n",
    "    print(f\"{m}, MAE={round(timex_maes[m], 3)}\")\n",
    "\n",
    "print(\"------------------------\")\n",
    "print(\"RMSES\")\n",
    "print(\"Darts results:\")\n",
    "\n",
    "for i, m in enumerate(darts_rmses):\n",
    "    print(f\"{m}, RMSE={round(darts_rmses[m], 3)}\")\n",
    "\n",
    "print(\"Timex results:\")\n",
    "for i, m in enumerate(timex_rmses):\n",
    "    print(f\"{m}, RMSE={round(timex_rmses[m], 3)}\")"
   ]
  },
  {
   "cell_type": "code",
   "execution_count": null,
   "id": "acfeaf80-c997-4ede-a6ef-51a706a40eea",
   "metadata": {
    "collapsed": false,
    "jupyter": {
     "outputs_hidden": false
    },
    "pycharm": {
     "name": "#%%\n"
    }
   },
   "outputs": [],
   "source": [
    "with open(f\"multivariate/delta_{delta}/historical_predictions.pkl\", 'rb') as file:\n",
    "    p = pickle.load(file)"
   ]
  },
  {
   "cell_type": "code",
   "execution_count": null,
   "id": "35abf6db-aa1e-491e-9460-f9352bce2462",
   "metadata": {
    "collapsed": false,
    "jupyter": {
     "outputs_hidden": false
    },
    "pycharm": {
     "name": "#%%\n"
    }
   },
   "outputs": [],
   "source": [
    "timex_maes = {}\n",
    "timex_rmses = {}\n",
    "\n",
    "for i, m in enumerate(p):\n",
    "    pred_timex = p[m]\n",
    "    pred_timex = pred_timex[name].astype('float')\n",
    "    pred_timex = TimeSeries.from_series(pred_timex)\n",
    "    pred_timex = pred_timex.slice_intersect(backtests[0])\n",
    "    #     pred_timex = pred_timex.drop_after(backtests[0].time_index()[-1] + pd.Timedelta(days=1))\n",
    "    assert len(pred_timex) == len(backtests[i])\n",
    "\n",
    "    err_mae = mae(pred_timex, series)\n",
    "    err_rmse = rmse(pred_timex, series)\n",
    "\n",
    "    timex_maes[m] = err_mae\n",
    "    timex_rmses[m] = err_rmse"
   ]
  },
  {
   "cell_type": "code",
   "execution_count": null,
   "id": "350b1149-9c05-471d-8101-48d499c2bbd3",
   "metadata": {
    "collapsed": false,
    "jupyter": {
     "outputs_hidden": false
    },
    "pycharm": {
     "name": "#%%\n"
    }
   },
   "outputs": [],
   "source": [
    "print(\"########## FINAL RESULTS ##########\")\n",
    "print(f\"Case: Covid-19 - Multivariate, case: {name}, delta: {delta}\")\n",
    "print(\"MAES\")\n",
    "print(\"Darts results:\")\n",
    "for i, m in enumerate(darts_maes):\n",
    "    print(f\"{m}, MAE={round(darts_maes[m], 3)}\")\n",
    "\n",
    "print(\"Timex results:\")\n",
    "for i, m in enumerate(timex_maes):\n",
    "    print(f\"{m}, MAE={round(timex_maes[m], 3)}\")\n",
    "\n",
    "print(\"------------------------\")\n",
    "print(\"RMSES\")\n",
    "print(\"Darts results:\")\n",
    "\n",
    "for i, m in enumerate(darts_rmses):\n",
    "    print(f\"{m}, RMSE={round(darts_rmses[m], 3)}\")\n",
    "\n",
    "print(\"Timex results:\")\n",
    "for i, m in enumerate(timex_rmses):\n",
    "    print(f\"{m}, RMSE={round(timex_rmses[m], 3)}\")"
   ]
  },
  {
   "cell_type": "markdown",
   "id": "e5f12f04-58dd-4a58-96b9-9bd7847af46b",
   "metadata": {},
   "source": [
    "## Delta 7"
   ]
  },
  {
   "cell_type": "code",
   "execution_count": 20,
   "id": "3bb5c389-d745-40bc-8164-862f1a76f0f4",
   "metadata": {},
   "outputs": [],
   "source": [
    "name = 'Daily deaths'"
   ]
  },
  {
   "cell_type": "code",
   "execution_count": 21,
   "id": "b3aabf49-ec60-4466-94d6-b496221d5eaf",
   "metadata": {
    "collapsed": false,
    "jupyter": {
     "outputs_hidden": false
    },
    "pycharm": {
     "name": "#%%\n"
    }
   },
   "outputs": [],
   "source": [
    "delta = 7"
   ]
  },
  {
   "cell_type": "code",
   "execution_count": 22,
   "id": "2f9de3aa-2286-4019-8b7c-4922d8184118",
   "metadata": {
    "collapsed": false,
    "jupyter": {
     "outputs_hidden": false
    },
    "pycharm": {
     "name": "#%%\n"
    }
   },
   "outputs": [],
   "source": [
    "df = pd.read_csv(\"Covid19-italy.csv\", parse_dates=[\"Date\"], index_col=\"Date\")"
   ]
  },
  {
   "cell_type": "code",
   "execution_count": 23,
   "id": "dbba2ea0-efae-41fe-84d5-705dd1691753",
   "metadata": {
    "collapsed": false,
    "jupyter": {
     "outputs_hidden": false
    },
    "pycharm": {
     "name": "#%%\n"
    }
   },
   "outputs": [
    {
     "data": {
      "text/html": [
       "<div>\n",
       "<style scoped>\n",
       "    .dataframe tbody tr th:only-of-type {\n",
       "        vertical-align: middle;\n",
       "    }\n",
       "\n",
       "    .dataframe tbody tr th {\n",
       "        vertical-align: top;\n",
       "    }\n",
       "\n",
       "    .dataframe thead th {\n",
       "        text-align: right;\n",
       "    }\n",
       "</style>\n",
       "<table border=\"1\" class=\"dataframe\">\n",
       "  <thead>\n",
       "    <tr style=\"text-align: right;\">\n",
       "      <th></th>\n",
       "      <th>Daily cases</th>\n",
       "      <th>Total positives</th>\n",
       "      <th>Total positives variation</th>\n",
       "      <th>Total intensive care</th>\n",
       "      <th>Total hospitalized</th>\n",
       "      <th>Total deaths</th>\n",
       "      <th>Tests</th>\n",
       "      <th>Daily intensive care</th>\n",
       "      <th>Daily hospitalized</th>\n",
       "      <th>Daily deaths</th>\n",
       "      <th>Daily tests</th>\n",
       "    </tr>\n",
       "    <tr>\n",
       "      <th>Date</th>\n",
       "      <th></th>\n",
       "      <th></th>\n",
       "      <th></th>\n",
       "      <th></th>\n",
       "      <th></th>\n",
       "      <th></th>\n",
       "      <th></th>\n",
       "      <th></th>\n",
       "      <th></th>\n",
       "      <th></th>\n",
       "      <th></th>\n",
       "    </tr>\n",
       "  </thead>\n",
       "  <tbody>\n",
       "    <tr>\n",
       "      <th>2020-02-25</th>\n",
       "      <td>93</td>\n",
       "      <td>311</td>\n",
       "      <td>90</td>\n",
       "      <td>35</td>\n",
       "      <td>150</td>\n",
       "      <td>10</td>\n",
       "      <td>8623</td>\n",
       "      <td>9.0</td>\n",
       "      <td>23.0</td>\n",
       "      <td>3.0</td>\n",
       "      <td>4299.0</td>\n",
       "    </tr>\n",
       "    <tr>\n",
       "      <th>2020-02-26</th>\n",
       "      <td>78</td>\n",
       "      <td>385</td>\n",
       "      <td>74</td>\n",
       "      <td>36</td>\n",
       "      <td>164</td>\n",
       "      <td>12</td>\n",
       "      <td>9587</td>\n",
       "      <td>1.0</td>\n",
       "      <td>14.0</td>\n",
       "      <td>2.0</td>\n",
       "      <td>964.0</td>\n",
       "    </tr>\n",
       "    <tr>\n",
       "      <th>2020-02-27</th>\n",
       "      <td>250</td>\n",
       "      <td>588</td>\n",
       "      <td>203</td>\n",
       "      <td>56</td>\n",
       "      <td>304</td>\n",
       "      <td>17</td>\n",
       "      <td>12014</td>\n",
       "      <td>20.0</td>\n",
       "      <td>140.0</td>\n",
       "      <td>5.0</td>\n",
       "      <td>2427.0</td>\n",
       "    </tr>\n",
       "    <tr>\n",
       "      <th>2020-02-28</th>\n",
       "      <td>238</td>\n",
       "      <td>821</td>\n",
       "      <td>233</td>\n",
       "      <td>64</td>\n",
       "      <td>409</td>\n",
       "      <td>21</td>\n",
       "      <td>15695</td>\n",
       "      <td>8.0</td>\n",
       "      <td>105.0</td>\n",
       "      <td>4.0</td>\n",
       "      <td>3681.0</td>\n",
       "    </tr>\n",
       "    <tr>\n",
       "      <th>2020-02-29</th>\n",
       "      <td>240</td>\n",
       "      <td>1049</td>\n",
       "      <td>228</td>\n",
       "      <td>105</td>\n",
       "      <td>506</td>\n",
       "      <td>29</td>\n",
       "      <td>18661</td>\n",
       "      <td>41.0</td>\n",
       "      <td>97.0</td>\n",
       "      <td>8.0</td>\n",
       "      <td>2966.0</td>\n",
       "    </tr>\n",
       "    <tr>\n",
       "      <th>...</th>\n",
       "      <td>...</td>\n",
       "      <td>...</td>\n",
       "      <td>...</td>\n",
       "      <td>...</td>\n",
       "      <td>...</td>\n",
       "      <td>...</td>\n",
       "      <td>...</td>\n",
       "      <td>...</td>\n",
       "      <td>...</td>\n",
       "      <td>...</td>\n",
       "      <td>...</td>\n",
       "    </tr>\n",
       "    <tr>\n",
       "      <th>2021-05-21</th>\n",
       "      <td>5218</td>\n",
       "      <td>291788</td>\n",
       "      <td>-7698</td>\n",
       "      <td>1469</td>\n",
       "      <td>11394</td>\n",
       "      <td>125028</td>\n",
       "      <td>64092492</td>\n",
       "      <td>-75.0</td>\n",
       "      <td>-533.0</td>\n",
       "      <td>218.0</td>\n",
       "      <td>269744.0</td>\n",
       "    </tr>\n",
       "    <tr>\n",
       "      <th>2021-05-22</th>\n",
       "      <td>4717</td>\n",
       "      <td>283744</td>\n",
       "      <td>-8044</td>\n",
       "      <td>1430</td>\n",
       "      <td>10918</td>\n",
       "      <td>125153</td>\n",
       "      <td>64379095</td>\n",
       "      <td>-39.0</td>\n",
       "      <td>-476.0</td>\n",
       "      <td>125.0</td>\n",
       "      <td>286603.0</td>\n",
       "    </tr>\n",
       "    <tr>\n",
       "      <th>2021-05-23</th>\n",
       "      <td>3995</td>\n",
       "      <td>281092</td>\n",
       "      <td>-2652</td>\n",
       "      <td>1410</td>\n",
       "      <td>10571</td>\n",
       "      <td>125225</td>\n",
       "      <td>64558486</td>\n",
       "      <td>-20.0</td>\n",
       "      <td>-347.0</td>\n",
       "      <td>72.0</td>\n",
       "      <td>179391.0</td>\n",
       "    </tr>\n",
       "    <tr>\n",
       "      <th>2021-05-24</th>\n",
       "      <td>2490</td>\n",
       "      <td>276439</td>\n",
       "      <td>-4653</td>\n",
       "      <td>1382</td>\n",
       "      <td>10332</td>\n",
       "      <td>125335</td>\n",
       "      <td>64665967</td>\n",
       "      <td>-28.0</td>\n",
       "      <td>-239.0</td>\n",
       "      <td>110.0</td>\n",
       "      <td>107481.0</td>\n",
       "    </tr>\n",
       "    <tr>\n",
       "      <th>2021-05-25</th>\n",
       "      <td>3224</td>\n",
       "      <td>268145</td>\n",
       "      <td>-8294</td>\n",
       "      <td>1323</td>\n",
       "      <td>9880</td>\n",
       "      <td>125501</td>\n",
       "      <td>64918613</td>\n",
       "      <td>-59.0</td>\n",
       "      <td>-452.0</td>\n",
       "      <td>166.0</td>\n",
       "      <td>252646.0</td>\n",
       "    </tr>\n",
       "  </tbody>\n",
       "</table>\n",
       "<p>456 rows × 11 columns</p>\n",
       "</div>"
      ],
      "text/plain": [
       "            Daily cases  Total positives  Total positives variation  \\\n",
       "Date                                                                  \n",
       "2020-02-25           93              311                         90   \n",
       "2020-02-26           78              385                         74   \n",
       "2020-02-27          250              588                        203   \n",
       "2020-02-28          238              821                        233   \n",
       "2020-02-29          240             1049                        228   \n",
       "...                 ...              ...                        ...   \n",
       "2021-05-21         5218           291788                      -7698   \n",
       "2021-05-22         4717           283744                      -8044   \n",
       "2021-05-23         3995           281092                      -2652   \n",
       "2021-05-24         2490           276439                      -4653   \n",
       "2021-05-25         3224           268145                      -8294   \n",
       "\n",
       "            Total intensive care  Total hospitalized  Total deaths     Tests  \\\n",
       "Date                                                                           \n",
       "2020-02-25                    35                 150            10      8623   \n",
       "2020-02-26                    36                 164            12      9587   \n",
       "2020-02-27                    56                 304            17     12014   \n",
       "2020-02-28                    64                 409            21     15695   \n",
       "2020-02-29                   105                 506            29     18661   \n",
       "...                          ...                 ...           ...       ...   \n",
       "2021-05-21                  1469               11394        125028  64092492   \n",
       "2021-05-22                  1430               10918        125153  64379095   \n",
       "2021-05-23                  1410               10571        125225  64558486   \n",
       "2021-05-24                  1382               10332        125335  64665967   \n",
       "2021-05-25                  1323                9880        125501  64918613   \n",
       "\n",
       "            Daily intensive care  Daily hospitalized  Daily deaths  \\\n",
       "Date                                                                 \n",
       "2020-02-25                   9.0                23.0           3.0   \n",
       "2020-02-26                   1.0                14.0           2.0   \n",
       "2020-02-27                  20.0               140.0           5.0   \n",
       "2020-02-28                   8.0               105.0           4.0   \n",
       "2020-02-29                  41.0                97.0           8.0   \n",
       "...                          ...                 ...           ...   \n",
       "2021-05-21                 -75.0              -533.0         218.0   \n",
       "2021-05-22                 -39.0              -476.0         125.0   \n",
       "2021-05-23                 -20.0              -347.0          72.0   \n",
       "2021-05-24                 -28.0              -239.0         110.0   \n",
       "2021-05-25                 -59.0              -452.0         166.0   \n",
       "\n",
       "            Daily tests  \n",
       "Date                     \n",
       "2020-02-25       4299.0  \n",
       "2020-02-26        964.0  \n",
       "2020-02-27       2427.0  \n",
       "2020-02-28       3681.0  \n",
       "2020-02-29       2966.0  \n",
       "...                 ...  \n",
       "2021-05-21     269744.0  \n",
       "2021-05-22     286603.0  \n",
       "2021-05-23     179391.0  \n",
       "2021-05-24     107481.0  \n",
       "2021-05-25     252646.0  \n",
       "\n",
       "[456 rows x 11 columns]"
      ]
     },
     "execution_count": 23,
     "metadata": {},
     "output_type": "execute_result"
    }
   ],
   "source": [
    "df"
   ]
  },
  {
   "cell_type": "code",
   "execution_count": 24,
   "id": "16786632-0506-44c8-9373-9cdbd90985a5",
   "metadata": {
    "collapsed": false,
    "jupyter": {
     "outputs_hidden": false
    },
    "pycharm": {
     "name": "#%%\n"
    }
   },
   "outputs": [],
   "source": [
    "df = df.loc[:pd.Timestamp(\"20210225\"), :]"
   ]
  },
  {
   "cell_type": "code",
   "execution_count": 25,
   "id": "b4f7a410-7416-44f3-9e69-02500ca5664b",
   "metadata": {
    "collapsed": false,
    "jupyter": {
     "outputs_hidden": false
    },
    "pycharm": {
     "name": "#%%\n"
    }
   },
   "outputs": [
    {
     "data": {
      "text/html": [
       "<div>\n",
       "<style scoped>\n",
       "    .dataframe tbody tr th:only-of-type {\n",
       "        vertical-align: middle;\n",
       "    }\n",
       "\n",
       "    .dataframe tbody tr th {\n",
       "        vertical-align: top;\n",
       "    }\n",
       "\n",
       "    .dataframe thead th {\n",
       "        text-align: right;\n",
       "    }\n",
       "</style>\n",
       "<table border=\"1\" class=\"dataframe\">\n",
       "  <thead>\n",
       "    <tr style=\"text-align: right;\">\n",
       "      <th></th>\n",
       "      <th>Daily cases</th>\n",
       "      <th>Total positives</th>\n",
       "      <th>Total positives variation</th>\n",
       "      <th>Total intensive care</th>\n",
       "      <th>Total hospitalized</th>\n",
       "      <th>Total deaths</th>\n",
       "      <th>Tests</th>\n",
       "      <th>Daily intensive care</th>\n",
       "      <th>Daily hospitalized</th>\n",
       "      <th>Daily deaths</th>\n",
       "      <th>Daily tests</th>\n",
       "    </tr>\n",
       "    <tr>\n",
       "      <th>Date</th>\n",
       "      <th></th>\n",
       "      <th></th>\n",
       "      <th></th>\n",
       "      <th></th>\n",
       "      <th></th>\n",
       "      <th></th>\n",
       "      <th></th>\n",
       "      <th></th>\n",
       "      <th></th>\n",
       "      <th></th>\n",
       "      <th></th>\n",
       "    </tr>\n",
       "  </thead>\n",
       "  <tbody>\n",
       "    <tr>\n",
       "      <th>2020-02-25</th>\n",
       "      <td>93</td>\n",
       "      <td>311</td>\n",
       "      <td>90</td>\n",
       "      <td>35</td>\n",
       "      <td>150</td>\n",
       "      <td>10</td>\n",
       "      <td>8623</td>\n",
       "      <td>9.0</td>\n",
       "      <td>23.0</td>\n",
       "      <td>3.0</td>\n",
       "      <td>4299.0</td>\n",
       "    </tr>\n",
       "    <tr>\n",
       "      <th>2020-02-26</th>\n",
       "      <td>78</td>\n",
       "      <td>385</td>\n",
       "      <td>74</td>\n",
       "      <td>36</td>\n",
       "      <td>164</td>\n",
       "      <td>12</td>\n",
       "      <td>9587</td>\n",
       "      <td>1.0</td>\n",
       "      <td>14.0</td>\n",
       "      <td>2.0</td>\n",
       "      <td>964.0</td>\n",
       "    </tr>\n",
       "    <tr>\n",
       "      <th>2020-02-27</th>\n",
       "      <td>250</td>\n",
       "      <td>588</td>\n",
       "      <td>203</td>\n",
       "      <td>56</td>\n",
       "      <td>304</td>\n",
       "      <td>17</td>\n",
       "      <td>12014</td>\n",
       "      <td>20.0</td>\n",
       "      <td>140.0</td>\n",
       "      <td>5.0</td>\n",
       "      <td>2427.0</td>\n",
       "    </tr>\n",
       "    <tr>\n",
       "      <th>2020-02-28</th>\n",
       "      <td>238</td>\n",
       "      <td>821</td>\n",
       "      <td>233</td>\n",
       "      <td>64</td>\n",
       "      <td>409</td>\n",
       "      <td>21</td>\n",
       "      <td>15695</td>\n",
       "      <td>8.0</td>\n",
       "      <td>105.0</td>\n",
       "      <td>4.0</td>\n",
       "      <td>3681.0</td>\n",
       "    </tr>\n",
       "    <tr>\n",
       "      <th>2020-02-29</th>\n",
       "      <td>240</td>\n",
       "      <td>1049</td>\n",
       "      <td>228</td>\n",
       "      <td>105</td>\n",
       "      <td>506</td>\n",
       "      <td>29</td>\n",
       "      <td>18661</td>\n",
       "      <td>41.0</td>\n",
       "      <td>97.0</td>\n",
       "      <td>8.0</td>\n",
       "      <td>2966.0</td>\n",
       "    </tr>\n",
       "    <tr>\n",
       "      <th>...</th>\n",
       "      <td>...</td>\n",
       "      <td>...</td>\n",
       "      <td>...</td>\n",
       "      <td>...</td>\n",
       "      <td>...</td>\n",
       "      <td>...</td>\n",
       "      <td>...</td>\n",
       "      <td>...</td>\n",
       "      <td>...</td>\n",
       "      <td>...</td>\n",
       "      <td>...</td>\n",
       "    </tr>\n",
       "    <tr>\n",
       "      <th>2021-02-21</th>\n",
       "      <td>13452</td>\n",
       "      <td>388895</td>\n",
       "      <td>4272</td>\n",
       "      <td>2094</td>\n",
       "      <td>19898</td>\n",
       "      <td>95718</td>\n",
       "      <td>38058939</td>\n",
       "      <td>31.0</td>\n",
       "      <td>110.0</td>\n",
       "      <td>232.0</td>\n",
       "      <td>250986.0</td>\n",
       "    </tr>\n",
       "    <tr>\n",
       "      <th>2021-02-22</th>\n",
       "      <td>9630</td>\n",
       "      <td>387903</td>\n",
       "      <td>-992</td>\n",
       "      <td>2118</td>\n",
       "      <td>20273</td>\n",
       "      <td>95992</td>\n",
       "      <td>38229611</td>\n",
       "      <td>24.0</td>\n",
       "      <td>375.0</td>\n",
       "      <td>274.0</td>\n",
       "      <td>170672.0</td>\n",
       "    </tr>\n",
       "    <tr>\n",
       "      <th>2021-02-23</th>\n",
       "      <td>13314</td>\n",
       "      <td>387948</td>\n",
       "      <td>45</td>\n",
       "      <td>2146</td>\n",
       "      <td>20441</td>\n",
       "      <td>96348</td>\n",
       "      <td>38533461</td>\n",
       "      <td>28.0</td>\n",
       "      <td>168.0</td>\n",
       "      <td>356.0</td>\n",
       "      <td>303850.0</td>\n",
       "    </tr>\n",
       "    <tr>\n",
       "      <th>2021-02-24</th>\n",
       "      <td>16424</td>\n",
       "      <td>389433</td>\n",
       "      <td>1485</td>\n",
       "      <td>2157</td>\n",
       "      <td>20374</td>\n",
       "      <td>96666</td>\n",
       "      <td>38873708</td>\n",
       "      <td>11.0</td>\n",
       "      <td>-67.0</td>\n",
       "      <td>318.0</td>\n",
       "      <td>340247.0</td>\n",
       "    </tr>\n",
       "    <tr>\n",
       "      <th>2021-02-25</th>\n",
       "      <td>19886</td>\n",
       "      <td>396143</td>\n",
       "      <td>6710</td>\n",
       "      <td>2168</td>\n",
       "      <td>20425</td>\n",
       "      <td>96974</td>\n",
       "      <td>39227412</td>\n",
       "      <td>11.0</td>\n",
       "      <td>51.0</td>\n",
       "      <td>308.0</td>\n",
       "      <td>353704.0</td>\n",
       "    </tr>\n",
       "  </tbody>\n",
       "</table>\n",
       "<p>367 rows × 11 columns</p>\n",
       "</div>"
      ],
      "text/plain": [
       "            Daily cases  Total positives  Total positives variation  \\\n",
       "Date                                                                  \n",
       "2020-02-25           93              311                         90   \n",
       "2020-02-26           78              385                         74   \n",
       "2020-02-27          250              588                        203   \n",
       "2020-02-28          238              821                        233   \n",
       "2020-02-29          240             1049                        228   \n",
       "...                 ...              ...                        ...   \n",
       "2021-02-21        13452           388895                       4272   \n",
       "2021-02-22         9630           387903                       -992   \n",
       "2021-02-23        13314           387948                         45   \n",
       "2021-02-24        16424           389433                       1485   \n",
       "2021-02-25        19886           396143                       6710   \n",
       "\n",
       "            Total intensive care  Total hospitalized  Total deaths     Tests  \\\n",
       "Date                                                                           \n",
       "2020-02-25                    35                 150            10      8623   \n",
       "2020-02-26                    36                 164            12      9587   \n",
       "2020-02-27                    56                 304            17     12014   \n",
       "2020-02-28                    64                 409            21     15695   \n",
       "2020-02-29                   105                 506            29     18661   \n",
       "...                          ...                 ...           ...       ...   \n",
       "2021-02-21                  2094               19898         95718  38058939   \n",
       "2021-02-22                  2118               20273         95992  38229611   \n",
       "2021-02-23                  2146               20441         96348  38533461   \n",
       "2021-02-24                  2157               20374         96666  38873708   \n",
       "2021-02-25                  2168               20425         96974  39227412   \n",
       "\n",
       "            Daily intensive care  Daily hospitalized  Daily deaths  \\\n",
       "Date                                                                 \n",
       "2020-02-25                   9.0                23.0           3.0   \n",
       "2020-02-26                   1.0                14.0           2.0   \n",
       "2020-02-27                  20.0               140.0           5.0   \n",
       "2020-02-28                   8.0               105.0           4.0   \n",
       "2020-02-29                  41.0                97.0           8.0   \n",
       "...                          ...                 ...           ...   \n",
       "2021-02-21                  31.0               110.0         232.0   \n",
       "2021-02-22                  24.0               375.0         274.0   \n",
       "2021-02-23                  28.0               168.0         356.0   \n",
       "2021-02-24                  11.0               -67.0         318.0   \n",
       "2021-02-25                  11.0                51.0         308.0   \n",
       "\n",
       "            Daily tests  \n",
       "Date                     \n",
       "2020-02-25       4299.0  \n",
       "2020-02-26        964.0  \n",
       "2020-02-27       2427.0  \n",
       "2020-02-28       3681.0  \n",
       "2020-02-29       2966.0  \n",
       "...                 ...  \n",
       "2021-02-21     250986.0  \n",
       "2021-02-22     170672.0  \n",
       "2021-02-23     303850.0  \n",
       "2021-02-24     340247.0  \n",
       "2021-02-25     353704.0  \n",
       "\n",
       "[367 rows x 11 columns]"
      ]
     },
     "execution_count": 25,
     "metadata": {},
     "output_type": "execute_result"
    }
   ],
   "source": [
    "df"
   ]
  },
  {
   "cell_type": "code",
   "execution_count": 26,
   "id": "4f17e800-cb17-4e34-b7f7-0e9c76885ccf",
   "metadata": {
    "collapsed": false,
    "jupyter": {
     "outputs_hidden": false
    },
    "pycharm": {
     "name": "#%%\n"
    }
   },
   "outputs": [],
   "source": [
    "series = TimeSeries.from_series(df[name])"
   ]
  },
  {
   "cell_type": "markdown",
   "id": "a81d7912-5d9f-4247-ad07-144bd12c2e94",
   "metadata": {},
   "source": [
    "## Darts"
   ]
  },
  {
   "cell_type": "code",
   "execution_count": 27,
   "id": "dc51610d-1a99-4233-ac46-8deb7ada78bd",
   "metadata": {
    "collapsed": false,
    "jupyter": {
     "outputs_hidden": false
    },
    "pycharm": {
     "name": "#%%\n"
    }
   },
   "outputs": [],
   "source": [
    "models = [ExponentialSmoothing(), AutoARIMA(), Prophet()]"
   ]
  },
  {
   "cell_type": "code",
   "execution_count": 28,
   "id": "4854bd6e-b363-4a09-a344-0152a31a5182",
   "metadata": {
    "collapsed": false,
    "jupyter": {
     "outputs_hidden": false
    },
    "pycharm": {
     "name": "#%%\n"
    }
   },
   "outputs": [
    {
     "name": "stdout",
     "output_type": "stream",
     "text": [
      "Exponential smoothing: running...\n"
     ]
    },
    {
     "data": {
      "application/vnd.jupyter.widget-view+json": {
       "model_id": "cf10452bd0e34071b1ff914bc138e381",
       "version_major": 2,
       "version_minor": 0
      },
      "text/plain": [
       "  0%|          | 0/27 [00:00<?, ?it/s]"
      ]
     },
     "metadata": {},
     "output_type": "display_data"
    },
    {
     "name": "stdout",
     "output_type": "stream",
     "text": [
      "Exponential smoothing: final time spent: 3.682\n",
      "Auto-ARIMA: running...\n"
     ]
    },
    {
     "data": {
      "application/vnd.jupyter.widget-view+json": {
       "model_id": "39f0cf8b709e4681a915612392f8e5e4",
       "version_major": 2,
       "version_minor": 0
      },
      "text/plain": [
       "  0%|          | 0/27 [00:00<?, ?it/s]"
      ]
     },
     "metadata": {},
     "output_type": "display_data"
    },
    {
     "name": "stdout",
     "output_type": "stream",
     "text": [
      "Auto-ARIMA: final time spent: 199.429\n",
      "Prophet: running...\n"
     ]
    },
    {
     "data": {
      "application/vnd.jupyter.widget-view+json": {
       "model_id": "660b282624c34925b990499fb91d35f5",
       "version_major": 2,
       "version_minor": 0
      },
      "text/plain": [
       "  0%|          | 0/27 [00:00<?, ?it/s]"
      ]
     },
     "metadata": {},
     "output_type": "display_data"
    },
    {
     "name": "stdout",
     "output_type": "stream",
     "text": [
      "Prophet: final time spent: 39.514\n"
     ]
    }
   ],
   "source": [
    "import functools\n",
    "\n",
    "backtests = []\n",
    "\n",
    "for model in models:\n",
    "    print(f\"{model}: running...\")\n",
    "    initial_time = time.time()\n",
    "    hist_pred = model.historical_forecasts(series,\n",
    "                            start=pd.Timestamp('2020-08-19'),\n",
    "                            forecast_horizon=delta, stride=delta, verbose=True, last_points_only=False)\n",
    "    hist_pred = functools.reduce(lambda a, b: a.append(b), hist_pred)\n",
    "    backtests.append(hist_pred)\n",
    "    \n",
    "    final_time = time.time() - initial_time\n",
    "    print(f\"{model}: final time spent: {round(final_time, 3)}\")"
   ]
  },
  {
   "cell_type": "code",
   "execution_count": 29,
   "id": "828a5782-a84b-48f9-9de5-2ac8d0336706",
   "metadata": {
    "collapsed": false,
    "jupyter": {
     "outputs_hidden": false
    },
    "pycharm": {
     "name": "#%%\n"
    }
   },
   "outputs": [
    {
     "name": "stdout",
     "output_type": "stream",
     "text": [
      "LSTM: running...\n"
     ]
    },
    {
     "data": {
      "application/vnd.jupyter.widget-view+json": {
       "model_id": "32f41c805c834725ac5b0652ecab54cf",
       "version_major": 2,
       "version_minor": 0
      },
      "text/plain": [
       "  0%|          | 0/27 [00:00<?, ?it/s]"
      ]
     },
     "metadata": {},
     "output_type": "display_data"
    },
    {
     "name": "stdout",
     "output_type": "stream",
     "text": [
      "LSTM: final time spent: 73.014\n"
     ]
    }
   ],
   "source": [
    "from darts.dataprocessing.transformers import Scaler\n",
    "\n",
    "print(f\"LSTM: running...\")\n",
    "initial_time = time.time()\n",
    "transformer = Scaler()\n",
    "transformed_series = transformer.fit_transform(series)\n",
    "lstm = RNNModel(model='LSTM', input_chunk_length=round(len(series)/4), output_chunk_length=1)\n",
    "models.append(lstm)\n",
    "\n",
    "hist_pred =  lstm.historical_forecasts(transformed_series,\n",
    "                            start=pd.Timestamp('2020-08-19'),\n",
    "                            forecast_horizon=delta, stride=delta, verbose=True, last_points_only=False)\n",
    "hist_pred = functools.reduce(lambda a, b: a.append(b), hist_pred)\n",
    "backtests.append(transformer.inverse_transform(hist_pred))\n",
    "final_time = time.time() - initial_time\n",
    "print(f\"LSTM: final time spent: {round(final_time, 3)}\")"
   ]
  },
  {
   "cell_type": "code",
   "execution_count": 30,
   "id": "9ce78d86-11ca-485d-90f6-8c7ddd8b2870",
   "metadata": {
    "collapsed": false,
    "jupyter": {
     "outputs_hidden": false
    },
    "pycharm": {
     "name": "#%%\n"
    }
   },
   "outputs": [
    {
     "name": "stdout",
     "output_type": "stream",
     "text": [
      "Exponential smoothing: MAE = 62.484, RMSE = 94.394\n",
      "Auto-ARIMA: MAE = 51.062, RMSE = 82.213\n",
      "Prophet: MAE = 208.744, RMSE = 238.023\n",
      "<darts.models.rnn_model.RNNModel object at 0x7f404bfc8340>: MAE = 63.319, RMSE = 88.318\n"
     ]
    }
   ],
   "source": [
    "darts_maes = {}\n",
    "darts_rmses = {}\n",
    "\n",
    "for i, m in enumerate(models):\n",
    "    prediction = backtests[i]\n",
    "    #     print(prediction)\n",
    "    err_mae = mae(backtests[i], series)\n",
    "    err_rmse = rmse(backtests[i], series)\n",
    "    darts_maes[m] = err_mae\n",
    "    darts_rmses[m] = err_rmse\n",
    "\n",
    "    print(f\"{m}: MAE = {round(err_mae, 3)}, RMSE = {round(err_rmse, 3)}\")\n"
   ]
  },
  {
   "cell_type": "markdown",
   "id": "ef5fb161-79fc-4038-ba82-54f6231de97f",
   "metadata": {},
   "source": [
    "## Timex"
   ]
  },
  {
   "cell_type": "code",
   "execution_count": 31,
   "id": "2124a32b-0103-4fa7-be9a-1346cf8a55b8",
   "metadata": {
    "collapsed": false,
    "jupyter": {
     "outputs_hidden": false
    },
    "pycharm": {
     "name": "#%%\n"
    }
   },
   "outputs": [],
   "source": [
    "with open(f\"univariate/delta_{delta}/historical_predictions.pkl\", 'rb') as file:\n",
    "    p = pickle.load(file)"
   ]
  },
  {
   "cell_type": "code",
   "execution_count": 32,
   "id": "8b01cf27-16a8-471b-b56b-9e60e91af476",
   "metadata": {
    "collapsed": false,
    "jupyter": {
     "outputs_hidden": false
    },
    "pycharm": {
     "name": "#%%\n"
    }
   },
   "outputs": [],
   "source": [
    "timex_maes = {}\n",
    "timex_rmses = {}\n",
    "\n",
    "for i, m in enumerate(p):\n",
    "    pred_timex = p[m]\n",
    "    pred_timex = pred_timex[name].astype('float')\n",
    "    pred_timex = TimeSeries.from_series(pred_timex)\n",
    "    pred_timex = pred_timex.slice_intersect(backtests[0])\n",
    "    #     pred_timex = pred_timex.drop_after(backtests[0].time_index()[-1] + pd.Timedelta(days=1))\n",
    "    assert len(pred_timex) == len(backtests[i])\n",
    "\n",
    "    err_mae = mae(pred_timex, series)\n",
    "    err_rmse = rmse(pred_timex, series)\n",
    "\n",
    "    timex_maes[m] = err_mae\n",
    "    timex_rmses[m] = err_rmse"
   ]
  },
  {
   "cell_type": "code",
   "execution_count": 33,
   "id": "30440a80-2399-46a3-ba98-f79dd4407c39",
   "metadata": {
    "collapsed": false,
    "jupyter": {
     "outputs_hidden": false
    },
    "pycharm": {
     "name": "#%%\n"
    }
   },
   "outputs": [
    {
     "name": "stdout",
     "output_type": "stream",
     "text": [
      "########## FINAL RESULTS ##########\n",
      "Case: Covid-19, case: Daily deaths, delta: 7\n",
      "MAES\n",
      "Darts results:\n",
      "Exponential smoothing, MAE=62.484\n",
      "Auto-ARIMA, MAE=51.062\n",
      "Prophet, MAE=208.744\n",
      "<darts.models.rnn_model.RNNModel object at 0x7f404bfc8340>, MAE=63.319\n",
      "Timex results:\n",
      "exponentialsmoothing, MAE=42.487\n",
      "fbprophet, MAE=59.522\n",
      "lstm, MAE=68.49\n",
      "arima, MAE=55.921\n",
      "------------------------\n",
      "RMSES\n",
      "Darts results:\n",
      "Exponential smoothing, RMSE=94.394\n",
      "Auto-ARIMA, RMSE=82.213\n",
      "Prophet, RMSE=238.023\n",
      "<darts.models.rnn_model.RNNModel object at 0x7f404bfc8340>, RMSE=88.318\n",
      "Timex results:\n",
      "exponentialsmoothing, RMSE=64.44\n",
      "fbprophet, RMSE=100.179\n",
      "lstm, RMSE=100.057\n",
      "arima, RMSE=94.462\n"
     ]
    }
   ],
   "source": [
    "print(\"########## FINAL RESULTS ##########\")\n",
    "print(f\"Case: Covid-19, case: {name}, delta: {delta}\")\n",
    "print(\"MAES\")\n",
    "print(\"Darts results:\")\n",
    "for i, m in enumerate(darts_maes):\n",
    "    print(f\"{m}, MAE={round(darts_maes[m], 3)}\")\n",
    "\n",
    "print(\"Timex results:\")\n",
    "for i, m in enumerate(timex_maes):\n",
    "    print(f\"{m}, MAE={round(timex_maes[m], 3)}\")\n",
    "\n",
    "print(\"------------------------\")\n",
    "print(\"RMSES\")\n",
    "print(\"Darts results:\")\n",
    "\n",
    "for i, m in enumerate(darts_rmses):\n",
    "    print(f\"{m}, RMSE={round(darts_rmses[m], 3)}\")\n",
    "\n",
    "print(\"Timex results:\")\n",
    "for i, m in enumerate(timex_rmses):\n",
    "    print(f\"{m}, RMSE={round(timex_rmses[m], 3)}\")"
   ]
  },
  {
   "cell_type": "code",
   "execution_count": 34,
   "id": "a44c874e-2ca5-4a34-9d63-adb2057fe154",
   "metadata": {
    "collapsed": false,
    "jupyter": {
     "outputs_hidden": false
    },
    "pycharm": {
     "name": "#%%\n"
    }
   },
   "outputs": [],
   "source": [
    "with open(f\"multivariate/delta_{delta}/historical_predictions.pkl\", 'rb') as file:\n",
    "    p = pickle.load(file)"
   ]
  },
  {
   "cell_type": "code",
   "execution_count": 35,
   "id": "49f83f1f-c826-46e6-bace-044114fbfd02",
   "metadata": {
    "collapsed": false,
    "jupyter": {
     "outputs_hidden": false
    },
    "pycharm": {
     "name": "#%%\n"
    }
   },
   "outputs": [],
   "source": [
    "timex_maes = {}\n",
    "timex_rmses = {}\n",
    "\n",
    "for i, m in enumerate(p):\n",
    "    pred_timex = p[m]\n",
    "    pred_timex = pred_timex[name].astype('float')\n",
    "    pred_timex = TimeSeries.from_series(pred_timex)\n",
    "    pred_timex = pred_timex.slice_intersect(backtests[0])\n",
    "    #     pred_timex = pred_timex.drop_after(backtests[0].time_index()[-1] + pd.Timedelta(days=1))\n",
    "    assert len(pred_timex) == len(backtests[i])\n",
    "\n",
    "    err_mae = mae(pred_timex, series)\n",
    "    err_rmse = rmse(pred_timex, series)\n",
    "\n",
    "    timex_maes[m] = err_mae\n",
    "    timex_rmses[m] = err_rmse"
   ]
  },
  {
   "cell_type": "code",
   "execution_count": 36,
   "id": "278f6195-a423-40b5-b8ab-e282d3d90af2",
   "metadata": {
    "collapsed": false,
    "jupyter": {
     "outputs_hidden": false
    },
    "pycharm": {
     "name": "#%%\n"
    }
   },
   "outputs": [
    {
     "name": "stdout",
     "output_type": "stream",
     "text": [
      "########## FINAL RESULTS ##########\n",
      "Case: Covid-19 - Multivariate, case: Daily deaths, delta: 7\n",
      "MAES\n",
      "Darts results:\n",
      "Exponential smoothing, MAE=62.484\n",
      "Auto-ARIMA, MAE=51.062\n",
      "Prophet, MAE=208.744\n",
      "<darts.models.rnn_model.RNNModel object at 0x7f404bfc8340>, MAE=63.319\n",
      "Timex results:\n",
      "fbprophet, MAE=74.646\n",
      "------------------------\n",
      "RMSES\n",
      "Darts results:\n",
      "Exponential smoothing, RMSE=94.394\n",
      "Auto-ARIMA, RMSE=82.213\n",
      "Prophet, RMSE=238.023\n",
      "<darts.models.rnn_model.RNNModel object at 0x7f404bfc8340>, RMSE=88.318\n",
      "Timex results:\n",
      "fbprophet, RMSE=170.897\n"
     ]
    }
   ],
   "source": [
    "print(\"########## FINAL RESULTS ##########\")\n",
    "print(f\"Case: Covid-19 - Multivariate, case: {name}, delta: {delta}\")\n",
    "print(\"MAES\")\n",
    "print(\"Darts results:\")\n",
    "for i, m in enumerate(darts_maes):\n",
    "    print(f\"{m}, MAE={round(darts_maes[m], 3)}\")\n",
    "\n",
    "print(\"Timex results:\")\n",
    "for i, m in enumerate(timex_maes):\n",
    "    print(f\"{m}, MAE={round(timex_maes[m], 3)}\")\n",
    "\n",
    "print(\"------------------------\")\n",
    "print(\"RMSES\")\n",
    "print(\"Darts results:\")\n",
    "\n",
    "for i, m in enumerate(darts_rmses):\n",
    "    print(f\"{m}, RMSE={round(darts_rmses[m], 3)}\")\n",
    "\n",
    "print(\"Timex results:\")\n",
    "for i, m in enumerate(timex_rmses):\n",
    "    print(f\"{m}, RMSE={round(timex_rmses[m], 3)}\")"
   ]
  },
  {
   "cell_type": "code",
   "execution_count": null,
   "id": "39e74811-317d-4ee1-90cb-f94b784f5cb6",
   "metadata": {},
   "outputs": [],
   "source": []
  }
 ],
 "metadata": {
  "kernelspec": {
   "display_name": "timex_darts",
   "language": "python",
   "name": "timex_darts"
  },
  "language_info": {
   "codemirror_mode": {
    "name": "ipython",
    "version": 3
   },
   "file_extension": ".py",
   "mimetype": "text/x-python",
   "name": "python",
   "nbconvert_exporter": "python",
   "pygments_lexer": "ipython3",
   "version": "3.8.9"
  }
 },
 "nbformat": 4,
 "nbformat_minor": 5
}
